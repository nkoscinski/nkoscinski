{
  "cells": [
    {
      "cell_type": "markdown",
      "metadata": {
        "id": "view-in-github",
        "colab_type": "text"
      },
      "source": [
        "<a href=\"https://colab.research.google.com/github/nkoscinski/nkoscinski/blob/main/00_tensorflow_fundamentals.ipynb\" target=\"_parent\"><img src=\"https://colab.research.google.com/assets/colab-badge.svg\" alt=\"Open In Colab\"/></a>"
      ]
    },
    {
      "cell_type": "markdown",
      "source": [
        "### This notebook is the 1st Colab notebook I created while going through a TensorFlow fundamentals online course. It coveres the basics of TensorFlow"
      ],
      "metadata": {
        "id": "L_Ff8D1C5sJm"
      }
    },
    {
      "cell_type": "markdown",
      "metadata": {
        "id": "KLbOdKG-nTls"
      },
      "source": [
        "# In this notebook, we're going to cover some of the most fundamental concepts of tensors using TensorFlow\n",
        "\n",
        "More specifically, we're going to cover:\n",
        "- Introduction to tensors\n",
        "- Getting information from tensors\n",
        "- Manipulating tensors\n",
        "- Tensors & NumPy\n",
        "- Using tf.function (a way to speed up you regular Python functions)\n",
        "- Using GPPUs with TensorFlow (or TPUs)\n",
        "- Exercises to try for yourself!"
      ]
    },
    {
      "cell_type": "markdown",
      "metadata": {
        "id": "Dxv_m6AsnnUZ"
      },
      "source": [
        "## Introduction to Tensors"
      ]
    },
    {
      "cell_type": "code",
      "execution_count": null,
      "metadata": {
        "colab": {
          "base_uri": "https://localhost:8080/"
        },
        "id": "jMjCqmuooKIx",
        "outputId": "c0981e06-0e3d-49c2-d0da-79c95fe59443"
      },
      "outputs": [
        {
          "output_type": "stream",
          "name": "stdout",
          "text": [
            "2.13.0\n"
          ]
        }
      ],
      "source": [
        "# Import TensorFlow\n",
        "import tensorflow as tf\n",
        "print(tf.__version__)"
      ]
    },
    {
      "cell_type": "code",
      "execution_count": null,
      "metadata": {
        "colab": {
          "base_uri": "https://localhost:8080/"
        },
        "id": "MvPQCw3WoYww",
        "outputId": "60b053fb-2550-44ef-9320-785ff3795e4a"
      },
      "outputs": [
        {
          "output_type": "execute_result",
          "data": {
            "text/plain": [
              "<tf.Tensor: shape=(), dtype=int32, numpy=7>"
            ]
          },
          "metadata": {},
          "execution_count": 2
        }
      ],
      "source": [
        "# Create tensors with tf.constant()\n",
        "scalar = tf.constant(7)\n",
        "scalar"
      ]
    },
    {
      "cell_type": "code",
      "execution_count": null,
      "metadata": {
        "colab": {
          "base_uri": "https://localhost:8080/"
        },
        "id": "R47PhDpuo3qH",
        "outputId": "92ff1681-3314-42ca-90ee-0cf95199f335"
      },
      "outputs": [
        {
          "output_type": "execute_result",
          "data": {
            "text/plain": [
              "0"
            ]
          },
          "metadata": {},
          "execution_count": 3
        }
      ],
      "source": [
        "# Check the number of dimensions of a tensor (ndim stands for number of dimensions)\n",
        "scalar.ndim"
      ]
    },
    {
      "cell_type": "code",
      "execution_count": null,
      "metadata": {
        "colab": {
          "base_uri": "https://localhost:8080/"
        },
        "id": "lGbTW3_FpTKZ",
        "outputId": "a1f030dc-4ae3-4116-c089-9133a593d8b5"
      },
      "outputs": [
        {
          "output_type": "execute_result",
          "data": {
            "text/plain": [
              "<tf.Tensor: shape=(2,), dtype=int32, numpy=array([10, 10], dtype=int32)>"
            ]
          },
          "metadata": {},
          "execution_count": 4
        }
      ],
      "source": [
        "# Create a vector\n",
        "vector = tf.constant([10, 10])\n",
        "vector"
      ]
    },
    {
      "cell_type": "code",
      "execution_count": null,
      "metadata": {
        "colab": {
          "base_uri": "https://localhost:8080/"
        },
        "id": "Ug_LGsExpoup",
        "outputId": "0387d4ab-efa5-4c01-c542-0677d0d9368c"
      },
      "outputs": [
        {
          "output_type": "execute_result",
          "data": {
            "text/plain": [
              "1"
            ]
          },
          "metadata": {},
          "execution_count": 5
        }
      ],
      "source": [
        "# Check the dimension of our vector\n",
        "vector.ndim"
      ]
    },
    {
      "cell_type": "code",
      "execution_count": null,
      "metadata": {
        "colab": {
          "base_uri": "https://localhost:8080/"
        },
        "id": "nwf4LG_hq77n",
        "outputId": "1b69a007-6f73-4353-926b-0322ccbbbdd2"
      },
      "outputs": [
        {
          "output_type": "execute_result",
          "data": {
            "text/plain": [
              "<tf.Tensor: shape=(2, 2), dtype=int32, numpy=\n",
              "array([[10,  7],\n",
              "       [ 7, 10]], dtype=int32)>"
            ]
          },
          "metadata": {},
          "execution_count": 6
        }
      ],
      "source": [
        "# Create a matrix (has more than 1 dimension)\n",
        "matrix = tf.constant([[10, 7],\n",
        "                     [7, 10]])\n",
        "matrix"
      ]
    },
    {
      "cell_type": "code",
      "execution_count": null,
      "metadata": {
        "colab": {
          "base_uri": "https://localhost:8080/"
        },
        "id": "TKXS1obErJhO",
        "outputId": "2de1f886-29ce-4b3c-b45d-062f21c10109"
      },
      "outputs": [
        {
          "output_type": "execute_result",
          "data": {
            "text/plain": [
              "2"
            ]
          },
          "metadata": {},
          "execution_count": 7
        }
      ],
      "source": [
        "matrix.ndim"
      ]
    },
    {
      "cell_type": "code",
      "execution_count": null,
      "metadata": {
        "colab": {
          "base_uri": "https://localhost:8080/"
        },
        "id": "O-Y4Bd9ArSqa",
        "outputId": "0a978d67-5043-4e20-b233-af3fde14c7f0"
      },
      "outputs": [
        {
          "output_type": "execute_result",
          "data": {
            "text/plain": [
              "<tf.Tensor: shape=(3, 2), dtype=float16, numpy=\n",
              "array([[10.,  7.],\n",
              "       [ 3.,  2.],\n",
              "       [ 8.,  9.]], dtype=float16)>"
            ]
          },
          "metadata": {},
          "execution_count": 8
        }
      ],
      "source": [
        "# Create another matrix\n",
        "another_matrix = tf.constant([[10., 7],\n",
        "                              [3., 2.],\n",
        "                              [8., 9.]], dtype=tf.float16) # specify the datatype with dtype parameter\n",
        "another_matrix"
      ]
    },
    {
      "cell_type": "code",
      "execution_count": null,
      "metadata": {
        "colab": {
          "base_uri": "https://localhost:8080/"
        },
        "id": "vUJYvoNSsevo",
        "outputId": "253d2393-b421-4cf5-8014-464fe99e67e7"
      },
      "outputs": [
        {
          "output_type": "execute_result",
          "data": {
            "text/plain": [
              "2"
            ]
          },
          "metadata": {},
          "execution_count": 9
        }
      ],
      "source": [
        "another_matrix.ndim"
      ]
    },
    {
      "cell_type": "code",
      "execution_count": null,
      "metadata": {
        "colab": {
          "base_uri": "https://localhost:8080/"
        },
        "id": "OKZOQ0A9slDW",
        "outputId": "54d8b668-0af1-4817-cbd4-ea3edd5b2fe9"
      },
      "outputs": [
        {
          "output_type": "execute_result",
          "data": {
            "text/plain": [
              "tf.float16"
            ]
          },
          "metadata": {},
          "execution_count": 10
        }
      ],
      "source": [
        "another_matrix.dtype"
      ]
    },
    {
      "cell_type": "code",
      "execution_count": null,
      "metadata": {
        "colab": {
          "base_uri": "https://localhost:8080/"
        },
        "id": "tTSo01KWsp_R",
        "outputId": "5230e023-e864-4f37-8a77-60ec33a72667"
      },
      "outputs": [
        {
          "output_type": "execute_result",
          "data": {
            "text/plain": [
              "<tf.Tensor: shape=(3, 2, 3), dtype=int32, numpy=\n",
              "array([[[ 1,  2,  3],\n",
              "        [ 4,  5,  6]],\n",
              "\n",
              "       [[ 7,  8,  9],\n",
              "        [10, 11, 12]],\n",
              "\n",
              "       [[13, 14, 15],\n",
              "        [16, 17, 18]]], dtype=int32)>"
            ]
          },
          "metadata": {},
          "execution_count": 11
        }
      ],
      "source": [
        "# Let's create a tensor\n",
        "tensor = tf.constant([[[1, 2, 3],\n",
        "                      [4, 5, 6]],\n",
        "                      [[7, 8, 9],\n",
        "                      [10, 11 , 12]],\n",
        "                     [[13, 14, 15],\n",
        "                      [16, 17, 18]]])\n",
        "tensor"
      ]
    },
    {
      "cell_type": "code",
      "execution_count": null,
      "metadata": {
        "colab": {
          "base_uri": "https://localhost:8080/"
        },
        "id": "GKPqhzGUtWje",
        "outputId": "1c6154bd-83d8-4675-eaf8-5d22b4d791a9"
      },
      "outputs": [
        {
          "output_type": "execute_result",
          "data": {
            "text/plain": [
              "3"
            ]
          },
          "metadata": {},
          "execution_count": 12
        }
      ],
      "source": [
        "tensor.ndim"
      ]
    },
    {
      "cell_type": "markdown",
      "metadata": {
        "id": "kEO6mmTIt2SW"
      },
      "source": [
        "What we've created so far:\n",
        "- Scalar: a single number\n",
        "- Vector: a vector with direction (ex. wind speed and direction)\n",
        "- Matrix: a 2-dimensional array of numbers\n",
        "- Tensor: an n-dimensional array of numbers (when n can be any number, a 0-dimensional tensor is a scalar, a 1-dimensional tensor is a vector)"
      ]
    },
    {
      "cell_type": "markdown",
      "metadata": {
        "id": "0U-dreAUvgYq"
      },
      "source": [
        "### Creating tensors with tf.Variable"
      ]
    },
    {
      "cell_type": "code",
      "execution_count": null,
      "metadata": {
        "colab": {
          "base_uri": "https://localhost:8080/"
        },
        "id": "sXbuDty-uxyU",
        "outputId": "d3f8a3fd-2b52-456b-b5bc-8bbbd94829d0"
      },
      "outputs": [
        {
          "output_type": "execute_result",
          "data": {
            "text/plain": [
              "(<tf.Variable 'Variable:0' shape=(2,) dtype=int32, numpy=array([10,  7], dtype=int32)>,\n",
              " <tf.Tensor: shape=(2,), dtype=int32, numpy=array([10,  7], dtype=int32)>)"
            ]
          },
          "metadata": {},
          "execution_count": 13
        }
      ],
      "source": [
        "# Create the same tensor with tf.Variable() as above\n",
        "changeable_tensor = tf.Variable([10, 7])\n",
        "unchangeable_tensor = tf.constant([10, 7])\n",
        "changeable_tensor, unchangeable_tensor"
      ]
    },
    {
      "cell_type": "code",
      "execution_count": null,
      "metadata": {
        "colab": {
          "base_uri": "https://localhost:8080/"
        },
        "id": "Fio5p5VbwIXS",
        "outputId": "211d1716-6f7f-44b2-a6d6-a43d07556740"
      },
      "outputs": [
        {
          "output_type": "execute_result",
          "data": {
            "text/plain": [
              "<tf.Variable 'Variable:0' shape=(2,) dtype=int32, numpy=array([7, 7], dtype=int32)>"
            ]
          },
          "metadata": {},
          "execution_count": 14
        }
      ],
      "source": [
        "# Let's try to change one of the elements in our changeable tensor\n",
        "changeable_tensor[0].assign(7)\n",
        "changeable_tensor"
      ]
    },
    {
      "cell_type": "code",
      "execution_count": null,
      "metadata": {
        "colab": {
          "base_uri": "https://localhost:8080/"
        },
        "id": "dcNCC--bwXoZ",
        "outputId": "ee106515-5371-40c6-ac03-76e2fb4ae160"
      },
      "outputs": [
        {
          "output_type": "execute_result",
          "data": {
            "text/plain": [
              "<tf.Variable 'Variable:0' shape=(2,) dtype=int32, numpy=array([7, 7], dtype=int32)>"
            ]
          },
          "metadata": {},
          "execution_count": 15
        }
      ],
      "source": [
        "# Try .assign()\n",
        "changeable_tensor[0].assign(7)\n",
        "changeable_tensor"
      ]
    },
    {
      "cell_type": "code",
      "execution_count": null,
      "metadata": {
        "colab": {
          "base_uri": "https://localhost:8080/",
          "height": 339
        },
        "id": "6E5Fuc--wnW-",
        "outputId": "3c97fc1f-dad8-49d3-f9ae-b75b7a6b6bd2"
      },
      "outputs": [
        {
          "output_type": "error",
          "ename": "AttributeError",
          "evalue": "ignored",
          "traceback": [
            "\u001b[0;31m---------------------------------------------------------------------------\u001b[0m",
            "\u001b[0;31mAttributeError\u001b[0m                            Traceback (most recent call last)",
            "\u001b[0;32m<ipython-input-17-86978136be0a>\u001b[0m in \u001b[0;36m<cell line: 2>\u001b[0;34m()\u001b[0m\n\u001b[1;32m      1\u001b[0m \u001b[0;31m# Try to change unchangeable tensor\u001b[0m\u001b[0;34m\u001b[0m\u001b[0;34m\u001b[0m\u001b[0m\n\u001b[0;32m----> 2\u001b[0;31m \u001b[0munchangeable_tensor\u001b[0m\u001b[0;34m[\u001b[0m\u001b[0;36m0\u001b[0m\u001b[0;34m]\u001b[0m\u001b[0;34m.\u001b[0m\u001b[0massign\u001b[0m\u001b[0;34m(\u001b[0m\u001b[0;36m7\u001b[0m\u001b[0;34m)\u001b[0m\u001b[0;34m\u001b[0m\u001b[0;34m\u001b[0m\u001b[0m\n\u001b[0m\u001b[1;32m      3\u001b[0m \u001b[0munchangeable_tensor\u001b[0m\u001b[0;34m\u001b[0m\u001b[0;34m\u001b[0m\u001b[0m\n",
            "\u001b[0;32m/usr/local/lib/python3.10/dist-packages/tensorflow/python/framework/ops.py\u001b[0m in \u001b[0;36m__getattr__\u001b[0;34m(self, name)\u001b[0m\n\u001b[1;32m    428\u001b[0m         \u001b[0mnp_config\u001b[0m\u001b[0;34m.\u001b[0m\u001b[0menable_numpy_behavior\u001b[0m\u001b[0;34m(\u001b[0m\u001b[0;34m)\u001b[0m\u001b[0;34m\u001b[0m\u001b[0;34m\u001b[0m\u001b[0m\n\u001b[1;32m    429\u001b[0m       \"\"\")\n\u001b[0;32m--> 430\u001b[0;31m     \u001b[0mself\u001b[0m\u001b[0;34m.\u001b[0m\u001b[0m__getattribute__\u001b[0m\u001b[0;34m(\u001b[0m\u001b[0mname\u001b[0m\u001b[0;34m)\u001b[0m\u001b[0;34m\u001b[0m\u001b[0;34m\u001b[0m\u001b[0m\n\u001b[0m\u001b[1;32m    431\u001b[0m \u001b[0;34m\u001b[0m\u001b[0m\n\u001b[1;32m    432\u001b[0m   \u001b[0;34m@\u001b[0m\u001b[0mproperty\u001b[0m\u001b[0;34m\u001b[0m\u001b[0;34m\u001b[0m\u001b[0m\n",
            "\u001b[0;31mAttributeError\u001b[0m: 'tensorflow.python.framework.ops.EagerTensor' object has no attribute 'assign'"
          ]
        }
      ],
      "source": [
        "# Try to change unchangeable tensor\n",
        "unchangeable_tensor[0].assign(7)\n",
        "unchangeable_tensor"
      ]
    },
    {
      "cell_type": "markdown",
      "metadata": {
        "id": "TQrUObZuw2vB"
      },
      "source": [
        "**Note:** Rarely in practice will you need to decide whether to use tf.consant or tf.Variable to create tensors, as TensorFlow does this for you. However, if in doubt, use tf.constant and change it later if needed:"
      ]
    },
    {
      "cell_type": "markdown",
      "metadata": {
        "id": "lAyZBfy-ygZ5"
      },
      "source": [
        "### Creating random tensors\n",
        "\n",
        "Random tensors are random of some arbitrary size which contain random numbers"
      ]
    },
    {
      "cell_type": "code",
      "execution_count": null,
      "metadata": {
        "colab": {
          "base_uri": "https://localhost:8080/"
        },
        "id": "W4q9YUuayk4V",
        "outputId": "c3b87219-8b6b-42bc-9bc6-0625b9471d56"
      },
      "outputs": [
        {
          "output_type": "execute_result",
          "data": {
            "text/plain": [
              "<tf.Tensor: shape=(3, 2), dtype=float32, numpy=\n",
              "array([[-0.7565803 , -0.06854702],\n",
              "       [ 0.07595026, -1.2573844 ],\n",
              "       [-0.23193765, -1.8107855 ]], dtype=float32)>"
            ]
          },
          "metadata": {},
          "execution_count": 18
        }
      ],
      "source": [
        "# Create two random (but the same) tensors\n",
        "random_1 = tf.random.Generator.from_seed(42) # set seed for reproducibility\n",
        "random_1 = random_1.normal(shape=(3, 2))\n",
        "random_1"
      ]
    },
    {
      "cell_type": "code",
      "execution_count": null,
      "metadata": {
        "colab": {
          "base_uri": "https://localhost:8080/"
        },
        "id": "Vj13hFY4z2bl",
        "outputId": "c7af2bec-9d8a-407a-da8a-20b52f486a4c"
      },
      "outputs": [
        {
          "output_type": "execute_result",
          "data": {
            "text/plain": [
              "<tf.Tensor: shape=(3, 2), dtype=float32, numpy=\n",
              "array([[-0.7565803 , -0.06854702],\n",
              "       [ 0.07595026, -1.2573844 ],\n",
              "       [-0.23193765, -1.8107855 ]], dtype=float32)>"
            ]
          },
          "metadata": {},
          "execution_count": 19
        }
      ],
      "source": [
        "random_2 = tf.random.Generator.from_seed(42)\n",
        "random_2 = random_2.normal(shape=(3, 2))\n",
        "random_2"
      ]
    },
    {
      "cell_type": "code",
      "execution_count": null,
      "metadata": {
        "colab": {
          "base_uri": "https://localhost:8080/"
        },
        "id": "imQoS_ck03tQ",
        "outputId": "30b29c70-58d8-4ca8-b4ea-6687f9bcb700"
      },
      "outputs": [
        {
          "output_type": "execute_result",
          "data": {
            "text/plain": [
              "<tf.Tensor: shape=(3, 2), dtype=bool, numpy=\n",
              "array([[ True,  True],\n",
              "       [ True,  True],\n",
              "       [ True,  True]])>"
            ]
          },
          "metadata": {},
          "execution_count": 20
        }
      ],
      "source": [
        "# Are they equal?\n",
        "random_1 == random_2"
      ]
    },
    {
      "cell_type": "markdown",
      "metadata": {
        "id": "CXBqCmvt1FoZ"
      },
      "source": [
        "### Shuffle the order of elements in a tensor"
      ]
    },
    {
      "cell_type": "code",
      "execution_count": null,
      "metadata": {
        "colab": {
          "base_uri": "https://localhost:8080/"
        },
        "id": "7P1sl_jT4HWW",
        "outputId": "e5427865-7956-4fcc-94e2-af61d9b9206e"
      },
      "outputs": [
        {
          "output_type": "execute_result",
          "data": {
            "text/plain": [
              "2"
            ]
          },
          "metadata": {},
          "execution_count": 21
        }
      ],
      "source": [
        "# Shuffle a tensor (valuable for when you want to shuffle your data so the inherent order does not effect learning)\n",
        "not_shuffled = tf.constant([[10, 7],\n",
        "                            [3, 4],\n",
        "                            [2, 5]])\n",
        "not_shuffled.ndim"
      ]
    },
    {
      "cell_type": "code",
      "execution_count": null,
      "metadata": {
        "colab": {
          "base_uri": "https://localhost:8080/"
        },
        "id": "9ClL-Cyt43H3",
        "outputId": "5d700f2b-b9b5-42d5-e480-92294cd9848d"
      },
      "outputs": [
        {
          "output_type": "execute_result",
          "data": {
            "text/plain": [
              "<tf.Tensor: shape=(3, 2), dtype=int32, numpy=\n",
              "array([[10,  7],\n",
              "       [ 3,  4],\n",
              "       [ 2,  5]], dtype=int32)>"
            ]
          },
          "metadata": {},
          "execution_count": 22
        }
      ],
      "source": [
        "not_shuffled"
      ]
    },
    {
      "cell_type": "code",
      "execution_count": null,
      "metadata": {
        "colab": {
          "base_uri": "https://localhost:8080/"
        },
        "id": "vyHVzXZs4806",
        "outputId": "2ced0ae3-5391-496a-bf50-4cc68721272f"
      },
      "outputs": [
        {
          "output_type": "execute_result",
          "data": {
            "text/plain": [
              "<tf.Tensor: shape=(3, 2), dtype=int32, numpy=\n",
              "array([[10,  7],\n",
              "       [ 3,  4],\n",
              "       [ 2,  5]], dtype=int32)>"
            ]
          },
          "metadata": {},
          "execution_count": 23
        }
      ],
      "source": [
        "# Shuffle our non-shuffled tensor\n",
        "tf.random.shuffle(not_shuffled)"
      ]
    },
    {
      "cell_type": "code",
      "execution_count": null,
      "metadata": {
        "colab": {
          "base_uri": "https://localhost:8080/"
        },
        "id": "KzOE-G5Z5Vgn",
        "outputId": "40b37ed3-d57c-4211-dc09-73c115cbda29"
      },
      "outputs": [
        {
          "output_type": "execute_result",
          "data": {
            "text/plain": [
              "<tf.Tensor: shape=(3, 2), dtype=int32, numpy=\n",
              "array([[10,  7],\n",
              "       [ 3,  4],\n",
              "       [ 2,  5]], dtype=int32)>"
            ]
          },
          "metadata": {},
          "execution_count": 24
        }
      ],
      "source": [
        "# Shuffle our non-shuffled tensor with seed\n",
        "tf.random.set_seed(42)\n",
        "tf.random.shuffle(not_shuffled, seed=42)"
      ]
    },
    {
      "cell_type": "markdown",
      "metadata": {
        "id": "wc-FH-p9SwAo"
      },
      "source": [
        "It looks like if we want our shuffled tensors to be in the same order, we've got to use the global level random seed as well as the operation level random seed"
      ]
    },
    {
      "cell_type": "code",
      "execution_count": null,
      "metadata": {
        "colab": {
          "base_uri": "https://localhost:8080/"
        },
        "id": "xHrK_7Oz5rRO",
        "outputId": "04285ef6-25f3-49ed-e95a-1434b114fdb7"
      },
      "outputs": [
        {
          "output_type": "execute_result",
          "data": {
            "text/plain": [
              "<tf.Tensor: shape=(3, 2), dtype=int32, numpy=\n",
              "array([[10,  7],\n",
              "       [ 3,  4],\n",
              "       [ 2,  5]], dtype=int32)>"
            ]
          },
          "metadata": {},
          "execution_count": 25
        }
      ],
      "source": [
        "tf.random.set_seed(42) # global level random seed\n",
        "tf.random.shuffle(not_shuffled, seed=42) # operation level random seed"
      ]
    },
    {
      "cell_type": "markdown",
      "metadata": {
        "id": "KBqXhuVPSj0p"
      },
      "source": [
        "### Other ways to make tensors"
      ]
    },
    {
      "cell_type": "code",
      "execution_count": null,
      "metadata": {
        "colab": {
          "base_uri": "https://localhost:8080/"
        },
        "id": "1z4vdFVITGGA",
        "outputId": "4bf87c43-d808-4bd1-95a2-1eb24436e484"
      },
      "outputs": [
        {
          "output_type": "execute_result",
          "data": {
            "text/plain": [
              "<tf.Tensor: shape=(10, 7), dtype=float32, numpy=\n",
              "array([[1., 1., 1., 1., 1., 1., 1.],\n",
              "       [1., 1., 1., 1., 1., 1., 1.],\n",
              "       [1., 1., 1., 1., 1., 1., 1.],\n",
              "       [1., 1., 1., 1., 1., 1., 1.],\n",
              "       [1., 1., 1., 1., 1., 1., 1.],\n",
              "       [1., 1., 1., 1., 1., 1., 1.],\n",
              "       [1., 1., 1., 1., 1., 1., 1.],\n",
              "       [1., 1., 1., 1., 1., 1., 1.],\n",
              "       [1., 1., 1., 1., 1., 1., 1.],\n",
              "       [1., 1., 1., 1., 1., 1., 1.]], dtype=float32)>"
            ]
          },
          "metadata": {},
          "execution_count": 26
        }
      ],
      "source": [
        "# Create of a tensor of all ones\n",
        "tf.ones([10, 7])"
      ]
    },
    {
      "cell_type": "code",
      "execution_count": null,
      "metadata": {
        "colab": {
          "base_uri": "https://localhost:8080/"
        },
        "id": "tzkTBkMITTPP",
        "outputId": "28dde72e-5c4e-46f8-d1b1-8ff8f8eb7253"
      },
      "outputs": [
        {
          "output_type": "execute_result",
          "data": {
            "text/plain": [
              "<tf.Tensor: shape=(10, 7), dtype=float32, numpy=\n",
              "array([[0., 0., 0., 0., 0., 0., 0.],\n",
              "       [0., 0., 0., 0., 0., 0., 0.],\n",
              "       [0., 0., 0., 0., 0., 0., 0.],\n",
              "       [0., 0., 0., 0., 0., 0., 0.],\n",
              "       [0., 0., 0., 0., 0., 0., 0.],\n",
              "       [0., 0., 0., 0., 0., 0., 0.],\n",
              "       [0., 0., 0., 0., 0., 0., 0.],\n",
              "       [0., 0., 0., 0., 0., 0., 0.],\n",
              "       [0., 0., 0., 0., 0., 0., 0.],\n",
              "       [0., 0., 0., 0., 0., 0., 0.]], dtype=float32)>"
            ]
          },
          "metadata": {},
          "execution_count": 27
        }
      ],
      "source": [
        "# Create a tensor of all zeros\n",
        "tf.zeros([10, 7])"
      ]
    },
    {
      "cell_type": "markdown",
      "metadata": {
        "id": "jR3atwARTWjF"
      },
      "source": [
        "### Turn NumPy arrays into tensors\n",
        "\n",
        "The main difference between NumPy arraya and TensorFlow is that tensors can be run on a GPU (much faster for numerical computing)"
      ]
    },
    {
      "cell_type": "code",
      "execution_count": null,
      "metadata": {
        "colab": {
          "base_uri": "https://localhost:8080/"
        },
        "id": "da2t1UnMULq9",
        "outputId": "839754ac-a6f1-425b-9a3f-b5456cb33d0d"
      },
      "outputs": [
        {
          "output_type": "execute_result",
          "data": {
            "text/plain": [
              "array([ 1,  2,  3,  4,  5,  6,  7,  8,  9, 10, 11, 12, 13, 14, 15, 16, 17,\n",
              "       18, 19, 20, 21, 22, 23, 24], dtype=int32)"
            ]
          },
          "metadata": {},
          "execution_count": 28
        }
      ],
      "source": [
        "# You can also turn NumPy arrays into tensors\n",
        "import numpy as np\n",
        "numpy_A = np.arange(1, 25, dtype=np.int32) # create a NumPy array between 1 and 25\n",
        "numpy_A\n",
        "\n",
        "# X = tf.constant(some_matrix) # capital for maxtrix or tensor\n",
        "# y = tf.constant(vector) # non-capital for vector"
      ]
    },
    {
      "cell_type": "code",
      "execution_count": null,
      "metadata": {
        "colab": {
          "base_uri": "https://localhost:8080/"
        },
        "id": "ANa7vOU4UsgW",
        "outputId": "3e20855a-9aa9-45a1-ae38-57d31943e8e2"
      },
      "outputs": [
        {
          "output_type": "execute_result",
          "data": {
            "text/plain": [
              "(<tf.Tensor: shape=(2, 3, 4), dtype=int32, numpy=\n",
              " array([[[ 1,  2,  3,  4],\n",
              "         [ 5,  6,  7,  8],\n",
              "         [ 9, 10, 11, 12]],\n",
              " \n",
              "        [[13, 14, 15, 16],\n",
              "         [17, 18, 19, 20],\n",
              "         [21, 22, 23, 24]]], dtype=int32)>,\n",
              " <tf.Tensor: shape=(24,), dtype=int32, numpy=\n",
              " array([ 1,  2,  3,  4,  5,  6,  7,  8,  9, 10, 11, 12, 13, 14, 15, 16, 17,\n",
              "        18, 19, 20, 21, 22, 23, 24], dtype=int32)>)"
            ]
          },
          "metadata": {},
          "execution_count": 29
        }
      ],
      "source": [
        "A = tf.constant(numpy_A, shape=(2, 3, 4)) # must have same mumber of elements as original array (2*3*4=24)\n",
        "B = tf.constant(numpy_A)\n",
        "A, B"
      ]
    },
    {
      "cell_type": "markdown",
      "metadata": {
        "id": "oRVWKcnTU2pA"
      },
      "source": [
        "### Getting information from tensors\n",
        "\n",
        "When dealing with tensors you probably want to be aware of the following attributes:\n",
        "- Shape\n",
        "- Rank\n",
        "- Axis or dimensions\n",
        "- Size"
      ]
    },
    {
      "cell_type": "code",
      "execution_count": null,
      "metadata": {
        "colab": {
          "base_uri": "https://localhost:8080/"
        },
        "id": "gafqMAxMAmDH",
        "outputId": "122bb4a6-7da6-45d1-fae7-aecfd654c57d"
      },
      "outputs": [
        {
          "output_type": "execute_result",
          "data": {
            "text/plain": [
              "<tf.Tensor: shape=(2, 3, 4, 5), dtype=float32, numpy=\n",
              "array([[[[0., 0., 0., 0., 0.],\n",
              "         [0., 0., 0., 0., 0.],\n",
              "         [0., 0., 0., 0., 0.],\n",
              "         [0., 0., 0., 0., 0.]],\n",
              "\n",
              "        [[0., 0., 0., 0., 0.],\n",
              "         [0., 0., 0., 0., 0.],\n",
              "         [0., 0., 0., 0., 0.],\n",
              "         [0., 0., 0., 0., 0.]],\n",
              "\n",
              "        [[0., 0., 0., 0., 0.],\n",
              "         [0., 0., 0., 0., 0.],\n",
              "         [0., 0., 0., 0., 0.],\n",
              "         [0., 0., 0., 0., 0.]]],\n",
              "\n",
              "\n",
              "       [[[0., 0., 0., 0., 0.],\n",
              "         [0., 0., 0., 0., 0.],\n",
              "         [0., 0., 0., 0., 0.],\n",
              "         [0., 0., 0., 0., 0.]],\n",
              "\n",
              "        [[0., 0., 0., 0., 0.],\n",
              "         [0., 0., 0., 0., 0.],\n",
              "         [0., 0., 0., 0., 0.],\n",
              "         [0., 0., 0., 0., 0.]],\n",
              "\n",
              "        [[0., 0., 0., 0., 0.],\n",
              "         [0., 0., 0., 0., 0.],\n",
              "         [0., 0., 0., 0., 0.],\n",
              "         [0., 0., 0., 0., 0.]]]], dtype=float32)>"
            ]
          },
          "metadata": {},
          "execution_count": 30
        }
      ],
      "source": [
        "# Create a rank 4 tensor (4 dimensions)\n",
        "rank_4_tensor = tf.zeros(shape=[2, 3, 4, 5])\n",
        "rank_4_tensor"
      ]
    },
    {
      "cell_type": "code",
      "execution_count": null,
      "metadata": {
        "colab": {
          "base_uri": "https://localhost:8080/"
        },
        "id": "niyF47KkBXSb",
        "outputId": "3ece5933-880d-4a2b-ad0c-5e4ea3767297"
      },
      "outputs": [
        {
          "output_type": "execute_result",
          "data": {
            "text/plain": [
              "<tf.Tensor: shape=(3, 4, 5), dtype=float32, numpy=\n",
              "array([[[0., 0., 0., 0., 0.],\n",
              "        [0., 0., 0., 0., 0.],\n",
              "        [0., 0., 0., 0., 0.],\n",
              "        [0., 0., 0., 0., 0.]],\n",
              "\n",
              "       [[0., 0., 0., 0., 0.],\n",
              "        [0., 0., 0., 0., 0.],\n",
              "        [0., 0., 0., 0., 0.],\n",
              "        [0., 0., 0., 0., 0.]],\n",
              "\n",
              "       [[0., 0., 0., 0., 0.],\n",
              "        [0., 0., 0., 0., 0.],\n",
              "        [0., 0., 0., 0., 0.],\n",
              "        [0., 0., 0., 0., 0.]]], dtype=float32)>"
            ]
          },
          "metadata": {},
          "execution_count": 31
        }
      ],
      "source": [
        "rank_4_tensor[0]"
      ]
    },
    {
      "cell_type": "code",
      "execution_count": null,
      "metadata": {
        "colab": {
          "base_uri": "https://localhost:8080/"
        },
        "id": "1ZBIZYOlB2nK",
        "outputId": "bcf449d7-b50e-4b2e-8485-b927d26fb64a"
      },
      "outputs": [
        {
          "output_type": "execute_result",
          "data": {
            "text/plain": [
              "(TensorShape([2, 3, 4, 5]), 4, <tf.Tensor: shape=(), dtype=int32, numpy=120>)"
            ]
          },
          "metadata": {},
          "execution_count": 32
        }
      ],
      "source": [
        "rank_4_tensor.shape, rank_4_tensor.ndim, tf.size(rank_4_tensor)"
      ]
    },
    {
      "cell_type": "code",
      "execution_count": null,
      "metadata": {
        "colab": {
          "base_uri": "https://localhost:8080/"
        },
        "id": "Z3ybBIvECWDF",
        "outputId": "28693249-2bce-40d0-da86-4e6f3305f1ef"
      },
      "outputs": [
        {
          "output_type": "stream",
          "name": "stdout",
          "text": [
            "Datatype of every element: <dtype: 'float32'>\n",
            "Number of dimensions (rank): 4\n",
            "Shape of tensor: (2, 3, 4, 5)\n",
            "Elements along the 0 axis: 2\n",
            "Elements along the last axis: 5\n",
            "Total number of elements in our tensor: 120\n"
          ]
        }
      ],
      "source": [
        "# Ger various attributes of our tensor\n",
        "print(\"Datatype of every element:\", rank_4_tensor.dtype)\n",
        "print(\"Number of dimensions (rank):\", rank_4_tensor.ndim)\n",
        "print(\"Shape of tensor:\", rank_4_tensor.shape)\n",
        "print(\"Elements along the 0 axis:\", rank_4_tensor.shape[0])\n",
        "print(\"Elements along the last axis:\", rank_4_tensor.shape[-1])\n",
        "print(\"Total number of elements in our tensor:\", tf.size(rank_4_tensor).numpy())"
      ]
    },
    {
      "cell_type": "markdown",
      "metadata": {
        "id": "cjLeVOhzDE-y"
      },
      "source": [
        "### Indexing tensors\n",
        "\n",
        "Tensors can be indexed just like Python lists"
      ]
    },
    {
      "cell_type": "code",
      "execution_count": null,
      "metadata": {
        "colab": {
          "base_uri": "https://localhost:8080/"
        },
        "id": "JDh0PhOHG7xY",
        "outputId": "b26101f4-67d3-4fc1-d757-fd83a5a0b98f"
      },
      "outputs": [
        {
          "output_type": "execute_result",
          "data": {
            "text/plain": [
              "<tf.Tensor: shape=(2, 2, 2, 2), dtype=float32, numpy=\n",
              "array([[[[0., 0.],\n",
              "         [0., 0.]],\n",
              "\n",
              "        [[0., 0.],\n",
              "         [0., 0.]]],\n",
              "\n",
              "\n",
              "       [[[0., 0.],\n",
              "         [0., 0.]],\n",
              "\n",
              "        [[0., 0.],\n",
              "         [0., 0.]]]], dtype=float32)>"
            ]
          },
          "metadata": {},
          "execution_count": 34
        }
      ],
      "source": [
        "# Get the first 2 elements of each dimension\n",
        "rank_4_tensor[:2, :2, :2, :2]"
      ]
    },
    {
      "cell_type": "code",
      "execution_count": null,
      "metadata": {
        "colab": {
          "base_uri": "https://localhost:8080/"
        },
        "id": "F3Bax_xNHDDu",
        "outputId": "e6ccec27-8bf1-40fa-d524-a65eab771080"
      },
      "outputs": [
        {
          "output_type": "execute_result",
          "data": {
            "text/plain": [
              "<tf.Tensor: shape=(1, 1, 1, 5), dtype=float32, numpy=array([[[[0., 0., 0., 0., 0.]]]], dtype=float32)>"
            ]
          },
          "metadata": {},
          "execution_count": 35
        }
      ],
      "source": [
        "# Get the first element from each dimension from each index except for the final one\n",
        "rank_4_tensor[:1, :1, :1, :]"
      ]
    },
    {
      "cell_type": "code",
      "execution_count": null,
      "metadata": {
        "colab": {
          "base_uri": "https://localhost:8080/"
        },
        "id": "uKieByp_H2S3",
        "outputId": "a0b63faa-8dcf-4899-d1d6-cc4211e8705b"
      },
      "outputs": [
        {
          "output_type": "execute_result",
          "data": {
            "text/plain": [
              "<tf.Tensor: shape=(2, 2), dtype=int32, numpy=\n",
              "array([[10,  7],\n",
              "       [ 3,  4]], dtype=int32)>"
            ]
          },
          "metadata": {},
          "execution_count": 36
        }
      ],
      "source": [
        "# Create a rank 2 tensor (2 dimensions)\n",
        "rank_2_tensor = tf.constant([[10, 7],\n",
        "                            [3, 4]])\n",
        "rank_2_tensor"
      ]
    },
    {
      "cell_type": "code",
      "execution_count": null,
      "metadata": {
        "colab": {
          "base_uri": "https://localhost:8080/"
        },
        "id": "sX1trJBsIguL",
        "outputId": "f10f2ae5-1e62-48bd-b279-6ed078aad8b2"
      },
      "outputs": [
        {
          "output_type": "execute_result",
          "data": {
            "text/plain": [
              "(2, TensorShape([2, 2]))"
            ]
          },
          "metadata": {},
          "execution_count": 37
        }
      ],
      "source": [
        "rank_2_tensor.ndim, rank_2_tensor.shape"
      ]
    },
    {
      "cell_type": "code",
      "execution_count": null,
      "metadata": {
        "colab": {
          "base_uri": "https://localhost:8080/"
        },
        "id": "KuBjh0zFIzfx",
        "outputId": "f4df502a-e03b-4ed5-9670-054a3019695b"
      },
      "outputs": [
        {
          "output_type": "execute_result",
          "data": {
            "text/plain": [
              "<tf.Tensor: shape=(2,), dtype=int32, numpy=array([7, 4], dtype=int32)>"
            ]
          },
          "metadata": {},
          "execution_count": 38
        }
      ],
      "source": [
        "# Get the last item of ech row of our rank 2 tensor\n",
        "rank_2_tensor[:, -1]"
      ]
    },
    {
      "cell_type": "code",
      "execution_count": null,
      "metadata": {
        "colab": {
          "base_uri": "https://localhost:8080/"
        },
        "id": "BakAZKQUI-Fy",
        "outputId": "ae4670d7-beec-4640-8e95-3af7ba96bdb1"
      },
      "outputs": [
        {
          "output_type": "execute_result",
          "data": {
            "text/plain": [
              "<tf.Tensor: shape=(2, 2, 1), dtype=int32, numpy=\n",
              "array([[[10],\n",
              "        [ 7]],\n",
              "\n",
              "       [[ 3],\n",
              "        [ 4]]], dtype=int32)>"
            ]
          },
          "metadata": {},
          "execution_count": 39
        }
      ],
      "source": [
        "# Add in extra dimension to our rank 2 tensor\n",
        "rank_3_tensor = rank_2_tensor[..., tf.newaxis]\n",
        "rank_3_tensor"
      ]
    },
    {
      "cell_type": "code",
      "execution_count": null,
      "metadata": {
        "colab": {
          "base_uri": "https://localhost:8080/"
        },
        "id": "mmou_-D5JiZ5",
        "outputId": "19215161-0112-49fc-bc94-373b55b93d48"
      },
      "outputs": [
        {
          "output_type": "execute_result",
          "data": {
            "text/plain": [
              "<tf.Tensor: shape=(2, 2, 1), dtype=int32, numpy=\n",
              "array([[[10],\n",
              "        [ 7]],\n",
              "\n",
              "       [[ 3],\n",
              "        [ 4]]], dtype=int32)>"
            ]
          },
          "metadata": {},
          "execution_count": 40
        }
      ],
      "source": [
        "# Alternative to tf.newaxis\n",
        "tf.expand_dims(rank_2_tensor, axis=-1) # \"-1\" means expand the final axis"
      ]
    },
    {
      "cell_type": "code",
      "execution_count": null,
      "metadata": {
        "colab": {
          "base_uri": "https://localhost:8080/"
        },
        "id": "jQyUZi25KGoh",
        "outputId": "85841d23-7e3f-40bb-bc64-008e992834aa"
      },
      "outputs": [
        {
          "output_type": "execute_result",
          "data": {
            "text/plain": [
              "<tf.Tensor: shape=(1, 2, 2), dtype=int32, numpy=\n",
              "array([[[10,  7],\n",
              "        [ 3,  4]]], dtype=int32)>"
            ]
          },
          "metadata": {},
          "execution_count": 41
        }
      ],
      "source": [
        "# Same thing as above, but expand the 0-axis\n",
        "tf.expand_dims(rank_2_tensor, axis=0)"
      ]
    },
    {
      "cell_type": "markdown",
      "metadata": {
        "id": "J_ZBQesYKiCQ"
      },
      "source": [
        "### Manipulating tensors (tensor operations)"
      ]
    },
    {
      "cell_type": "markdown",
      "metadata": {
        "id": "dIoP7QymK6Xi"
      },
      "source": [
        "### Manipulating tensors (tensor operations)\n",
        "**Basic opearations**\n",
        "\n",
        "+, -, *, /"
      ]
    },
    {
      "cell_type": "code",
      "execution_count": null,
      "metadata": {
        "colab": {
          "base_uri": "https://localhost:8080/"
        },
        "id": "Oph7Fm7Ujli2",
        "outputId": "8cadee94-3c7d-4c01-a8f7-5091faa0f290"
      },
      "outputs": [
        {
          "output_type": "execute_result",
          "data": {
            "text/plain": [
              "<tf.Tensor: shape=(2, 2), dtype=int32, numpy=\n",
              "array([[20, 17],\n",
              "       [13, 14]], dtype=int32)>"
            ]
          },
          "metadata": {},
          "execution_count": 42
        }
      ],
      "source": [
        "# You can add values to a tensor using the addition operator\n",
        "tensor = tf.constant([[10, 7], [3, 4]])\n",
        "tensor + 10"
      ]
    },
    {
      "cell_type": "code",
      "execution_count": null,
      "metadata": {
        "colab": {
          "base_uri": "https://localhost:8080/"
        },
        "id": "agT8LEXUj46v",
        "outputId": "337f3c2b-3120-4404-b9d1-323f6daa9abb"
      },
      "outputs": [
        {
          "output_type": "execute_result",
          "data": {
            "text/plain": [
              "<tf.Tensor: shape=(2, 2), dtype=int32, numpy=\n",
              "array([[10,  7],\n",
              "       [ 3,  4]], dtype=int32)>"
            ]
          },
          "metadata": {},
          "execution_count": 43
        }
      ],
      "source": [
        "# Original tensor is unchanged\n",
        "tensor"
      ]
    },
    {
      "cell_type": "code",
      "execution_count": null,
      "metadata": {
        "colab": {
          "base_uri": "https://localhost:8080/"
        },
        "id": "ewgVkUx-kBKV",
        "outputId": "0372ddb3-002f-4068-d659-ed2ec333fc8b"
      },
      "outputs": [
        {
          "output_type": "execute_result",
          "data": {
            "text/plain": [
              "<tf.Tensor: shape=(2, 2), dtype=int32, numpy=\n",
              "array([[100,  70],\n",
              "       [ 30,  40]], dtype=int32)>"
            ]
          },
          "metadata": {},
          "execution_count": 44
        }
      ],
      "source": [
        "# Multiplication also works\n",
        "tensor * 10"
      ]
    },
    {
      "cell_type": "code",
      "execution_count": null,
      "metadata": {
        "colab": {
          "base_uri": "https://localhost:8080/"
        },
        "id": "UAIkVIOzkN9K",
        "outputId": "23a84cf5-5fb6-48a5-fe41-b365feacdda9"
      },
      "outputs": [
        {
          "output_type": "execute_result",
          "data": {
            "text/plain": [
              "<tf.Tensor: shape=(2, 2), dtype=int32, numpy=\n",
              "array([[ 0, -3],\n",
              "       [-7, -6]], dtype=int32)>"
            ]
          },
          "metadata": {},
          "execution_count": 45
        }
      ],
      "source": [
        "# Substraction\n",
        "tensor - 10"
      ]
    },
    {
      "cell_type": "code",
      "execution_count": null,
      "metadata": {
        "colab": {
          "base_uri": "https://localhost:8080/"
        },
        "id": "Xtiier_VkRhb",
        "outputId": "c16a694b-7050-4382-c2a7-092008dd85f3"
      },
      "outputs": [
        {
          "output_type": "execute_result",
          "data": {
            "text/plain": [
              "<tf.Tensor: shape=(2, 2), dtype=float64, numpy=\n",
              "array([[1. , 0.7],\n",
              "       [0.3, 0.4]])>"
            ]
          },
          "metadata": {},
          "execution_count": 46
        }
      ],
      "source": [
        "# Division\n",
        "tensor / 10"
      ]
    },
    {
      "cell_type": "code",
      "execution_count": null,
      "metadata": {
        "colab": {
          "base_uri": "https://localhost:8080/"
        },
        "id": "TQoWyTMTkVZm",
        "outputId": "18c60d3c-e7cc-460e-8927-08e45675b8c6"
      },
      "outputs": [
        {
          "output_type": "execute_result",
          "data": {
            "text/plain": [
              "<tf.Tensor: shape=(2, 2), dtype=int32, numpy=\n",
              "array([[100,  70],\n",
              "       [ 30,  40]], dtype=int32)>"
            ]
          },
          "metadata": {},
          "execution_count": 47
        }
      ],
      "source": [
        "# We can use the tensorflow built-in function too\n",
        "tf.multiply(tensor, 10)"
      ]
    },
    {
      "cell_type": "code",
      "execution_count": null,
      "metadata": {
        "colab": {
          "base_uri": "https://localhost:8080/"
        },
        "id": "dEmKqB_2ke2g",
        "outputId": "a01cd353-bac3-4864-95f7-a7ab1f9c6744"
      },
      "outputs": [
        {
          "output_type": "execute_result",
          "data": {
            "text/plain": [
              "<tf.Tensor: shape=(2, 2), dtype=int32, numpy=\n",
              "array([[20, 17],\n",
              "       [13, 14]], dtype=int32)>"
            ]
          },
          "metadata": {},
          "execution_count": 48
        }
      ],
      "source": [
        "tf.add(tensor, 10)"
      ]
    },
    {
      "cell_type": "code",
      "execution_count": null,
      "metadata": {
        "colab": {
          "base_uri": "https://localhost:8080/"
        },
        "id": "-LGnCzGDkxX1",
        "outputId": "f7c1bb2e-7fe7-4376-a909-d6b9d77567f0"
      },
      "outputs": [
        {
          "output_type": "execute_result",
          "data": {
            "text/plain": [
              "<tf.Tensor: shape=(2, 2), dtype=int32, numpy=\n",
              "array([[10,  7],\n",
              "       [ 3,  4]], dtype=int32)>"
            ]
          },
          "metadata": {},
          "execution_count": 49
        }
      ],
      "source": [
        "tensor"
      ]
    },
    {
      "cell_type": "markdown",
      "metadata": {
        "id": "KppfMMmWkzuw"
      },
      "source": [
        "**Matrix Multiplication**\n",
        "\n",
        "In machine learning, matrix multiplication is one of the most common tensor operations"
      ]
    },
    {
      "cell_type": "code",
      "execution_count": null,
      "metadata": {
        "colab": {
          "base_uri": "https://localhost:8080/"
        },
        "id": "jMxcxV8PlBjs",
        "outputId": "276dc792-0e26-4633-a865-70b4edf38dd2"
      },
      "outputs": [
        {
          "output_type": "execute_result",
          "data": {
            "text/plain": [
              "<tf.Tensor: shape=(2, 2), dtype=int32, numpy=\n",
              "array([[121,  98],\n",
              "       [ 42,  37]], dtype=int32)>"
            ]
          },
          "metadata": {},
          "execution_count": 50
        }
      ],
      "source": [
        "# Matrix multiplication in tensorflow\n",
        "tf.matmul(tensor, tensor)"
      ]
    },
    {
      "cell_type": "code",
      "execution_count": null,
      "metadata": {
        "colab": {
          "base_uri": "https://localhost:8080/"
        },
        "id": "EqP_vVNPnFxN",
        "outputId": "924e14dc-5443-43d8-d070-aa6f5b18cb2d"
      },
      "outputs": [
        {
          "output_type": "execute_result",
          "data": {
            "text/plain": [
              "(<tf.Tensor: shape=(2, 2), dtype=int32, numpy=\n",
              " array([[10,  7],\n",
              "        [ 3,  4]], dtype=int32)>,\n",
              " <tf.Tensor: shape=(2, 2), dtype=int32, numpy=\n",
              " array([[100,  49],\n",
              "        [  9,  16]], dtype=int32)>)"
            ]
          },
          "metadata": {},
          "execution_count": 51
        }
      ],
      "source": [
        "tensor, tensor * tensor"
      ]
    },
    {
      "cell_type": "code",
      "execution_count": null,
      "metadata": {
        "colab": {
          "base_uri": "https://localhost:8080/"
        },
        "id": "lvqvt7gnm41r",
        "outputId": "1334b85f-2c20-4efb-e0bd-48ca44f7294a"
      },
      "outputs": [
        {
          "output_type": "execute_result",
          "data": {
            "text/plain": [
              "<tf.Tensor: shape=(2, 2), dtype=int32, numpy=\n",
              "array([[121,  98],\n",
              "       [ 42,  37]], dtype=int32)>"
            ]
          },
          "metadata": {},
          "execution_count": 52
        }
      ],
      "source": [
        "# Matrix multiplication with Python operator \"@\"\n",
        "tensor @ tensor"
      ]
    },
    {
      "cell_type": "code",
      "execution_count": null,
      "metadata": {
        "colab": {
          "base_uri": "https://localhost:8080/"
        },
        "id": "Qe6_HVQuoo4z",
        "outputId": "5ebb2c98-7eab-49f2-ce12-b2ccad976cf0"
      },
      "outputs": [
        {
          "output_type": "execute_result",
          "data": {
            "text/plain": [
              "TensorShape([2, 2])"
            ]
          },
          "metadata": {},
          "execution_count": 53
        }
      ],
      "source": [
        "tensor.shape"
      ]
    },
    {
      "cell_type": "code",
      "execution_count": null,
      "metadata": {
        "id": "b_he5POcoweb"
      },
      "outputs": [],
      "source": [
        "# Create a tensor (3, 2)\n",
        "X = tf.constant([[1, 2], [3, 4], [5, 6]])\n",
        "\n",
        "# Create another (3, 2) tensor"
      ]
    },
    {
      "cell_type": "code",
      "execution_count": null,
      "metadata": {
        "id": "wUjtbtmRo_l7"
      },
      "outputs": [],
      "source": [
        "Y = tf.constant([[7, 8], [9, 10], [11, 12]])"
      ]
    },
    {
      "cell_type": "code",
      "execution_count": null,
      "metadata": {
        "colab": {
          "base_uri": "https://localhost:8080/"
        },
        "id": "N-aiK5qjpI_W",
        "outputId": "eeaa78bf-e5f0-4ae9-b0ae-d4d7a0150c50"
      },
      "outputs": [
        {
          "output_type": "execute_result",
          "data": {
            "text/plain": [
              "(<tf.Tensor: shape=(3, 2), dtype=int32, numpy=\n",
              " array([[1, 2],\n",
              "        [3, 4],\n",
              "        [5, 6]], dtype=int32)>,\n",
              " <tf.Tensor: shape=(3, 2), dtype=int32, numpy=\n",
              " array([[ 7,  8],\n",
              "        [ 9, 10],\n",
              "        [11, 12]], dtype=int32)>)"
            ]
          },
          "metadata": {},
          "execution_count": 56
        }
      ],
      "source": [
        "X, Y"
      ]
    },
    {
      "cell_type": "code",
      "execution_count": null,
      "metadata": {
        "colab": {
          "base_uri": "https://localhost:8080/",
          "height": 363
        },
        "id": "8p9GWHy_pMZy",
        "outputId": "1be23515-8903-4ab3-f1df-3e76797de18d"
      },
      "outputs": [
        {
          "output_type": "error",
          "ename": "InvalidArgumentError",
          "evalue": "ignored",
          "traceback": [
            "\u001b[0;31m---------------------------------------------------------------------------\u001b[0m",
            "\u001b[0;31mInvalidArgumentError\u001b[0m                      Traceback (most recent call last)",
            "\u001b[0;32m<ipython-input-57-32b138ac07cc>\u001b[0m in \u001b[0;36m<cell line: 2>\u001b[0;34m()\u001b[0m\n\u001b[1;32m      1\u001b[0m \u001b[0;31m# Try to matrix multiply tensors of same shape\u001b[0m\u001b[0;34m\u001b[0m\u001b[0;34m\u001b[0m\u001b[0m\n\u001b[0;32m----> 2\u001b[0;31m \u001b[0mtf\u001b[0m\u001b[0;34m.\u001b[0m\u001b[0mmatmul\u001b[0m\u001b[0;34m(\u001b[0m\u001b[0mX\u001b[0m\u001b[0;34m,\u001b[0m \u001b[0mY\u001b[0m\u001b[0;34m)\u001b[0m\u001b[0;34m\u001b[0m\u001b[0;34m\u001b[0m\u001b[0m\n\u001b[0m",
            "\u001b[0;32m/usr/local/lib/python3.10/dist-packages/tensorflow/python/util/traceback_utils.py\u001b[0m in \u001b[0;36merror_handler\u001b[0;34m(*args, **kwargs)\u001b[0m\n\u001b[1;32m    151\u001b[0m     \u001b[0;32mexcept\u001b[0m \u001b[0mException\u001b[0m \u001b[0;32mas\u001b[0m \u001b[0me\u001b[0m\u001b[0;34m:\u001b[0m\u001b[0;34m\u001b[0m\u001b[0;34m\u001b[0m\u001b[0m\n\u001b[1;32m    152\u001b[0m       \u001b[0mfiltered_tb\u001b[0m \u001b[0;34m=\u001b[0m \u001b[0m_process_traceback_frames\u001b[0m\u001b[0;34m(\u001b[0m\u001b[0me\u001b[0m\u001b[0;34m.\u001b[0m\u001b[0m__traceback__\u001b[0m\u001b[0;34m)\u001b[0m\u001b[0;34m\u001b[0m\u001b[0;34m\u001b[0m\u001b[0m\n\u001b[0;32m--> 153\u001b[0;31m       \u001b[0;32mraise\u001b[0m \u001b[0me\u001b[0m\u001b[0;34m.\u001b[0m\u001b[0mwith_traceback\u001b[0m\u001b[0;34m(\u001b[0m\u001b[0mfiltered_tb\u001b[0m\u001b[0;34m)\u001b[0m \u001b[0;32mfrom\u001b[0m \u001b[0;32mNone\u001b[0m\u001b[0;34m\u001b[0m\u001b[0;34m\u001b[0m\u001b[0m\n\u001b[0m\u001b[1;32m    154\u001b[0m     \u001b[0;32mfinally\u001b[0m\u001b[0;34m:\u001b[0m\u001b[0;34m\u001b[0m\u001b[0;34m\u001b[0m\u001b[0m\n\u001b[1;32m    155\u001b[0m       \u001b[0;32mdel\u001b[0m \u001b[0mfiltered_tb\u001b[0m\u001b[0;34m\u001b[0m\u001b[0;34m\u001b[0m\u001b[0m\n",
            "\u001b[0;32m/usr/local/lib/python3.10/dist-packages/tensorflow/python/framework/ops.py\u001b[0m in \u001b[0;36mraise_from_not_ok_status\u001b[0;34m(e, name)\u001b[0m\n\u001b[1;32m   6654\u001b[0m \u001b[0;32mdef\u001b[0m \u001b[0mraise_from_not_ok_status\u001b[0m\u001b[0;34m(\u001b[0m\u001b[0me\u001b[0m\u001b[0;34m,\u001b[0m \u001b[0mname\u001b[0m\u001b[0;34m)\u001b[0m\u001b[0;34m:\u001b[0m\u001b[0;34m\u001b[0m\u001b[0;34m\u001b[0m\u001b[0m\n\u001b[1;32m   6655\u001b[0m   \u001b[0me\u001b[0m\u001b[0;34m.\u001b[0m\u001b[0mmessage\u001b[0m \u001b[0;34m+=\u001b[0m \u001b[0;34m(\u001b[0m\u001b[0;34m\" name: \"\u001b[0m \u001b[0;34m+\u001b[0m \u001b[0mstr\u001b[0m\u001b[0;34m(\u001b[0m\u001b[0mname\u001b[0m \u001b[0;32mif\u001b[0m \u001b[0mname\u001b[0m \u001b[0;32mis\u001b[0m \u001b[0;32mnot\u001b[0m \u001b[0;32mNone\u001b[0m \u001b[0;32melse\u001b[0m \u001b[0;34m\"\"\u001b[0m\u001b[0;34m)\u001b[0m\u001b[0;34m)\u001b[0m\u001b[0;34m\u001b[0m\u001b[0;34m\u001b[0m\u001b[0m\n\u001b[0;32m-> 6656\u001b[0;31m   \u001b[0;32mraise\u001b[0m \u001b[0mcore\u001b[0m\u001b[0;34m.\u001b[0m\u001b[0m_status_to_exception\u001b[0m\u001b[0;34m(\u001b[0m\u001b[0me\u001b[0m\u001b[0;34m)\u001b[0m \u001b[0;32mfrom\u001b[0m \u001b[0;32mNone\u001b[0m  \u001b[0;31m# pylint: disable=protected-access\u001b[0m\u001b[0;34m\u001b[0m\u001b[0;34m\u001b[0m\u001b[0m\n\u001b[0m\u001b[1;32m   6657\u001b[0m \u001b[0;34m\u001b[0m\u001b[0m\n\u001b[1;32m   6658\u001b[0m \u001b[0;34m\u001b[0m\u001b[0m\n",
            "\u001b[0;31mInvalidArgumentError\u001b[0m: {{function_node __wrapped__MatMul_device_/job:localhost/replica:0/task:0/device:CPU:0}} Matrix size-incompatible: In[0]: [3,2], In[1]: [3,2] [Op:MatMul] name: "
          ]
        }
      ],
      "source": [
        "# Try to matrix multiply tensors of same shape\n",
        "tf.matmul(X, Y)"
      ]
    },
    {
      "cell_type": "markdown",
      "metadata": {
        "id": "IOj2fBmnp2T8"
      },
      "source": [
        "There are 2 rules our tensors (or matrices) need to fulfill if we're going to matrix multiply them:\n",
        "1. the inner dimensions must match\n",
        "2. the resulting matrix has the shape of the outer dimensions"
      ]
    },
    {
      "cell_type": "code",
      "execution_count": null,
      "metadata": {
        "id": "yJFL7BO7ryYh",
        "colab": {
          "base_uri": "https://localhost:8080/"
        },
        "outputId": "922b91d8-606a-4453-ef90-9ac6b9411858"
      },
      "outputs": [
        {
          "output_type": "execute_result",
          "data": {
            "text/plain": [
              "(<tf.Tensor: shape=(3, 2), dtype=int32, numpy=\n",
              " array([[1, 2],\n",
              "        [3, 4],\n",
              "        [5, 6]], dtype=int32)>,\n",
              " <tf.Tensor: shape=(3, 2), dtype=int32, numpy=\n",
              " array([[ 7,  8],\n",
              "        [ 9, 10],\n",
              "        [11, 12]], dtype=int32)>)"
            ]
          },
          "metadata": {},
          "execution_count": 58
        }
      ],
      "source": [
        "X, Y"
      ]
    },
    {
      "cell_type": "code",
      "execution_count": null,
      "metadata": {
        "colab": {
          "base_uri": "https://localhost:8080/"
        },
        "id": "uRTVi3o_qK6f",
        "outputId": "0845ac4e-9a2c-4ef5-8ea4-3a2dd63bca2e"
      },
      "outputs": [
        {
          "output_type": "execute_result",
          "data": {
            "text/plain": [
              "<tf.Tensor: shape=(2, 3), dtype=int32, numpy=\n",
              "array([[1, 2, 3],\n",
              "       [4, 5, 6]], dtype=int32)>"
            ]
          },
          "metadata": {},
          "execution_count": 59
        }
      ],
      "source": [
        "# Must change shape tf.reshape()\n",
        "X_reshaped = tf.reshape(X, shape=(2, 3))\n",
        "X_reshaped"
      ]
    },
    {
      "cell_type": "code",
      "execution_count": null,
      "metadata": {
        "colab": {
          "base_uri": "https://localhost:8080/"
        },
        "id": "i9tuTdMmtJv1",
        "outputId": "67e7a71d-9fc3-49d9-81cc-3bbe987ffcc0"
      },
      "outputs": [
        {
          "output_type": "execute_result",
          "data": {
            "text/plain": [
              "<tf.Tensor: shape=(2, 2), dtype=int32, numpy=\n",
              "array([[ 58,  64],\n",
              "       [139, 154]], dtype=int32)>"
            ]
          },
          "metadata": {},
          "execution_count": 60
        }
      ],
      "source": [
        "tf.matmul(X_reshaped, Y)"
      ]
    },
    {
      "cell_type": "code",
      "execution_count": null,
      "metadata": {
        "colab": {
          "base_uri": "https://localhost:8080/"
        },
        "id": "FY2f6X3rtOzm",
        "outputId": "28f1ca4d-9bf7-41dd-cac9-9e491082e821"
      },
      "outputs": [
        {
          "output_type": "execute_result",
          "data": {
            "text/plain": [
              "(<tf.Tensor: shape=(3, 2), dtype=int32, numpy=\n",
              " array([[1, 2],\n",
              "        [3, 4],\n",
              "        [5, 6]], dtype=int32)>,\n",
              " <tf.Tensor: shape=(2, 3), dtype=int32, numpy=\n",
              " array([[1, 3, 5],\n",
              "        [2, 4, 6]], dtype=int32)>,\n",
              " <tf.Tensor: shape=(2, 3), dtype=int32, numpy=\n",
              " array([[1, 2, 3],\n",
              "        [4, 5, 6]], dtype=int32)>)"
            ]
          },
          "metadata": {},
          "execution_count": 61
        }
      ],
      "source": [
        "# Can do the same with transpose\n",
        "X, tf.transpose(X), tf.reshape(X, shape=(2, 3))"
      ]
    },
    {
      "cell_type": "code",
      "execution_count": null,
      "metadata": {
        "colab": {
          "base_uri": "https://localhost:8080/"
        },
        "id": "2jwvh1bcuzKK",
        "outputId": "326e001d-6dc7-47bd-ece7-bf592eb24f0d"
      },
      "outputs": [
        {
          "output_type": "execute_result",
          "data": {
            "text/plain": [
              "<tf.Tensor: shape=(2, 2), dtype=int32, numpy=\n",
              "array([[ 89,  98],\n",
              "       [116, 128]], dtype=int32)>"
            ]
          },
          "metadata": {},
          "execution_count": 62
        }
      ],
      "source": [
        "# Try matrix multiplication with transpose rather than reshape\n",
        "tf.matmul(tf.transpose(X), Y)"
      ]
    },
    {
      "cell_type": "markdown",
      "metadata": {
        "id": "wJC9RcWAyDGu"
      },
      "source": [
        "**The dot product**\n",
        "\n",
        "Matrix multiplication is also referred to as the dot product.\n",
        "\n",
        "You can perform matrix multiplication using:\n",
        "- tf.matmul()\n",
        "- tf.tensordot()\n",
        "- @"
      ]
    },
    {
      "cell_type": "code",
      "execution_count": null,
      "metadata": {
        "colab": {
          "base_uri": "https://localhost:8080/"
        },
        "id": "ctOSctXdygfc",
        "outputId": "9c6d0e91-55b9-4433-e684-ac20677623ad"
      },
      "outputs": [
        {
          "output_type": "execute_result",
          "data": {
            "text/plain": [
              "(<tf.Tensor: shape=(3, 2), dtype=int32, numpy=\n",
              " array([[1, 2],\n",
              "        [3, 4],\n",
              "        [5, 6]], dtype=int32)>,\n",
              " <tf.Tensor: shape=(3, 2), dtype=int32, numpy=\n",
              " array([[ 7,  8],\n",
              "        [ 9, 10],\n",
              "        [11, 12]], dtype=int32)>)"
            ]
          },
          "metadata": {},
          "execution_count": 63
        }
      ],
      "source": [
        "X, Y"
      ]
    },
    {
      "cell_type": "code",
      "execution_count": null,
      "metadata": {
        "colab": {
          "base_uri": "https://localhost:8080/"
        },
        "id": "XRg4mvHfvwMe",
        "outputId": "887375f6-3a6b-49b3-ed36-684e5d7eaa2c"
      },
      "outputs": [
        {
          "output_type": "execute_result",
          "data": {
            "text/plain": [
              "<tf.Tensor: shape=(2, 2), dtype=int32, numpy=\n",
              "array([[ 89,  98],\n",
              "       [116, 128]], dtype=int32)>"
            ]
          },
          "metadata": {},
          "execution_count": 64
        }
      ],
      "source": [
        "# Perform the dot product on X and Y (requires X or Y to be transposed)\n",
        "tf.tensordot(tf.transpose(X), Y, axes=1)"
      ]
    },
    {
      "cell_type": "code",
      "execution_count": null,
      "metadata": {
        "id": "s-n4jJ24ylhE",
        "colab": {
          "base_uri": "https://localhost:8080/"
        },
        "outputId": "5b78615a-dd5f-40e6-cc62-a2e3f6b81930"
      },
      "outputs": [
        {
          "output_type": "execute_result",
          "data": {
            "text/plain": [
              "<tf.Tensor: shape=(3, 3), dtype=int32, numpy=\n",
              "array([[ 23,  29,  35],\n",
              "       [ 53,  67,  81],\n",
              "       [ 83, 105, 127]], dtype=int32)>"
            ]
          },
          "metadata": {},
          "execution_count": 65
        }
      ],
      "source": [
        "# Perform matrix multiplication between X and Y (transposed)\n",
        "tf.matmul(X, tf.transpose(Y))"
      ]
    },
    {
      "cell_type": "code",
      "source": [
        "# Perform matrix multiplication betwen X and Y (reshaped)\n",
        "tf.matmul(X, tf.reshape(Y, shape=(2, 3)))"
      ],
      "metadata": {
        "colab": {
          "base_uri": "https://localhost:8080/"
        },
        "id": "6SZzWp90zN70",
        "outputId": "04e64b1b-abc6-454e-fa16-2f3e41f8b9c3"
      },
      "execution_count": null,
      "outputs": [
        {
          "output_type": "execute_result",
          "data": {
            "text/plain": [
              "<tf.Tensor: shape=(3, 3), dtype=int32, numpy=\n",
              "array([[ 27,  30,  33],\n",
              "       [ 61,  68,  75],\n",
              "       [ 95, 106, 117]], dtype=int32)>"
            ]
          },
          "metadata": {},
          "execution_count": 66
        }
      ]
    },
    {
      "cell_type": "code",
      "source": [
        "# Check the values of Y, reshape Y and transposed Y\n",
        "print(\"Normal Y:\")\n",
        "print(Y, \"\\n\") # \"\\n\" is for new line\n",
        "\n",
        "print(\"Y reshaped to (2, 3):\")\n",
        "print(tf.reshape(Y, shape=(2, 3)), \"\\n\")\n",
        "\n",
        "print(\"Y transposed:\")\n",
        "print(tf.transpose(Y))"
      ],
      "metadata": {
        "colab": {
          "base_uri": "https://localhost:8080/"
        },
        "id": "sSiVSbGbzXOJ",
        "outputId": "ea923b34-0d62-4efa-8dcb-c57f04f5bb21"
      },
      "execution_count": null,
      "outputs": [
        {
          "output_type": "stream",
          "name": "stdout",
          "text": [
            "Normal Y:\n",
            "tf.Tensor(\n",
            "[[ 7  8]\n",
            " [ 9 10]\n",
            " [11 12]], shape=(3, 2), dtype=int32) \n",
            "\n",
            "Y reshaped to (2, 3):\n",
            "tf.Tensor(\n",
            "[[ 7  8  9]\n",
            " [10 11 12]], shape=(2, 3), dtype=int32) \n",
            "\n",
            "Y transposed:\n",
            "tf.Tensor(\n",
            "[[ 7  9 11]\n",
            " [ 8 10 12]], shape=(2, 3), dtype=int32)\n"
          ]
        }
      ]
    },
    {
      "cell_type": "markdown",
      "source": [
        "Generally, when performing matrix multiplication on two tensors and one of the axes does not line up, you will transpose rather than reshape one of the tensors to satisfy the matrix multiplication rules"
      ],
      "metadata": {
        "id": "YGCpVL4F0-J_"
      }
    },
    {
      "cell_type": "markdown",
      "source": [
        "### Changing the datatype of a tensor"
      ],
      "metadata": {
        "id": "-1RZ6r6Mz8ko"
      }
    },
    {
      "cell_type": "code",
      "source": [
        "# Create a new tensor with default datatype (float32)"
      ],
      "metadata": {
        "id": "IJxFcaqV1XwI"
      },
      "execution_count": null,
      "outputs": []
    },
    {
      "cell_type": "code",
      "source": [
        "B = tf.constant([1.7, 7])\n",
        "B.dtype"
      ],
      "metadata": {
        "colab": {
          "base_uri": "https://localhost:8080/"
        },
        "id": "wp3PeptsseO8",
        "outputId": "dbbb66aa-12f0-48b1-f2b5-333a1a297bf6"
      },
      "execution_count": null,
      "outputs": [
        {
          "output_type": "execute_result",
          "data": {
            "text/plain": [
              "tf.float32"
            ]
          },
          "metadata": {},
          "execution_count": 69
        }
      ]
    },
    {
      "cell_type": "code",
      "source": [
        "C = tf.constant([7, 10])\n",
        "C.dtype"
      ],
      "metadata": {
        "colab": {
          "base_uri": "https://localhost:8080/"
        },
        "id": "o5I8Xi6isiSz",
        "outputId": "db9611e9-69e8-4cfa-a109-838937d7aed6"
      },
      "execution_count": null,
      "outputs": [
        {
          "output_type": "execute_result",
          "data": {
            "text/plain": [
              "tf.int32"
            ]
          },
          "metadata": {},
          "execution_count": 70
        }
      ]
    },
    {
      "cell_type": "code",
      "source": [
        "# Change from float32 to float16 (reduced precision)\n",
        "D = tf.cast(B, dtype=tf.float16)\n",
        "D"
      ],
      "metadata": {
        "colab": {
          "base_uri": "https://localhost:8080/"
        },
        "id": "bbGOrDvIslHp",
        "outputId": "0cb2691c-d9a9-40e0-8322-634060ba793e"
      },
      "execution_count": null,
      "outputs": [
        {
          "output_type": "execute_result",
          "data": {
            "text/plain": [
              "<tf.Tensor: shape=(2,), dtype=float16, numpy=array([1.7, 7. ], dtype=float16)>"
            ]
          },
          "metadata": {},
          "execution_count": 71
        }
      ]
    },
    {
      "cell_type": "code",
      "source": [
        "# Change from int32 to float32\n",
        "E = tf.cast(C, dtype=tf.float32)\n",
        "E"
      ],
      "metadata": {
        "colab": {
          "base_uri": "https://localhost:8080/"
        },
        "id": "R9HWV0BttVnf",
        "outputId": "93f82994-6a3b-4e6d-9977-3f1fe0ec1238"
      },
      "execution_count": null,
      "outputs": [
        {
          "output_type": "execute_result",
          "data": {
            "text/plain": [
              "<tf.Tensor: shape=(2,), dtype=float32, numpy=array([ 7., 10.], dtype=float32)>"
            ]
          },
          "metadata": {},
          "execution_count": 72
        }
      ]
    },
    {
      "cell_type": "code",
      "source": [
        "E_float16 = tf.cast(E, dtype=tf.float16)\n",
        "E_float16"
      ],
      "metadata": {
        "colab": {
          "base_uri": "https://localhost:8080/"
        },
        "id": "JwftZP5mtwM1",
        "outputId": "e87e7399-c0a7-4cab-a0ae-2d9f69677cd6"
      },
      "execution_count": null,
      "outputs": [
        {
          "output_type": "execute_result",
          "data": {
            "text/plain": [
              "<tf.Tensor: shape=(2,), dtype=float16, numpy=array([ 7., 10.], dtype=float16)>"
            ]
          },
          "metadata": {},
          "execution_count": 73
        }
      ]
    },
    {
      "cell_type": "markdown",
      "source": [
        "### Aggregating tensors\n",
        "\n",
        "Aggregating tensors = condensinig them from multiple values down to a smaller amount of values"
      ],
      "metadata": {
        "id": "Aky9H6RQt7Dg"
      }
    },
    {
      "cell_type": "code",
      "source": [
        "# Get the absolute values\n",
        "D  = tf.constant([-7, -10])\n",
        "tf.abs(D)"
      ],
      "metadata": {
        "colab": {
          "base_uri": "https://localhost:8080/"
        },
        "id": "g7cOAOiEt-l2",
        "outputId": "91831149-45cf-4f74-890f-f0423272b79e"
      },
      "execution_count": null,
      "outputs": [
        {
          "output_type": "execute_result",
          "data": {
            "text/plain": [
              "<tf.Tensor: shape=(2,), dtype=int32, numpy=array([ 7, 10], dtype=int32)>"
            ]
          },
          "metadata": {},
          "execution_count": 74
        }
      ]
    },
    {
      "cell_type": "markdown",
      "source": [
        "Let's go through the following forms of aggregation:\n",
        "- get the minimum\n",
        "- get the maximum\n",
        "- get the mean\n",
        "- get the sum"
      ],
      "metadata": {
        "id": "r40X6F2yv_Ry"
      }
    },
    {
      "cell_type": "code",
      "source": [
        "E"
      ],
      "metadata": {
        "colab": {
          "base_uri": "https://localhost:8080/"
        },
        "id": "a55JqJHbxPQs",
        "outputId": "980b2179-ee2e-431b-88e1-c15e88dee997"
      },
      "execution_count": null,
      "outputs": [
        {
          "output_type": "execute_result",
          "data": {
            "text/plain": [
              "<tf.Tensor: shape=(2,), dtype=float32, numpy=array([ 7., 10.], dtype=float32)>"
            ]
          },
          "metadata": {},
          "execution_count": 75
        }
      ]
    },
    {
      "cell_type": "code",
      "source": [
        "# Getting the minimum value fo a tensor\n",
        "tf.reduce_min(E)"
      ],
      "metadata": {
        "colab": {
          "base_uri": "https://localhost:8080/"
        },
        "id": "LGRaUCttxAjh",
        "outputId": "5064835f-0f70-4c40-c5f8-ed567a14966f"
      },
      "execution_count": null,
      "outputs": [
        {
          "output_type": "execute_result",
          "data": {
            "text/plain": [
              "<tf.Tensor: shape=(), dtype=float32, numpy=7.0>"
            ]
          },
          "metadata": {},
          "execution_count": 76
        }
      ]
    },
    {
      "cell_type": "code",
      "source": [
        "# Getting the maximum value of a tensor\n",
        "tf.reduce_max(E)"
      ],
      "metadata": {
        "colab": {
          "base_uri": "https://localhost:8080/"
        },
        "id": "3SrOvJTDxAZb",
        "outputId": "8e5dfeea-edf3-46c7-bb47-c68cdce9d14c"
      },
      "execution_count": null,
      "outputs": [
        {
          "output_type": "execute_result",
          "data": {
            "text/plain": [
              "<tf.Tensor: shape=(), dtype=float32, numpy=10.0>"
            ]
          },
          "metadata": {},
          "execution_count": 77
        }
      ]
    },
    {
      "cell_type": "code",
      "source": [
        "# Getting the mean of a tensor\n",
        "tf.reduce_mean(E)"
      ],
      "metadata": {
        "colab": {
          "base_uri": "https://localhost:8080/"
        },
        "id": "lWtyrUR1wbtK",
        "outputId": "cc810864-53ef-4c66-8b05-af9f3f365176"
      },
      "execution_count": null,
      "outputs": [
        {
          "output_type": "execute_result",
          "data": {
            "text/plain": [
              "<tf.Tensor: shape=(), dtype=float32, numpy=8.5>"
            ]
          },
          "metadata": {},
          "execution_count": 78
        }
      ]
    },
    {
      "cell_type": "code",
      "source": [
        "# Getting the sum of a tensor\n",
        "tf.reduce_sum(E)"
      ],
      "metadata": {
        "colab": {
          "base_uri": "https://localhost:8080/"
        },
        "id": "P3x7nyPLw0hY",
        "outputId": "a6dc9ada-ac40-41e2-ff11-49295dc0ee1d"
      },
      "execution_count": null,
      "outputs": [
        {
          "output_type": "execute_result",
          "data": {
            "text/plain": [
              "<tf.Tensor: shape=(), dtype=float32, numpy=17.0>"
            ]
          },
          "metadata": {},
          "execution_count": 79
        }
      ]
    },
    {
      "cell_type": "code",
      "source": [
        "# Getting the variance of a tensor\n",
        "tf.math.reduce_variance(E)"
      ],
      "metadata": {
        "colab": {
          "base_uri": "https://localhost:8080/"
        },
        "id": "o5effkaExY3a",
        "outputId": "27f98ca2-5bc8-4dd6-9171-9fc5f2c22da5"
      },
      "execution_count": null,
      "outputs": [
        {
          "output_type": "execute_result",
          "data": {
            "text/plain": [
              "<tf.Tensor: shape=(), dtype=float32, numpy=2.25>"
            ]
          },
          "metadata": {},
          "execution_count": 80
        }
      ]
    },
    {
      "cell_type": "code",
      "source": [
        "# Getting the standard deviation of a tensor\n",
        "tf.math.reduce_std(E)"
      ],
      "metadata": {
        "colab": {
          "base_uri": "https://localhost:8080/"
        },
        "id": "0UVmcpIdxvRg",
        "outputId": "60efaaa3-4d79-49fc-ac31-5398679a714c"
      },
      "execution_count": null,
      "outputs": [
        {
          "output_type": "execute_result",
          "data": {
            "text/plain": [
              "<tf.Tensor: shape=(), dtype=float32, numpy=1.5>"
            ]
          },
          "metadata": {},
          "execution_count": 81
        }
      ]
    },
    {
      "cell_type": "markdown",
      "source": [
        "### Find the positional maximum and minimum of a tensor\n",
        "\n"
      ],
      "metadata": {
        "id": "7qBiakAJyKSS"
      }
    },
    {
      "cell_type": "code",
      "source": [
        "tf.random.set_seed(42)\n",
        "F = tf.random.uniform(shape=[50])\n",
        "F"
      ],
      "metadata": {
        "colab": {
          "base_uri": "https://localhost:8080/"
        },
        "id": "qlFwPye-0DeR",
        "outputId": "87bcc853-0423-4d32-e3d0-a91e3881f376"
      },
      "execution_count": null,
      "outputs": [
        {
          "output_type": "execute_result",
          "data": {
            "text/plain": [
              "<tf.Tensor: shape=(50,), dtype=float32, numpy=\n",
              "array([0.6645621 , 0.44100678, 0.3528825 , 0.46448255, 0.03366041,\n",
              "       0.68467236, 0.74011743, 0.8724445 , 0.22632635, 0.22319686,\n",
              "       0.3103881 , 0.7223358 , 0.13318717, 0.5480639 , 0.5746088 ,\n",
              "       0.8996835 , 0.00946367, 0.5212307 , 0.6345445 , 0.1993283 ,\n",
              "       0.72942245, 0.54583454, 0.10756552, 0.6767061 , 0.6602763 ,\n",
              "       0.33695042, 0.60141766, 0.21062577, 0.8527372 , 0.44062173,\n",
              "       0.9485276 , 0.23752594, 0.81179297, 0.5263394 , 0.494308  ,\n",
              "       0.21612847, 0.8457197 , 0.8718841 , 0.3083862 , 0.6868038 ,\n",
              "       0.23764038, 0.7817228 , 0.9671384 , 0.06870162, 0.79873943,\n",
              "       0.66028714, 0.5871513 , 0.16461694, 0.7381023 , 0.32054043],\n",
              "      dtype=float32)>"
            ]
          },
          "metadata": {},
          "execution_count": 82
        }
      ]
    },
    {
      "cell_type": "code",
      "source": [
        "tf.math.reduce_variance(F), tf.math.reduce_std(F)"
      ],
      "metadata": {
        "colab": {
          "base_uri": "https://localhost:8080/"
        },
        "id": "gFwYYyya0npZ",
        "outputId": "14fee119-9d4d-434a-bea3-6127901c5b0e"
      },
      "execution_count": null,
      "outputs": [
        {
          "output_type": "execute_result",
          "data": {
            "text/plain": [
              "(<tf.Tensor: shape=(), dtype=float32, numpy=0.07098255>,\n",
              " <tf.Tensor: shape=(), dtype=float32, numpy=0.26642552>)"
            ]
          },
          "metadata": {},
          "execution_count": 83
        }
      ]
    },
    {
      "cell_type": "code",
      "source": [
        "# Finding positional max\n",
        "tf.argmax(F)"
      ],
      "metadata": {
        "colab": {
          "base_uri": "https://localhost:8080/"
        },
        "id": "zIWHO1l40vhG",
        "outputId": "2f99d9e8-ea8b-4161-9214-caece8dea5df"
      },
      "execution_count": null,
      "outputs": [
        {
          "output_type": "execute_result",
          "data": {
            "text/plain": [
              "<tf.Tensor: shape=(), dtype=int64, numpy=42>"
            ]
          },
          "metadata": {},
          "execution_count": 84
        }
      ]
    },
    {
      "cell_type": "code",
      "source": [
        "# Index on our largest value position\n",
        "F[tf.argmax(F)]"
      ],
      "metadata": {
        "colab": {
          "base_uri": "https://localhost:8080/"
        },
        "id": "sJx5-GuY3Uis",
        "outputId": "1e228c2b-d06c-4e2c-9ac9-80532e0f6941"
      },
      "execution_count": null,
      "outputs": [
        {
          "output_type": "execute_result",
          "data": {
            "text/plain": [
              "<tf.Tensor: shape=(), dtype=float32, numpy=0.9671384>"
            ]
          },
          "metadata": {},
          "execution_count": 85
        }
      ]
    },
    {
      "cell_type": "code",
      "source": [
        "# Find max value of F"
      ],
      "metadata": {
        "id": "R6lXTpTz3ax8"
      },
      "execution_count": null,
      "outputs": []
    },
    {
      "cell_type": "code",
      "source": [
        "tf.reduce_max(F)"
      ],
      "metadata": {
        "colab": {
          "base_uri": "https://localhost:8080/"
        },
        "id": "dNSLTgDp3g0A",
        "outputId": "61fc0335-fa51-4add-f071-a344832055f0"
      },
      "execution_count": null,
      "outputs": [
        {
          "output_type": "execute_result",
          "data": {
            "text/plain": [
              "<tf.Tensor: shape=(), dtype=float32, numpy=0.9671384>"
            ]
          },
          "metadata": {},
          "execution_count": 87
        }
      ]
    },
    {
      "cell_type": "code",
      "source": [
        "# Check for equality\n",
        "F[tf.argmax(F)] == tf.reduce_max(F)"
      ],
      "metadata": {
        "colab": {
          "base_uri": "https://localhost:8080/"
        },
        "id": "Pnk18cfv0z49",
        "outputId": "bcb15c3a-620d-477a-cd3a-547cf6d5fba7"
      },
      "execution_count": null,
      "outputs": [
        {
          "output_type": "execute_result",
          "data": {
            "text/plain": [
              "<tf.Tensor: shape=(), dtype=bool, numpy=True>"
            ]
          },
          "metadata": {},
          "execution_count": 88
        }
      ]
    },
    {
      "cell_type": "code",
      "source": [
        "# Find the positional min\n",
        "tf.argmin(F)"
      ],
      "metadata": {
        "colab": {
          "base_uri": "https://localhost:8080/"
        },
        "id": "jxeYHP3d01_M",
        "outputId": "c7d4e6bb-ac81-46b3-b642-80c180e74433"
      },
      "execution_count": null,
      "outputs": [
        {
          "output_type": "execute_result",
          "data": {
            "text/plain": [
              "<tf.Tensor: shape=(), dtype=int64, numpy=16>"
            ]
          },
          "metadata": {},
          "execution_count": 89
        }
      ]
    },
    {
      "cell_type": "code",
      "source": [
        "# Find the min using the positional min index\n",
        "F[tf.argmin(F)]"
      ],
      "metadata": {
        "colab": {
          "base_uri": "https://localhost:8080/"
        },
        "id": "jkxvcJ7a4FDE",
        "outputId": "371c3a22-548f-4443-94d3-f1d42f436ec3"
      },
      "execution_count": null,
      "outputs": [
        {
          "output_type": "execute_result",
          "data": {
            "text/plain": [
              "<tf.Tensor: shape=(), dtype=float32, numpy=0.009463668>"
            ]
          },
          "metadata": {},
          "execution_count": 90
        }
      ]
    },
    {
      "cell_type": "code",
      "source": [
        "# Find min value of F\n",
        "tf.reduce_min(F)"
      ],
      "metadata": {
        "colab": {
          "base_uri": "https://localhost:8080/"
        },
        "id": "27YROJWD4Mft",
        "outputId": "f494046d-7776-4373-b604-7e484dcbdbd4"
      },
      "execution_count": null,
      "outputs": [
        {
          "output_type": "execute_result",
          "data": {
            "text/plain": [
              "<tf.Tensor: shape=(), dtype=float32, numpy=0.009463668>"
            ]
          },
          "metadata": {},
          "execution_count": 91
        }
      ]
    },
    {
      "cell_type": "code",
      "source": [
        "# Check for equality\n",
        "F[tf.argmin(F)] == tf.reduce_min(F)"
      ],
      "metadata": {
        "colab": {
          "base_uri": "https://localhost:8080/"
        },
        "id": "Jv4wWnv64SL7",
        "outputId": "2fded6b9-2805-4b33-ce4b-3e8f078e04a1"
      },
      "execution_count": null,
      "outputs": [
        {
          "output_type": "execute_result",
          "data": {
            "text/plain": [
              "<tf.Tensor: shape=(), dtype=bool, numpy=True>"
            ]
          },
          "metadata": {},
          "execution_count": 92
        }
      ]
    },
    {
      "cell_type": "markdown",
      "source": [
        "### Squeezing a tensor (removing all single dimensions)"
      ],
      "metadata": {
        "id": "3fIA-S7_q1Dz"
      }
    },
    {
      "cell_type": "code",
      "source": [
        "# Create a tensor to get started\n",
        "tf.random.set_seed(42)\n",
        "G  = tf.constant(tf.random.uniform(shape=[50]), shape=(1, 1, 1, 1, 50))\n",
        "G"
      ],
      "metadata": {
        "colab": {
          "base_uri": "https://localhost:8080/"
        },
        "id": "kDC2Rx1zq7VV",
        "outputId": "1666c584-2442-4adb-c201-1193b75c68b0"
      },
      "execution_count": null,
      "outputs": [
        {
          "output_type": "execute_result",
          "data": {
            "text/plain": [
              "<tf.Tensor: shape=(1, 1, 1, 1, 50), dtype=float32, numpy=\n",
              "array([[[[[0.6645621 , 0.44100678, 0.3528825 , 0.46448255, 0.03366041,\n",
              "           0.68467236, 0.74011743, 0.8724445 , 0.22632635, 0.22319686,\n",
              "           0.3103881 , 0.7223358 , 0.13318717, 0.5480639 , 0.5746088 ,\n",
              "           0.8996835 , 0.00946367, 0.5212307 , 0.6345445 , 0.1993283 ,\n",
              "           0.72942245, 0.54583454, 0.10756552, 0.6767061 , 0.6602763 ,\n",
              "           0.33695042, 0.60141766, 0.21062577, 0.8527372 , 0.44062173,\n",
              "           0.9485276 , 0.23752594, 0.81179297, 0.5263394 , 0.494308  ,\n",
              "           0.21612847, 0.8457197 , 0.8718841 , 0.3083862 , 0.6868038 ,\n",
              "           0.23764038, 0.7817228 , 0.9671384 , 0.06870162, 0.79873943,\n",
              "           0.66028714, 0.5871513 , 0.16461694, 0.7381023 , 0.32054043]]]]],\n",
              "      dtype=float32)>"
            ]
          },
          "metadata": {},
          "execution_count": 93
        }
      ]
    },
    {
      "cell_type": "code",
      "source": [
        "G.shape"
      ],
      "metadata": {
        "colab": {
          "base_uri": "https://localhost:8080/"
        },
        "id": "udiIg6RIrOOu",
        "outputId": "8b3d38c7-517a-4636-cc05-b14bed64fc73"
      },
      "execution_count": null,
      "outputs": [
        {
          "output_type": "execute_result",
          "data": {
            "text/plain": [
              "TensorShape([1, 1, 1, 1, 50])"
            ]
          },
          "metadata": {},
          "execution_count": 94
        }
      ]
    },
    {
      "cell_type": "code",
      "source": [
        "G_squeezed = tf.squeeze(G)\n",
        "G_squeezed, G_squeezed.shape"
      ],
      "metadata": {
        "colab": {
          "base_uri": "https://localhost:8080/"
        },
        "id": "iRHudcourdHj",
        "outputId": "5b9b5f6a-6c83-4af2-82ae-0520f336f67e"
      },
      "execution_count": null,
      "outputs": [
        {
          "output_type": "execute_result",
          "data": {
            "text/plain": [
              "(<tf.Tensor: shape=(50,), dtype=float32, numpy=\n",
              " array([0.6645621 , 0.44100678, 0.3528825 , 0.46448255, 0.03366041,\n",
              "        0.68467236, 0.74011743, 0.8724445 , 0.22632635, 0.22319686,\n",
              "        0.3103881 , 0.7223358 , 0.13318717, 0.5480639 , 0.5746088 ,\n",
              "        0.8996835 , 0.00946367, 0.5212307 , 0.6345445 , 0.1993283 ,\n",
              "        0.72942245, 0.54583454, 0.10756552, 0.6767061 , 0.6602763 ,\n",
              "        0.33695042, 0.60141766, 0.21062577, 0.8527372 , 0.44062173,\n",
              "        0.9485276 , 0.23752594, 0.81179297, 0.5263394 , 0.494308  ,\n",
              "        0.21612847, 0.8457197 , 0.8718841 , 0.3083862 , 0.6868038 ,\n",
              "        0.23764038, 0.7817228 , 0.9671384 , 0.06870162, 0.79873943,\n",
              "        0.66028714, 0.5871513 , 0.16461694, 0.7381023 , 0.32054043],\n",
              "       dtype=float32)>,\n",
              " TensorShape([50]))"
            ]
          },
          "metadata": {},
          "execution_count": 95
        }
      ]
    },
    {
      "cell_type": "markdown",
      "source": [
        "### One-hot encoding tensors"
      ],
      "metadata": {
        "id": "6Nx13v1WrlWZ"
      }
    },
    {
      "cell_type": "code",
      "source": [
        "# Create a list of indices\n",
        "some_list = [0, 1, 2, 3] # could be red, green, blue, purple\n",
        "\n",
        "# One hot encode our list of indices\n",
        "tf.one_hot(some_list, depth=4)"
      ],
      "metadata": {
        "colab": {
          "base_uri": "https://localhost:8080/"
        },
        "id": "_-ESIjSPryL6",
        "outputId": "040be171-cc59-4d51-9861-f8e230b461a0"
      },
      "execution_count": null,
      "outputs": [
        {
          "output_type": "execute_result",
          "data": {
            "text/plain": [
              "<tf.Tensor: shape=(4, 4), dtype=float32, numpy=\n",
              "array([[1., 0., 0., 0.],\n",
              "       [0., 1., 0., 0.],\n",
              "       [0., 0., 1., 0.],\n",
              "       [0., 0., 0., 1.]], dtype=float32)>"
            ]
          },
          "metadata": {},
          "execution_count": 96
        }
      ]
    },
    {
      "cell_type": "code",
      "source": [
        "# Specify custom values for one hot encoding (rarely will ever use)\n",
        "tf.one_hot(some_list, depth=4, on_value=\"I love deep learning\", off_value=\"I also like to dance\")"
      ],
      "metadata": {
        "colab": {
          "base_uri": "https://localhost:8080/"
        },
        "id": "NIUi5A6RtVIb",
        "outputId": "f7c43e2b-ecc9-4ca3-96f8-41774c9fb1c2"
      },
      "execution_count": null,
      "outputs": [
        {
          "output_type": "execute_result",
          "data": {
            "text/plain": [
              "<tf.Tensor: shape=(4, 4), dtype=string, numpy=\n",
              "array([[b'I love deep learning', b'I also like to dance',\n",
              "        b'I also like to dance', b'I also like to dance'],\n",
              "       [b'I also like to dance', b'I love deep learning',\n",
              "        b'I also like to dance', b'I also like to dance'],\n",
              "       [b'I also like to dance', b'I also like to dance',\n",
              "        b'I love deep learning', b'I also like to dance'],\n",
              "       [b'I also like to dance', b'I also like to dance',\n",
              "        b'I also like to dance', b'I love deep learning']], dtype=object)>"
            ]
          },
          "metadata": {},
          "execution_count": 97
        }
      ]
    },
    {
      "cell_type": "markdown",
      "source": [
        "### Squaring, log, square root"
      ],
      "metadata": {
        "id": "jNdrymsatg8z"
      }
    },
    {
      "cell_type": "code",
      "source": [
        "# Create a new tensor\n",
        "H = tf.range(1, 10)\n",
        "H"
      ],
      "metadata": {
        "colab": {
          "base_uri": "https://localhost:8080/"
        },
        "id": "uoxRbHbWue5u",
        "outputId": "e254ec40-7077-41ab-89e0-2150e4281d68"
      },
      "execution_count": null,
      "outputs": [
        {
          "output_type": "execute_result",
          "data": {
            "text/plain": [
              "<tf.Tensor: shape=(9,), dtype=int32, numpy=array([1, 2, 3, 4, 5, 6, 7, 8, 9], dtype=int32)>"
            ]
          },
          "metadata": {},
          "execution_count": 98
        }
      ]
    },
    {
      "cell_type": "code",
      "source": [
        "# Square it\n",
        "tf.square(H)"
      ],
      "metadata": {
        "colab": {
          "base_uri": "https://localhost:8080/"
        },
        "id": "oOc2Cm1tujDi",
        "outputId": "435e9e1f-27d8-4518-9262-ad909cd2c7e7"
      },
      "execution_count": null,
      "outputs": [
        {
          "output_type": "execute_result",
          "data": {
            "text/plain": [
              "<tf.Tensor: shape=(9,), dtype=int32, numpy=array([ 1,  4,  9, 16, 25, 36, 49, 64, 81], dtype=int32)>"
            ]
          },
          "metadata": {},
          "execution_count": 99
        }
      ]
    },
    {
      "cell_type": "code",
      "source": [
        "# Find the square root (will error, method requires non-int type)\n",
        "tf.sqrt(tf.cast(H, dtype=tf.float32))"
      ],
      "metadata": {
        "colab": {
          "base_uri": "https://localhost:8080/"
        },
        "id": "Jmw2TfgwupWF",
        "outputId": "510a4fad-f46d-44c5-d348-30b7d9cfd4bf"
      },
      "execution_count": null,
      "outputs": [
        {
          "output_type": "execute_result",
          "data": {
            "text/plain": [
              "<tf.Tensor: shape=(9,), dtype=float32, numpy=\n",
              "array([1.       , 1.4142135, 1.7320508, 2.       , 2.2360678, 2.4494896,\n",
              "       2.6457512, 2.828427 , 3.       ], dtype=float32)>"
            ]
          },
          "metadata": {},
          "execution_count": 100
        }
      ]
    },
    {
      "cell_type": "code",
      "source": [
        "# Find the log\n",
        "tf.math.log(tf.cast(H, dtype=tf.float32))"
      ],
      "metadata": {
        "colab": {
          "base_uri": "https://localhost:8080/"
        },
        "id": "v5LDkZCwuwpH",
        "outputId": "92699d4d-948b-4de0-dc51-dbb9390298c1"
      },
      "execution_count": null,
      "outputs": [
        {
          "output_type": "execute_result",
          "data": {
            "text/plain": [
              "<tf.Tensor: shape=(9,), dtype=float32, numpy=\n",
              "array([0.       , 0.6931472, 1.0986123, 1.3862944, 1.609438 , 1.7917595,\n",
              "       1.9459102, 2.0794415, 2.1972246], dtype=float32)>"
            ]
          },
          "metadata": {},
          "execution_count": 101
        }
      ]
    },
    {
      "cell_type": "markdown",
      "source": [
        "### Tensors and NumPy\n",
        "\n",
        "TensorFlow interacts beautifully with NumPy arrays\n",
        "\n",
        "**Note:** One of the main differences between a TensorFlow tensor and a NumPy array is that a TensorFlow tensor can be run on a GPU or TPU (for faster numerical processing)\n",
        "\n"
      ],
      "metadata": {
        "id": "4ylp4ut6vJL4"
      }
    },
    {
      "cell_type": "code",
      "source": [
        "# Create a tensor directly from a NumPy array\n",
        "J = tf.constant(np.array([3., 7., 10.]))\n",
        "J"
      ],
      "metadata": {
        "colab": {
          "base_uri": "https://localhost:8080/"
        },
        "id": "smjo4QFqvwsL",
        "outputId": "d7b408af-b96a-4d25-b598-43c8b4050af8"
      },
      "execution_count": null,
      "outputs": [
        {
          "output_type": "execute_result",
          "data": {
            "text/plain": [
              "<tf.Tensor: shape=(3,), dtype=float64, numpy=array([ 3.,  7., 10.])>"
            ]
          },
          "metadata": {},
          "execution_count": 102
        }
      ]
    },
    {
      "cell_type": "code",
      "source": [
        "# Convert out tensor to a NumPy array'\n",
        "np.array(J), type(np.array(J))"
      ],
      "metadata": {
        "colab": {
          "base_uri": "https://localhost:8080/"
        },
        "id": "chfBuwTYv95Z",
        "outputId": "687e6ad3-8f83-415f-dbef-a4a1472a8d63"
      },
      "execution_count": null,
      "outputs": [
        {
          "output_type": "execute_result",
          "data": {
            "text/plain": [
              "(array([ 3.,  7., 10.]), numpy.ndarray)"
            ]
          },
          "metadata": {},
          "execution_count": 103
        }
      ]
    },
    {
      "cell_type": "code",
      "source": [
        "# Convert tensor J to a Numpy array\n",
        "J.numpy(), type(J.numpy())"
      ],
      "metadata": {
        "colab": {
          "base_uri": "https://localhost:8080/"
        },
        "id": "GC5ItpKNwEVY",
        "outputId": "839ac366-047a-4839-ee89-c8f972cffd45"
      },
      "execution_count": null,
      "outputs": [
        {
          "output_type": "execute_result",
          "data": {
            "text/plain": [
              "(array([ 3.,  7., 10.]), numpy.ndarray)"
            ]
          },
          "metadata": {},
          "execution_count": 104
        }
      ]
    },
    {
      "cell_type": "code",
      "source": [
        "# The default types of each are slightly different\n",
        "numpy_J = tf.constant([np.array([3., 7., 10.])])\n",
        "tensor_J = tf.constant([3., 7., 10.])\n",
        "\n",
        "# Check the datatypes of each\n",
        "numpy_J.dtype, tensor_J.dtype"
      ],
      "metadata": {
        "colab": {
          "base_uri": "https://localhost:8080/"
        },
        "id": "BhJXd2cuwNNN",
        "outputId": "679b939d-a186-4ed8-e9e2-73005c2245a7"
      },
      "execution_count": null,
      "outputs": [
        {
          "output_type": "execute_result",
          "data": {
            "text/plain": [
              "(tf.float64, tf.float32)"
            ]
          },
          "metadata": {},
          "execution_count": 105
        }
      ]
    },
    {
      "cell_type": "code",
      "source": [
        "### Finding access to GPUs"
      ],
      "metadata": {
        "id": "2iYTiB-RwSMr"
      },
      "execution_count": null,
      "outputs": []
    },
    {
      "cell_type": "code",
      "source": [
        "tf.config.list_physical_devices()"
      ],
      "metadata": {
        "colab": {
          "base_uri": "https://localhost:8080/"
        },
        "id": "_ZBGfyl0xhrE",
        "outputId": "6cf81d6b-aa88-4a18-90e9-01e94cb0f213"
      },
      "execution_count": null,
      "outputs": [
        {
          "output_type": "execute_result",
          "data": {
            "text/plain": [
              "[PhysicalDevice(name='/physical_device:CPU:0', device_type='CPU'),\n",
              " PhysicalDevice(name='/physical_device:GPU:0', device_type='GPU')]"
            ]
          },
          "metadata": {},
          "execution_count": 107
        }
      ]
    },
    {
      "cell_type": "code",
      "source": [
        "!nvidia-smi"
      ],
      "metadata": {
        "colab": {
          "base_uri": "https://localhost:8080/"
        },
        "id": "wBvv8M43x1o6",
        "outputId": "43d1c14c-9167-44dd-f366-91943b9ce1af"
      },
      "execution_count": null,
      "outputs": [
        {
          "output_type": "stream",
          "name": "stdout",
          "text": [
            "Tue Oct  3 11:48:19 2023       \n",
            "+-----------------------------------------------------------------------------+\n",
            "| NVIDIA-SMI 525.105.17   Driver Version: 525.105.17   CUDA Version: 12.0     |\n",
            "|-------------------------------+----------------------+----------------------+\n",
            "| GPU  Name        Persistence-M| Bus-Id        Disp.A | Volatile Uncorr. ECC |\n",
            "| Fan  Temp  Perf  Pwr:Usage/Cap|         Memory-Usage | GPU-Util  Compute M. |\n",
            "|                               |                      |               MIG M. |\n",
            "|===============================+======================+======================|\n",
            "|   0  Tesla T4            Off  | 00000000:00:04.0 Off |                    0 |\n",
            "| N/A   55C    P0    29W /  70W |    361MiB / 15360MiB |      0%      Default |\n",
            "|                               |                      |                  N/A |\n",
            "+-------------------------------+----------------------+----------------------+\n",
            "                                                                               \n",
            "+-----------------------------------------------------------------------------+\n",
            "| Processes:                                                                  |\n",
            "|  GPU   GI   CI        PID   Type   Process name                  GPU Memory |\n",
            "|        ID   ID                                                   Usage      |\n",
            "|=============================================================================|\n",
            "+-----------------------------------------------------------------------------+\n"
          ]
        }
      ]
    },
    {
      "cell_type": "markdown",
      "source": [
        "**Note:** If you have access to a CUDA-enabled GPU, TensorFlow will automatically use it whenever possible"
      ],
      "metadata": {
        "id": "cmgz0nOwzA-V"
      }
    },
    {
      "cell_type": "markdown",
      "source": [
        "### 00. TensorFlow Fundamentals Exercises"
      ],
      "metadata": {
        "id": "bi6G8PduyyDu"
      }
    },
    {
      "cell_type": "code",
      "source": [
        "#1. Create a vector, scalar, matrix and tensor with values of your choosing using tf.constant()\n",
        "vector = tf.constant([12, 3])\n",
        "vector"
      ],
      "metadata": {
        "colab": {
          "base_uri": "https://localhost:8080/"
        },
        "id": "N3PS78QMXrWh",
        "outputId": "a66d8d5f-e14c-4856-a8fc-282a5affd1b2"
      },
      "execution_count": null,
      "outputs": [
        {
          "output_type": "execute_result",
          "data": {
            "text/plain": [
              "<tf.Tensor: shape=(2,), dtype=int32, numpy=array([12,  3], dtype=int32)>"
            ]
          },
          "metadata": {},
          "execution_count": 109
        }
      ]
    },
    {
      "cell_type": "code",
      "source": [
        "scalar = tf.constant(12)\n",
        "scalar"
      ],
      "metadata": {
        "colab": {
          "base_uri": "https://localhost:8080/"
        },
        "id": "o4PSS_dqYCWb",
        "outputId": "231ef7ab-6cae-475c-8f5c-2da742446e06"
      },
      "execution_count": null,
      "outputs": [
        {
          "output_type": "execute_result",
          "data": {
            "text/plain": [
              "<tf.Tensor: shape=(), dtype=int32, numpy=12>"
            ]
          },
          "metadata": {},
          "execution_count": 110
        }
      ]
    },
    {
      "cell_type": "code",
      "source": [
        "matrix = tf.constant([[12, 3], [3, 12]])\n",
        "matrix"
      ],
      "metadata": {
        "colab": {
          "base_uri": "https://localhost:8080/"
        },
        "id": "t2QJY2lmYHTw",
        "outputId": "da289f3a-9b88-4e5f-f566-7d53a43abf8c"
      },
      "execution_count": null,
      "outputs": [
        {
          "output_type": "execute_result",
          "data": {
            "text/plain": [
              "<tf.Tensor: shape=(2, 2), dtype=int32, numpy=\n",
              "array([[12,  3],\n",
              "       [ 3, 12]], dtype=int32)>"
            ]
          },
          "metadata": {},
          "execution_count": 111
        }
      ]
    },
    {
      "cell_type": "code",
      "source": [
        "tensor = tf.constant([[1, 2], [3, 4]])\n",
        "tensor"
      ],
      "metadata": {
        "colab": {
          "base_uri": "https://localhost:8080/"
        },
        "id": "WfQy4fcGYRyw",
        "outputId": "61b5e64d-b680-406b-ca0f-9bcc7322a852"
      },
      "execution_count": null,
      "outputs": [
        {
          "output_type": "execute_result",
          "data": {
            "text/plain": [
              "<tf.Tensor: shape=(2, 2), dtype=int32, numpy=\n",
              "array([[1, 2],\n",
              "       [3, 4]], dtype=int32)>"
            ]
          },
          "metadata": {},
          "execution_count": 112
        }
      ]
    },
    {
      "cell_type": "code",
      "source": [
        "#2. Find the shape, rank, and size of the tensors you created in #1\n",
        "tf.shape(vector), tf.rank(vector), tf.size(vector)"
      ],
      "metadata": {
        "colab": {
          "base_uri": "https://localhost:8080/"
        },
        "id": "FrEyOGSBYVH8",
        "outputId": "9619fbf1-95a9-4e84-d87f-979503a24426"
      },
      "execution_count": null,
      "outputs": [
        {
          "output_type": "execute_result",
          "data": {
            "text/plain": [
              "(<tf.Tensor: shape=(1,), dtype=int32, numpy=array([2], dtype=int32)>,\n",
              " <tf.Tensor: shape=(), dtype=int32, numpy=1>,\n",
              " <tf.Tensor: shape=(), dtype=int32, numpy=2>)"
            ]
          },
          "metadata": {},
          "execution_count": 115
        }
      ]
    },
    {
      "cell_type": "code",
      "source": [
        "vector"
      ],
      "metadata": {
        "colab": {
          "base_uri": "https://localhost:8080/"
        },
        "id": "5fc_m2m0ZRGi",
        "outputId": "3b5095fc-cd36-4f05-f989-29f81e664f50"
      },
      "execution_count": null,
      "outputs": [
        {
          "output_type": "execute_result",
          "data": {
            "text/plain": [
              "<tf.Tensor: shape=(2,), dtype=int32, numpy=array([12,  3], dtype=int32)>"
            ]
          },
          "metadata": {},
          "execution_count": 120
        }
      ]
    },
    {
      "cell_type": "code",
      "source": [
        "scalar"
      ],
      "metadata": {
        "colab": {
          "base_uri": "https://localhost:8080/"
        },
        "id": "a7CXtDRWZLM5",
        "outputId": "194096f7-cd66-4891-c463-06fddf9d9ea4"
      },
      "execution_count": null,
      "outputs": [
        {
          "output_type": "execute_result",
          "data": {
            "text/plain": [
              "<tf.Tensor: shape=(), dtype=int32, numpy=12>"
            ]
          },
          "metadata": {},
          "execution_count": 119
        }
      ]
    },
    {
      "cell_type": "code",
      "source": [
        "tf.shape(scalar), tf.rank(scalar), tf.size(scalar)"
      ],
      "metadata": {
        "colab": {
          "base_uri": "https://localhost:8080/"
        },
        "id": "9ks5gsPqYm5b",
        "outputId": "134a16fd-8a1a-4ea8-9c0a-4852eaa5ec28"
      },
      "execution_count": null,
      "outputs": [
        {
          "output_type": "execute_result",
          "data": {
            "text/plain": [
              "(<tf.Tensor: shape=(0,), dtype=int32, numpy=array([], dtype=int32)>,\n",
              " <tf.Tensor: shape=(), dtype=int32, numpy=0>,\n",
              " <tf.Tensor: shape=(), dtype=int32, numpy=1>)"
            ]
          },
          "metadata": {},
          "execution_count": 116
        }
      ]
    },
    {
      "cell_type": "code",
      "source": [
        "tf.shape(matrix), tf.rank(matrix), tf.size(matrix)"
      ],
      "metadata": {
        "colab": {
          "base_uri": "https://localhost:8080/"
        },
        "id": "w0zYHEMjY9xU",
        "outputId": "1746cc48-7611-463a-d03e-ac19f5f89f3f"
      },
      "execution_count": null,
      "outputs": [
        {
          "output_type": "execute_result",
          "data": {
            "text/plain": [
              "(<tf.Tensor: shape=(2,), dtype=int32, numpy=array([2, 2], dtype=int32)>,\n",
              " <tf.Tensor: shape=(), dtype=int32, numpy=2>,\n",
              " <tf.Tensor: shape=(), dtype=int32, numpy=4>)"
            ]
          },
          "metadata": {},
          "execution_count": 117
        }
      ]
    },
    {
      "cell_type": "code",
      "source": [
        "tf.shape(tensor), tf.rank(tensor), tf.size(tensor)"
      ],
      "metadata": {
        "colab": {
          "base_uri": "https://localhost:8080/"
        },
        "id": "VLr7RQZlZB4A",
        "outputId": "13a28f46-3cf8-42b6-eca8-7bc3258b81b2"
      },
      "execution_count": null,
      "outputs": [
        {
          "output_type": "execute_result",
          "data": {
            "text/plain": [
              "(<tf.Tensor: shape=(2,), dtype=int32, numpy=array([2, 2], dtype=int32)>,\n",
              " <tf.Tensor: shape=(), dtype=int32, numpy=2>,\n",
              " <tf.Tensor: shape=(), dtype=int32, numpy=4>)"
            ]
          },
          "metadata": {},
          "execution_count": 118
        }
      ]
    },
    {
      "cell_type": "code",
      "source": [
        "#3. Create two tensors containing random values between 0 and 1 with shape [5, 300]\n",
        "random_1 = tf.random.uniform(shape=[5, 300])\n",
        "random_1"
      ],
      "metadata": {
        "colab": {
          "base_uri": "https://localhost:8080/"
        },
        "id": "Y_fxLnivZHRS",
        "outputId": "31785e70-aff0-4b34-c565-99a415112a1a"
      },
      "execution_count": null,
      "outputs": [
        {
          "output_type": "execute_result",
          "data": {
            "text/plain": [
              "<tf.Tensor: shape=(5, 300), dtype=float32, numpy=\n",
              "array([[0.7413678 , 0.62854624, 0.01738465, ..., 0.4851334 , 0.21059811,\n",
              "        0.25082767],\n",
              "       [0.10842848, 0.48783147, 0.8240961 , ..., 0.9204427 , 0.36046863,\n",
              "        0.28176582],\n",
              "       [0.7326695 , 0.46489418, 0.13622475, ..., 0.28130388, 0.63987684,\n",
              "        0.9987265 ],\n",
              "       [0.01447165, 0.7845044 , 0.33475304, ..., 0.56194997, 0.0209924 ,\n",
              "        0.1740731 ],\n",
              "       [0.90936875, 0.19861352, 0.9481231 , ..., 0.3573054 , 0.13161755,\n",
              "        0.22565222]], dtype=float32)>"
            ]
          },
          "metadata": {},
          "execution_count": 123
        }
      ]
    },
    {
      "cell_type": "code",
      "source": [
        "random_2 = tf.random.uniform(shape=[5, 300])\n",
        "random_2"
      ],
      "metadata": {
        "colab": {
          "base_uri": "https://localhost:8080/"
        },
        "id": "lpJhycZnZgLs",
        "outputId": "e0e5886d-083d-4e6b-c5ec-2d0ffa40fd24"
      },
      "execution_count": null,
      "outputs": [
        {
          "output_type": "execute_result",
          "data": {
            "text/plain": [
              "<tf.Tensor: shape=(5, 300), dtype=float32, numpy=\n",
              "array([[0.803156  , 0.49777734, 0.37054038, ..., 0.42893624, 0.49179256,\n",
              "        0.39297235],\n",
              "       [0.14517438, 0.72666824, 0.80103934, ..., 0.832801  , 0.649397  ,\n",
              "        0.29312778],\n",
              "       [0.4216962 , 0.6768439 , 0.5627917 , ..., 0.56929183, 0.90308595,\n",
              "        0.31530714],\n",
              "       [0.6198498 , 0.70206463, 0.994668  , ..., 0.03745186, 0.23192072,\n",
              "        0.23984468],\n",
              "       [0.01790595, 0.40531397, 0.5369972 , ..., 0.62693167, 0.47887897,\n",
              "        0.25383985]], dtype=float32)>"
            ]
          },
          "metadata": {},
          "execution_count": 125
        }
      ]
    },
    {
      "cell_type": "code",
      "source": [
        "#4. Multiply the two tensors you created in #3 using matrix multiplication\n",
        "tf.matmul(random_1, tf.transpose(random_2))"
      ],
      "metadata": {
        "colab": {
          "base_uri": "https://localhost:8080/"
        },
        "id": "K7Bb8mXsZroV",
        "outputId": "dfb044ca-63db-442b-9255-c3971f39729a"
      },
      "execution_count": null,
      "outputs": [
        {
          "output_type": "execute_result",
          "data": {
            "text/plain": [
              "<tf.Tensor: shape=(5, 5), dtype=float32, numpy=\n",
              "array([[70.72621 , 75.72979 , 71.49379 , 67.994896, 69.66651 ],\n",
              "       [74.726906, 77.85752 , 71.81674 , 72.346504, 68.144295],\n",
              "       [71.27574 , 74.78479 , 70.81471 , 67.8546  , 70.592316],\n",
              "       [72.729385, 79.52104 , 73.93791 , 69.634926, 71.62953 ],\n",
              "       [74.68823 , 79.29984 , 70.17962 , 71.55749 , 73.04637 ]],\n",
              "      dtype=float32)>"
            ]
          },
          "metadata": {},
          "execution_count": 134
        }
      ]
    },
    {
      "cell_type": "code",
      "source": [
        "#5. Multiple the two tensors you created in #3 using dot product\n",
        "tf.tensordot(tf.transpose(X), Y, axes=1)"
      ],
      "metadata": {
        "colab": {
          "base_uri": "https://localhost:8080/"
        },
        "id": "p3IQjtksZ6Af",
        "outputId": "1839c096-6cef-4d5e-da35-5377e560d04f"
      },
      "execution_count": null,
      "outputs": [
        {
          "output_type": "execute_result",
          "data": {
            "text/plain": [
              "<tf.Tensor: shape=(2, 2), dtype=int32, numpy=\n",
              "array([[ 89,  98],\n",
              "       [116, 128]], dtype=int32)>"
            ]
          },
          "metadata": {},
          "execution_count": 146
        }
      ]
    },
    {
      "cell_type": "code",
      "source": [
        "#6. Create a tensor with random values between 0 and 1 with shape [224, 224, 3]\n",
        "random_3 = tf.random.uniform(shape=[224, 224, 3])\n",
        "random_3"
      ],
      "metadata": {
        "colab": {
          "base_uri": "https://localhost:8080/"
        },
        "id": "KmeSZa6Daq_q",
        "outputId": "ce713519-bafc-4c4c-80cf-1a85c6dd5fdc"
      },
      "execution_count": null,
      "outputs": [
        {
          "output_type": "execute_result",
          "data": {
            "text/plain": [
              "<tf.Tensor: shape=(224, 224, 3), dtype=float32, numpy=\n",
              "array([[[0.43555546, 0.52486527, 0.49674678],\n",
              "        [0.06710219, 0.35815144, 0.5931845 ],\n",
              "        [0.8396933 , 0.32720697, 0.08762932],\n",
              "        ...,\n",
              "        [0.24612641, 0.9342215 , 0.05903411],\n",
              "        [0.93307066, 0.512503  , 0.48924422],\n",
              "        [0.97681785, 0.9894414 , 0.81736803]],\n",
              "\n",
              "       [[0.9728149 , 0.7123945 , 0.24925625],\n",
              "        [0.27054942, 0.65331674, 0.25431752],\n",
              "        [0.29969907, 0.6473402 , 0.61158216],\n",
              "        ...,\n",
              "        [0.41850114, 0.9183353 , 0.08774114],\n",
              "        [0.60710025, 0.92464304, 0.29132044],\n",
              "        [0.14755595, 0.03294516, 0.8127129 ]],\n",
              "\n",
              "       [[0.90104914, 0.00804007, 0.2443372 ],\n",
              "        [0.71701133, 0.90716815, 0.21456563],\n",
              "        [0.7990829 , 0.9918189 , 0.51183915],\n",
              "        ...,\n",
              "        [0.8509488 , 0.8159404 , 0.47705805],\n",
              "        [0.07570207, 0.73422337, 0.3427385 ],\n",
              "        [0.26765156, 0.38085854, 0.45572805]],\n",
              "\n",
              "       ...,\n",
              "\n",
              "       [[0.18761933, 0.00920856, 0.70124197],\n",
              "        [0.08083069, 0.549742  , 0.6088327 ],\n",
              "        [0.16830242, 0.687148  , 0.76961887],\n",
              "        ...,\n",
              "        [0.4954375 , 0.5678084 , 0.07287478],\n",
              "        [0.07095361, 0.19544816, 0.29444373],\n",
              "        [0.68754125, 0.73415554, 0.3547299 ]],\n",
              "\n",
              "       [[0.31692898, 0.67925036, 0.33037102],\n",
              "        [0.2845199 , 0.11748242, 0.12562299],\n",
              "        [0.1603725 , 0.40151358, 0.44442987],\n",
              "        ...,\n",
              "        [0.20047164, 0.11027908, 0.3234501 ],\n",
              "        [0.146994  , 0.10499954, 0.49690545],\n",
              "        [0.8318136 , 0.52519095, 0.16305494]],\n",
              "\n",
              "       [[0.6775838 , 0.28184998, 0.80041397],\n",
              "        [0.21804118, 0.70799506, 0.8462702 ],\n",
              "        [0.92774117, 0.3301983 , 0.6232302 ],\n",
              "        ...,\n",
              "        [0.59664214, 0.71712804, 0.74279964],\n",
              "        [0.44430482, 0.8588613 , 0.1727078 ],\n",
              "        [0.9972558 , 0.07016063, 0.5944129 ]]], dtype=float32)>"
            ]
          },
          "metadata": {},
          "execution_count": 148
        }
      ]
    },
    {
      "cell_type": "code",
      "source": [
        "#7. Find the min and max values of the tensor you created in #6 along the first axis\n",
        "tf.reduce_max(random_3, axis=1)"
      ],
      "metadata": {
        "colab": {
          "base_uri": "https://localhost:8080/"
        },
        "id": "5A6Lb1wGcALi",
        "outputId": "04edacb5-e468-41bf-b1d6-e878507e3c09"
      },
      "execution_count": null,
      "outputs": [
        {
          "output_type": "execute_result",
          "data": {
            "text/plain": [
              "<tf.Tensor: shape=(224, 3), dtype=float32, numpy=\n",
              "array([[0.9981525 , 0.99638987, 0.9974674 ],\n",
              "       [0.9886224 , 0.9969417 , 0.99889195],\n",
              "       [0.9972576 , 0.9967513 , 0.99396455],\n",
              "       [0.9991329 , 0.9899676 , 0.9989213 ],\n",
              "       [0.9989555 , 0.99609125, 0.99637616],\n",
              "       [0.9971702 , 0.9904585 , 0.9968703 ],\n",
              "       [0.9995072 , 0.99808645, 0.9970161 ],\n",
              "       [0.9975711 , 0.9977248 , 0.9997566 ],\n",
              "       [0.9865507 , 0.98675287, 0.99593496],\n",
              "       [0.99815917, 0.99854636, 0.99745524],\n",
              "       [0.99576557, 0.99058115, 0.99999976],\n",
              "       [0.9982556 , 0.9995866 , 0.99857676],\n",
              "       [0.9877776 , 0.99654114, 0.99287283],\n",
              "       [0.992146  , 0.99753284, 0.9992635 ],\n",
              "       [0.9989431 , 0.9928814 , 0.99116766],\n",
              "       [0.99370635, 0.9977119 , 0.9977678 ],\n",
              "       [0.9933958 , 0.9970466 , 0.9960067 ],\n",
              "       [0.9935267 , 0.9977815 , 0.9984226 ],\n",
              "       [0.9947128 , 0.9961387 , 0.9893191 ],\n",
              "       [0.99219096, 0.99865794, 0.9990424 ],\n",
              "       [0.9920968 , 0.9994823 , 0.97935927],\n",
              "       [0.9993522 , 0.997843  , 0.99549985],\n",
              "       [0.9929693 , 0.9932729 , 0.9977958 ],\n",
              "       [0.9966999 , 0.99870837, 0.99871314],\n",
              "       [0.98218095, 0.99287295, 0.99686444],\n",
              "       [0.99811065, 0.9985453 , 0.99481165],\n",
              "       [0.9927727 , 0.9993979 , 0.99866664],\n",
              "       [0.99953556, 0.9995935 , 0.9988339 ],\n",
              "       [0.99606776, 0.9899144 , 0.9894657 ],\n",
              "       [0.9982308 , 0.99241626, 0.9999794 ],\n",
              "       [0.9922831 , 0.99617064, 0.99641347],\n",
              "       [0.9983398 , 0.99777615, 0.99893343],\n",
              "       [0.99871016, 0.9910548 , 0.9993926 ],\n",
              "       [0.999032  , 0.9974208 , 0.9988197 ],\n",
              "       [0.9976357 , 0.99080884, 0.9935752 ],\n",
              "       [0.9962852 , 0.99280393, 0.9836433 ],\n",
              "       [0.99997437, 0.99987435, 0.9929683 ],\n",
              "       [0.9891908 , 0.9943323 , 0.9997103 ],\n",
              "       [0.99993205, 0.9883673 , 0.9996573 ],\n",
              "       [0.99610734, 0.9901085 , 0.9982575 ],\n",
              "       [0.99892914, 0.9968444 , 0.9982182 ],\n",
              "       [0.99850214, 0.9984175 , 0.9820651 ],\n",
              "       [0.99937844, 0.9965805 , 0.9981543 ],\n",
              "       [0.9938623 , 0.9984739 , 0.9982494 ],\n",
              "       [0.9996182 , 0.9967872 , 0.9990134 ],\n",
              "       [0.9979373 , 0.9868672 , 0.9981594 ],\n",
              "       [0.9990076 , 0.98665655, 0.99705446],\n",
              "       [0.9945195 , 0.99571455, 0.9928684 ],\n",
              "       [0.9980483 , 0.9991995 , 0.99912596],\n",
              "       [0.997007  , 0.9902295 , 0.9960854 ],\n",
              "       [0.9963937 , 0.99889314, 0.9997388 ],\n",
              "       [0.9989244 , 0.99898493, 0.9946766 ],\n",
              "       [0.99870646, 0.9942931 , 0.9973142 ],\n",
              "       [0.9979055 , 0.9995868 , 0.9874617 ],\n",
              "       [0.9950191 , 0.9949938 , 0.99996066],\n",
              "       [0.9970554 , 0.99644244, 0.9949348 ],\n",
              "       [0.99959517, 0.99890804, 0.9971669 ],\n",
              "       [0.9961269 , 0.9960451 , 0.99841356],\n",
              "       [0.9990605 , 0.99876606, 0.99215627],\n",
              "       [0.9990183 , 0.9981787 , 0.9907998 ],\n",
              "       [0.99779224, 0.9976418 , 0.9940504 ],\n",
              "       [0.9981724 , 0.9973724 , 0.9903966 ],\n",
              "       [0.99692285, 0.9938363 , 0.9968319 ],\n",
              "       [0.99879515, 0.99998796, 0.99980795],\n",
              "       [0.99068296, 0.9994657 , 0.99993503],\n",
              "       [0.9958061 , 0.9924549 , 0.99457073],\n",
              "       [0.99570453, 0.99472284, 0.99996495],\n",
              "       [0.99387467, 0.9953934 , 0.9942273 ],\n",
              "       [0.99938583, 0.97928023, 0.99536407],\n",
              "       [0.9889529 , 0.99917424, 0.99248815],\n",
              "       [0.9919157 , 0.99882317, 0.9958848 ],\n",
              "       [0.9916698 , 0.9792329 , 0.99959135],\n",
              "       [0.99969435, 0.99388516, 0.9911933 ],\n",
              "       [0.99978375, 0.99679804, 0.99480736],\n",
              "       [0.98729634, 0.99137175, 0.99868274],\n",
              "       [0.990955  , 0.9869784 , 0.9970306 ],\n",
              "       [0.9995395 , 0.9997035 , 0.99865746],\n",
              "       [0.98621523, 0.9978243 , 0.9987954 ],\n",
              "       [0.99886   , 0.9957136 , 0.9916973 ],\n",
              "       [0.9945717 , 0.98876417, 0.99123764],\n",
              "       [0.99517775, 0.9998504 , 0.99989176],\n",
              "       [0.9977015 , 0.9986056 , 0.9948847 ],\n",
              "       [0.99478364, 0.96810627, 0.9945313 ],\n",
              "       [0.9969703 , 0.98854935, 0.99412704],\n",
              "       [0.9961542 , 0.9922745 , 0.99182045],\n",
              "       [0.99322784, 0.9894067 , 0.99846685],\n",
              "       [0.9969996 , 0.9942653 , 0.99224925],\n",
              "       [0.99495006, 0.99068487, 0.99785244],\n",
              "       [0.9909476 , 0.9992614 , 0.9958228 ],\n",
              "       [0.99929464, 0.99713457, 0.9983684 ],\n",
              "       [0.9903102 , 0.9988501 , 0.9850656 ],\n",
              "       [0.9918406 , 0.9902953 , 0.99120617],\n",
              "       [0.9996058 , 0.9916123 , 0.9940834 ],\n",
              "       [0.99830186, 0.99821866, 0.9994153 ],\n",
              "       [0.99855936, 0.9970367 , 0.9985763 ],\n",
              "       [0.99604666, 0.9985775 , 0.99565375],\n",
              "       [0.9985461 , 0.9868803 , 0.9985565 ],\n",
              "       [0.9977397 , 0.9933326 , 0.98691475],\n",
              "       [0.98614514, 0.9998543 , 0.9978372 ],\n",
              "       [0.9979192 , 0.9987447 , 0.9994358 ],\n",
              "       [0.99708664, 0.9990618 , 0.9985056 ],\n",
              "       [0.99876714, 0.99195766, 0.9997009 ],\n",
              "       [0.9940907 , 0.99868655, 0.9998025 ],\n",
              "       [0.9949752 , 0.9978173 , 0.9996158 ],\n",
              "       [0.99964154, 0.9977126 , 0.9992235 ],\n",
              "       [0.9980217 , 0.9995899 , 0.99648213],\n",
              "       [0.9951807 , 0.99990284, 0.9994534 ],\n",
              "       [0.99772835, 0.99487007, 0.9982796 ],\n",
              "       [0.9971982 , 0.9967661 , 0.9972074 ],\n",
              "       [0.99434733, 0.9999908 , 0.9936955 ],\n",
              "       [0.99842834, 0.9977846 , 0.9976703 ],\n",
              "       [0.99877846, 0.99533856, 0.99428034],\n",
              "       [0.99849546, 0.99830186, 0.9976462 ],\n",
              "       [0.99879456, 0.9965334 , 0.9992851 ],\n",
              "       [0.9990628 , 0.99384284, 0.9967058 ],\n",
              "       [0.9971826 , 0.9979137 , 0.99592817],\n",
              "       [0.99577355, 0.98502374, 0.996673  ],\n",
              "       [0.99809444, 0.9839308 , 0.9989768 ],\n",
              "       [0.9995817 , 0.9957166 , 0.9987191 ],\n",
              "       [0.99881077, 0.998914  , 0.9951304 ],\n",
              "       [0.99996245, 0.99979115, 0.99809706],\n",
              "       [0.9886297 , 0.9968635 , 0.9946606 ],\n",
              "       [0.9974141 , 0.9970206 , 0.9962374 ],\n",
              "       [0.99856997, 0.9965972 , 0.995283  ],\n",
              "       [0.9927498 , 0.9961443 , 0.99732566],\n",
              "       [0.9991671 , 0.9959409 , 0.99444103],\n",
              "       [0.99658   , 0.9968586 , 0.9960389 ],\n",
              "       [0.99993956, 0.9866439 , 0.999401  ],\n",
              "       [0.9985831 , 0.99596345, 0.99758804],\n",
              "       [0.9948429 , 0.9979181 , 0.99603355],\n",
              "       [0.9980824 , 0.98642385, 0.99732614],\n",
              "       [0.9991913 , 0.9917662 , 0.99739563],\n",
              "       [0.99957395, 0.999372  , 0.99550927],\n",
              "       [0.98439884, 0.9997083 , 0.99644625],\n",
              "       [0.9958116 , 0.99460614, 0.99823403],\n",
              "       [0.9989419 , 0.99566555, 0.98294497],\n",
              "       [0.99696016, 0.99982667, 0.9964628 ],\n",
              "       [0.9970894 , 0.99967   , 0.99598825],\n",
              "       [0.99626505, 0.9952992 , 0.98998165],\n",
              "       [0.9963374 , 0.99930847, 0.99089813],\n",
              "       [0.98404706, 0.99261296, 0.9961287 ],\n",
              "       [0.9966674 , 0.9891186 , 0.99864376],\n",
              "       [0.99344325, 0.99893844, 0.9985846 ],\n",
              "       [0.9948801 , 0.9980869 , 0.99801934],\n",
              "       [0.99909294, 0.9995104 , 0.99204636],\n",
              "       [0.9816042 , 0.9715853 , 0.99649453],\n",
              "       [0.99910164, 0.99872947, 0.99181974],\n",
              "       [0.9985832 , 0.9997159 , 0.9970223 ],\n",
              "       [0.99159217, 0.9851376 , 0.9956001 ],\n",
              "       [0.9973211 , 0.99865425, 0.9983177 ],\n",
              "       [0.99342453, 0.99461794, 0.99797034],\n",
              "       [0.98766184, 0.99681187, 0.9959376 ],\n",
              "       [0.9984331 , 0.9991778 , 0.9994798 ],\n",
              "       [0.9980172 , 0.9972657 , 0.99650705],\n",
              "       [0.9999416 , 0.99404955, 0.99878836],\n",
              "       [0.99792874, 0.9934894 , 0.9880836 ],\n",
              "       [0.9998523 , 0.99616337, 0.99959457],\n",
              "       [0.9977789 , 0.9984497 , 0.9994838 ],\n",
              "       [0.99655735, 0.99794614, 0.99946725],\n",
              "       [0.98450136, 0.9973551 , 0.9948242 ],\n",
              "       [0.9990816 , 0.99642944, 0.99965036],\n",
              "       [0.9976764 , 0.9886373 , 0.9989345 ],\n",
              "       [0.9981375 , 0.99357355, 0.9992099 ],\n",
              "       [0.9965513 , 0.9970782 , 0.9982952 ],\n",
              "       [0.9982797 , 0.9910172 , 0.9965919 ],\n",
              "       [0.99905705, 0.9852053 , 0.99034905],\n",
              "       [0.9981129 , 0.9921571 , 0.99055433],\n",
              "       [0.9999275 , 0.9875412 , 0.99897385],\n",
              "       [0.99316585, 0.9969562 , 0.99905896],\n",
              "       [0.9893631 , 0.99857116, 0.9908534 ],\n",
              "       [0.99848795, 0.99666715, 0.99874115],\n",
              "       [0.9933727 , 0.9895152 , 0.9852557 ],\n",
              "       [0.9886092 , 0.9993808 , 0.99914324],\n",
              "       [0.99700546, 0.9948472 , 0.9987912 ],\n",
              "       [0.9958856 , 0.9956182 , 0.9888239 ],\n",
              "       [0.9914955 , 0.99611557, 0.9972826 ],\n",
              "       [0.99906206, 0.9902108 , 0.99441206],\n",
              "       [0.9734001 , 0.99938047, 0.99675775],\n",
              "       [0.9934399 , 0.99907696, 0.9958066 ],\n",
              "       [0.997363  , 0.9984932 , 0.98893595],\n",
              "       [0.9957087 , 0.9984565 , 0.9992132 ],\n",
              "       [0.9951242 , 0.99749875, 0.9974605 ],\n",
              "       [0.9981576 , 0.9914367 , 0.9998696 ],\n",
              "       [0.99851894, 0.99328125, 0.99583876],\n",
              "       [0.98949254, 0.9997295 , 0.99745953],\n",
              "       [0.99869883, 0.99662304, 0.9880121 ],\n",
              "       [0.999424  , 0.9987309 , 0.99684167],\n",
              "       [0.9955778 , 0.9996489 , 0.99712014],\n",
              "       [0.99787605, 0.99599993, 0.99983275],\n",
              "       [0.999213  , 0.9969188 , 0.9906616 ],\n",
              "       [0.9986645 , 0.9963851 , 0.9981017 ],\n",
              "       [0.98422503, 0.9983767 , 0.99651957],\n",
              "       [0.9957837 , 0.99950886, 0.99585307],\n",
              "       [0.9991858 , 0.99902105, 0.99683917],\n",
              "       [0.99816155, 0.9990672 , 0.9958116 ],\n",
              "       [0.99814534, 0.9957981 , 0.99504054],\n",
              "       [0.99919045, 0.99941206, 0.99288917],\n",
              "       [0.9969249 , 0.99960315, 0.98856235],\n",
              "       [0.9961803 , 0.99579036, 0.99944293],\n",
              "       [0.9923626 , 0.99770665, 0.9938352 ],\n",
              "       [0.9983022 , 0.99451137, 0.9923228 ],\n",
              "       [0.9985095 , 0.9993776 , 0.9978944 ],\n",
              "       [0.99598324, 0.9971448 , 0.99108493],\n",
              "       [0.9972645 , 0.99757326, 0.9979881 ],\n",
              "       [0.9978975 , 0.9894916 , 0.9944632 ],\n",
              "       [0.98818636, 0.99896157, 0.9997543 ],\n",
              "       [0.99343836, 0.9970982 , 0.9996861 ],\n",
              "       [0.9937898 , 0.9923519 , 0.9975289 ],\n",
              "       [0.9786037 , 0.99708486, 0.9985887 ],\n",
              "       [0.99640286, 0.98733175, 0.9934552 ],\n",
              "       [0.99914515, 0.99813855, 0.995628  ],\n",
              "       [0.9930562 , 0.98708856, 0.9909222 ],\n",
              "       [0.9974637 , 0.9956398 , 0.9971818 ],\n",
              "       [0.9956485 , 0.9993378 , 0.9993571 ],\n",
              "       [0.9965302 , 0.99904156, 0.9992361 ],\n",
              "       [0.9986075 , 0.99954975, 0.9988694 ],\n",
              "       [0.9966712 , 0.98564625, 0.9948559 ],\n",
              "       [0.9984963 , 0.9950043 , 0.99304974],\n",
              "       [0.99662113, 0.9989474 , 0.99826837],\n",
              "       [0.99753666, 0.9986595 , 0.9791472 ],\n",
              "       [0.9965317 , 0.99946034, 0.99886894],\n",
              "       [0.998669  , 0.993374  , 0.99786115],\n",
              "       [0.99699533, 0.9941193 , 0.9860338 ],\n",
              "       [0.99854064, 0.99414766, 0.9961432 ]], dtype=float32)>"
            ]
          },
          "metadata": {},
          "execution_count": 154
        }
      ]
    },
    {
      "cell_type": "code",
      "source": [
        "tf.reduce_min(random_3, axis=1)"
      ],
      "metadata": {
        "colab": {
          "base_uri": "https://localhost:8080/"
        },
        "id": "cz4j-C5Pcn27",
        "outputId": "63e85970-d759-4315-a2f1-eacabd9410a5"
      },
      "execution_count": null,
      "outputs": [
        {
          "output_type": "execute_result",
          "data": {
            "text/plain": [
              "<tf.Tensor: shape=(224, 3), dtype=float32, numpy=\n",
              "array([[4.60159779e-03, 1.35147572e-03, 9.34720039e-04],\n",
              "       [2.87663937e-03, 1.43663883e-02, 4.20856476e-03],\n",
              "       [1.50012970e-03, 2.53534317e-03, 1.35784149e-02],\n",
              "       [1.57046318e-03, 3.77488136e-03, 3.69358063e-03],\n",
              "       [2.11215019e-03, 5.22708893e-03, 3.14819813e-03],\n",
              "       [1.12868547e-02, 1.84154510e-03, 3.36062908e-03],\n",
              "       [2.99978256e-03, 9.14323330e-03, 1.80065632e-03],\n",
              "       [9.01889801e-03, 2.17076540e-02, 5.23507595e-03],\n",
              "       [1.03712082e-03, 1.68474913e-02, 5.65552711e-03],\n",
              "       [9.73701477e-04, 8.15033913e-03, 1.55866146e-03],\n",
              "       [4.35400009e-03, 3.26204300e-03, 5.76078892e-03],\n",
              "       [8.63564014e-03, 1.56164169e-05, 1.00930929e-02],\n",
              "       [2.15137005e-03, 1.08759403e-02, 2.05481052e-03],\n",
              "       [4.81367111e-04, 5.35535812e-03, 5.31291962e-03],\n",
              "       [3.56197357e-03, 6.94513321e-04, 2.93600559e-03],\n",
              "       [1.80571079e-02, 8.72123241e-03, 2.74419785e-03],\n",
              "       [4.67920303e-03, 1.10113621e-03, 1.18976831e-02],\n",
              "       [1.87551975e-03, 7.63571262e-03, 3.57496738e-03],\n",
              "       [4.39167023e-04, 9.44948196e-03, 1.44770145e-02],\n",
              "       [3.68416309e-03, 7.29298592e-03, 1.45137310e-02],\n",
              "       [4.04489040e-03, 9.99569893e-04, 2.12001801e-03],\n",
              "       [7.23576546e-03, 1.47621632e-02, 3.10182571e-04],\n",
              "       [2.79080868e-03, 2.62725353e-03, 1.63710117e-02],\n",
              "       [5.04851341e-04, 5.94222546e-03, 2.10332870e-03],\n",
              "       [2.26616859e-04, 3.42082977e-03, 2.17592716e-03],\n",
              "       [3.46446037e-03, 7.66050816e-03, 6.75249100e-03],\n",
              "       [3.15737724e-03, 3.16417217e-03, 1.54387951e-03],\n",
              "       [7.57658482e-03, 3.59058380e-04, 1.89908743e-02],\n",
              "       [3.14438343e-03, 1.16157532e-03, 7.18390942e-03],\n",
              "       [9.52970982e-03, 5.52415848e-04, 9.35792923e-05],\n",
              "       [3.34632397e-03, 3.85773182e-03, 5.39684296e-03],\n",
              "       [2.48432159e-04, 8.43989849e-03, 9.65118408e-04],\n",
              "       [7.07554817e-03, 5.30719757e-04, 6.78551197e-03],\n",
              "       [1.70063972e-03, 7.15255737e-06, 9.63473320e-03],\n",
              "       [2.48217583e-03, 5.18417358e-03, 9.50336456e-04],\n",
              "       [4.04846668e-03, 6.31201267e-03, 3.22926044e-03],\n",
              "       [5.58137894e-04, 4.73392010e-03, 6.92892075e-03],\n",
              "       [2.37572193e-03, 6.94692135e-03, 1.57380104e-03],\n",
              "       [6.13260269e-03, 1.49360895e-02, 1.31976604e-03],\n",
              "       [5.53238392e-03, 3.30412388e-03, 5.13911247e-04],\n",
              "       [1.54292583e-03, 6.67357445e-03, 1.87075138e-03],\n",
              "       [4.03809547e-03, 7.84873962e-04, 7.72130489e-03],\n",
              "       [9.61947441e-03, 2.97248363e-03, 4.39345837e-03],\n",
              "       [1.63018703e-03, 1.32799149e-04, 8.15749168e-04],\n",
              "       [6.13927841e-05, 8.28981400e-04, 1.58905983e-04],\n",
              "       [8.81075859e-04, 1.19757652e-02, 1.90771818e-02],\n",
              "       [3.82113457e-03, 2.48920918e-03, 9.28163528e-04],\n",
              "       [1.43289566e-04, 4.03904915e-03, 6.49583340e-03],\n",
              "       [9.36067104e-03, 2.84552574e-04, 8.44120979e-04],\n",
              "       [3.56447697e-03, 1.85704231e-03, 5.86271286e-04],\n",
              "       [3.34262848e-03, 3.13997269e-04, 1.56664848e-03],\n",
              "       [1.01710558e-02, 1.18571520e-02, 3.73923779e-03],\n",
              "       [1.47204399e-02, 1.24593973e-02, 6.06632233e-03],\n",
              "       [5.70476055e-03, 2.52830982e-03, 7.60984421e-03],\n",
              "       [7.10487366e-05, 1.20663643e-03, 6.43599033e-03],\n",
              "       [1.10588074e-02, 1.26206875e-03, 9.68325138e-03],\n",
              "       [2.13825703e-03, 3.67963314e-03, 8.08238983e-04],\n",
              "       [4.85110283e-03, 3.26669216e-03, 9.63568687e-04],\n",
              "       [5.54466248e-03, 4.12523746e-03, 4.80413437e-04],\n",
              "       [3.21865082e-06, 8.34143162e-03, 7.18593597e-04],\n",
              "       [1.25119686e-02, 4.34350967e-03, 7.26699829e-04],\n",
              "       [5.15758991e-03, 3.17811966e-04, 1.08859539e-02],\n",
              "       [5.22375107e-03, 1.44886971e-03, 1.06977224e-02],\n",
              "       [1.14580393e-02, 2.33650208e-04, 9.64152813e-03],\n",
              "       [1.68869495e-02, 9.82165337e-04, 1.77061558e-03],\n",
              "       [1.98936462e-03, 9.82880592e-04, 3.39865685e-04],\n",
              "       [4.19759750e-03, 1.14369392e-03, 3.18872929e-03],\n",
              "       [7.64560699e-03, 3.12638283e-03, 5.87034225e-03],\n",
              "       [1.67380571e-02, 1.54221058e-03, 2.14326382e-03],\n",
              "       [5.67972660e-03, 6.77227974e-04, 1.77037716e-03],\n",
              "       [2.46715546e-03, 5.31220436e-03, 5.31566143e-03],\n",
              "       [3.28803062e-03, 4.70101833e-03, 2.96711922e-04],\n",
              "       [3.49378586e-03, 1.40488148e-03, 2.91979313e-03],\n",
              "       [1.18172169e-03, 5.14745712e-04, 3.29017639e-05],\n",
              "       [1.46842003e-03, 7.28774071e-03, 7.75015354e-03],\n",
              "       [1.33466721e-03, 1.83637142e-02, 8.00848007e-04],\n",
              "       [1.80876255e-03, 1.76823139e-03, 8.89575481e-03],\n",
              "       [4.80628014e-03, 8.94558430e-03, 5.20348549e-04],\n",
              "       [2.57945061e-03, 2.98500061e-03, 1.27278566e-02],\n",
              "       [3.27241421e-03, 5.81288338e-03, 1.36470795e-03],\n",
              "       [6.24823570e-03, 1.36348009e-02, 1.35807991e-02],\n",
              "       [2.59387493e-03, 3.00252438e-03, 4.22596931e-04],\n",
              "       [6.81519508e-04, 5.62512875e-03, 8.21948051e-03],\n",
              "       [7.14814663e-03, 6.16562366e-03, 3.45253944e-03],\n",
              "       [1.53812170e-02, 1.26262903e-02, 7.28845596e-03],\n",
              "       [1.01921558e-02, 8.91757011e-03, 1.99830532e-03],\n",
              "       [5.50031662e-04, 2.40266323e-03, 5.04481792e-03],\n",
              "       [2.93755531e-03, 3.45098972e-03, 5.59961796e-03],\n",
              "       [7.06231594e-03, 6.27827644e-03, 5.41186333e-03],\n",
              "       [1.07824802e-03, 5.20348549e-03, 8.31842422e-04],\n",
              "       [4.51552868e-03, 3.46446037e-03, 1.36411190e-03],\n",
              "       [4.32610512e-04, 4.64200974e-03, 4.65929508e-03],\n",
              "       [2.21312046e-03, 4.97162342e-03, 3.29613686e-03],\n",
              "       [1.28928423e-02, 3.81326675e-03, 2.10916996e-03],\n",
              "       [1.10070705e-02, 1.25793219e-02, 4.95064259e-03],\n",
              "       [1.85847282e-04, 2.06196308e-03, 5.30302525e-03],\n",
              "       [1.10214949e-02, 8.36527348e-03, 7.44855404e-03],\n",
              "       [1.04653835e-03, 5.65171242e-04, 1.15013123e-03],\n",
              "       [3.25739384e-03, 4.11009789e-03, 2.31111050e-03],\n",
              "       [8.88419151e-03, 4.44531441e-04, 5.17249107e-04],\n",
              "       [1.93715096e-04, 2.50482559e-03, 1.63829327e-03],\n",
              "       [1.33216381e-03, 2.92837620e-03, 3.45706940e-05],\n",
              "       [3.09348106e-04, 7.57431984e-03, 2.90632248e-03],\n",
              "       [4.36341763e-03, 4.83214855e-03, 2.02250481e-03],\n",
              "       [3.92198563e-03, 1.20127201e-03, 9.67502594e-04],\n",
              "       [9.89770889e-03, 1.03640556e-03, 1.80959702e-03],\n",
              "       [1.02434158e-02, 2.84516811e-03, 1.88457966e-03],\n",
              "       [9.01222229e-04, 6.93154335e-03, 4.71496582e-03],\n",
              "       [4.40716743e-03, 7.23695755e-03, 5.81729412e-03],\n",
              "       [2.65014172e-03, 9.26399231e-03, 3.17311287e-03],\n",
              "       [2.62141228e-04, 1.16598606e-02, 6.15012646e-03],\n",
              "       [1.45519972e-02, 1.09422207e-03, 9.29403305e-03],\n",
              "       [2.18987465e-03, 3.38304043e-03, 5.78570366e-03],\n",
              "       [7.15196133e-03, 3.49664688e-03, 1.39248371e-03],\n",
              "       [1.95312500e-03, 1.66752338e-02, 2.69365311e-03],\n",
              "       [6.34634495e-03, 4.02355194e-03, 5.95450401e-04],\n",
              "       [1.17790699e-03, 4.44936752e-03, 7.15780258e-03],\n",
              "       [2.80141830e-05, 1.26802921e-03, 1.42908096e-03],\n",
              "       [2.85530090e-03, 9.77396965e-04, 9.38379765e-03],\n",
              "       [3.87573242e-03, 1.99854374e-03, 1.18732452e-04],\n",
              "       [4.50408459e-03, 8.09907913e-04, 5.66232204e-03],\n",
              "       [6.46781921e-03, 2.45833397e-03, 7.51602650e-03],\n",
              "       [5.64908981e-03, 6.35576248e-03, 6.61695004e-03],\n",
              "       [6.76870346e-04, 9.38296318e-04, 5.25379181e-03],\n",
              "       [9.30547714e-04, 5.27977943e-03, 3.16846371e-03],\n",
              "       [4.95076180e-04, 4.30309772e-03, 1.88171864e-03],\n",
              "       [2.60996819e-03, 2.18260288e-03, 6.87241554e-04],\n",
              "       [8.53538513e-03, 4.74810600e-03, 3.40640545e-03],\n",
              "       [8.65459442e-04, 3.48699093e-03, 3.33189964e-04],\n",
              "       [3.04472446e-03, 3.88455391e-03, 2.13909149e-03],\n",
              "       [3.40294838e-03, 1.93512440e-03, 4.02212143e-04],\n",
              "       [5.29003143e-03, 4.34315205e-03, 3.80790234e-03],\n",
              "       [1.97386742e-03, 2.86257267e-03, 6.70194626e-04],\n",
              "       [3.04579735e-04, 3.20339203e-03, 5.19216061e-03],\n",
              "       [9.48846340e-03, 3.72076035e-03, 3.47483158e-03],\n",
              "       [2.80094147e-03, 7.65872002e-03, 1.30867958e-03],\n",
              "       [8.84258747e-03, 1.22117996e-03, 3.20613384e-03],\n",
              "       [4.64022160e-03, 3.94248962e-03, 3.72993946e-03],\n",
              "       [8.10027122e-04, 1.36902332e-02, 8.88466835e-04],\n",
              "       [1.94752216e-03, 4.95672226e-03, 2.26533413e-03],\n",
              "       [1.90877914e-03, 4.64200974e-04, 6.21747971e-03],\n",
              "       [7.23969936e-03, 4.89890575e-03, 1.74546242e-03],\n",
              "       [9.98497009e-04, 2.79831886e-03, 9.54151154e-04],\n",
              "       [1.45721436e-02, 6.94870949e-04, 6.08670712e-03],\n",
              "       [4.28211689e-03, 3.92675400e-04, 1.52909756e-03],\n",
              "       [1.55735016e-03, 1.49679184e-02, 4.73582745e-03],\n",
              "       [2.91824341e-04, 1.36756897e-03, 1.54502392e-02],\n",
              "       [7.26819038e-04, 4.74548340e-03, 1.68156624e-03],\n",
              "       [2.76470184e-03, 3.19683552e-03, 2.54154205e-03],\n",
              "       [6.00910187e-03, 6.23703003e-04, 1.36278868e-02],\n",
              "       [2.04563141e-04, 2.96747684e-03, 8.53538513e-04],\n",
              "       [8.64434242e-03, 8.67295265e-03, 7.98296928e-03],\n",
              "       [8.11636448e-03, 4.46665287e-03, 4.55188751e-03],\n",
              "       [2.44486332e-03, 4.44090366e-03, 1.83147192e-02],\n",
              "       [1.73926353e-03, 7.76767731e-04, 2.00045109e-03],\n",
              "       [6.85763359e-03, 6.66558743e-03, 1.90377235e-04],\n",
              "       [7.38215446e-03, 6.05654716e-03, 1.47005320e-02],\n",
              "       [3.37362289e-05, 7.08103180e-03, 1.34181976e-03],\n",
              "       [1.53458118e-03, 7.53557682e-03, 1.97172165e-03],\n",
              "       [4.07564640e-03, 2.55131721e-03, 1.72495842e-04],\n",
              "       [5.91957569e-03, 1.16622448e-03, 2.46679783e-03],\n",
              "       [1.66712999e-02, 2.56323814e-03, 2.09891796e-03],\n",
              "       [6.98256493e-03, 1.19304657e-02, 3.61275673e-03],\n",
              "       [1.37484074e-03, 2.02953815e-03, 6.51299953e-03],\n",
              "       [2.47955322e-04, 9.92488861e-03, 5.28335571e-04],\n",
              "       [3.54301929e-03, 2.70080566e-03, 2.34925747e-03],\n",
              "       [9.01699066e-04, 4.19020653e-04, 2.62606144e-03],\n",
              "       [1.41203403e-02, 4.73058224e-03, 1.03297234e-02],\n",
              "       [3.12173367e-03, 7.19070435e-04, 1.08444691e-03],\n",
              "       [2.64286995e-04, 3.87549400e-04, 3.88932228e-03],\n",
              "       [1.21778250e-02, 1.08760595e-02, 7.69066811e-03],\n",
              "       [4.03046608e-04, 6.89864159e-04, 9.70244408e-04],\n",
              "       [5.44428825e-04, 5.15031815e-03, 2.99811363e-03],\n",
              "       [1.07812881e-02, 1.99508667e-03, 1.23716593e-02],\n",
              "       [5.58018684e-04, 7.67683983e-03, 1.57392025e-03],\n",
              "       [8.58902931e-04, 2.75278091e-03, 4.26709652e-03],\n",
              "       [1.12328529e-02, 7.33351707e-03, 3.38554382e-03],\n",
              "       [2.52127647e-04, 2.28655338e-03, 7.76457787e-03],\n",
              "       [1.23012066e-03, 1.26494169e-02, 9.75024700e-03],\n",
              "       [1.17006302e-02, 3.71825695e-03, 7.05814362e-03],\n",
              "       [8.25297832e-03, 4.77313995e-03, 8.72731209e-04],\n",
              "       [1.09544992e-02, 3.08990479e-04, 2.72166729e-03],\n",
              "       [4.29856777e-03, 6.86359406e-03, 7.96818733e-03],\n",
              "       [1.46579742e-03, 3.22449207e-03, 7.92026520e-04],\n",
              "       [7.64727592e-04, 4.30047512e-03, 7.28821754e-03],\n",
              "       [7.12871552e-03, 9.79161263e-03, 4.42028046e-04],\n",
              "       [6.23798370e-03, 9.85467434e-03, 1.13451481e-03],\n",
              "       [4.53233719e-04, 6.98888302e-03, 1.87582970e-02],\n",
              "       [1.17313862e-03, 6.33132458e-03, 1.21736526e-03],\n",
              "       [3.30805779e-03, 8.86809826e-03, 2.50971317e-03],\n",
              "       [1.98960304e-03, 3.92055511e-03, 1.31130219e-04],\n",
              "       [2.03548670e-02, 8.38088989e-03, 1.22320652e-03],\n",
              "       [2.62856483e-03, 1.41811371e-03, 8.77201557e-03],\n",
              "       [6.35910034e-03, 9.89723206e-03, 1.00255013e-04],\n",
              "       [9.08255577e-04, 9.90080833e-03, 3.15082073e-03],\n",
              "       [4.05776501e-03, 4.06551361e-03, 3.16131115e-03],\n",
              "       [1.58691406e-03, 3.34417820e-03, 3.45671177e-03],\n",
              "       [7.69805908e-03, 5.48958778e-03, 9.93275642e-03],\n",
              "       [2.92994976e-02, 1.84059143e-03, 4.85122204e-03],\n",
              "       [2.49590874e-02, 5.56814671e-03, 1.31726265e-04],\n",
              "       [2.17711926e-03, 8.64517689e-03, 1.65581703e-04],\n",
              "       [1.14917755e-03, 5.07140160e-03, 4.16135788e-03],\n",
              "       [8.63671303e-04, 5.36465645e-03, 2.42424011e-03],\n",
              "       [1.47318840e-03, 7.26199150e-03, 3.80384922e-03],\n",
              "       [4.70519066e-04, 3.19826603e-03, 2.20513344e-03],\n",
              "       [8.10742378e-04, 2.56975889e-02, 3.81112099e-04],\n",
              "       [5.77569008e-04, 1.12855434e-03, 1.02126598e-03],\n",
              "       [7.93933868e-04, 2.75421143e-02, 1.90091133e-03],\n",
              "       [5.31673431e-05, 4.41586971e-03, 3.63469124e-04],\n",
              "       [5.48040867e-03, 3.05497646e-03, 9.71746445e-03],\n",
              "       [9.50765610e-03, 7.95137882e-03, 1.21760368e-02],\n",
              "       [2.11787224e-03, 1.00561380e-02, 8.90028477e-03],\n",
              "       [2.01225281e-04, 3.46624851e-03, 3.37982178e-03],\n",
              "       [4.20248508e-03, 3.91006470e-05, 4.96864319e-03],\n",
              "       [4.02116776e-03, 5.79547882e-03, 2.34878063e-03],\n",
              "       [6.56306744e-03, 2.71058083e-03, 2.53415108e-03],\n",
              "       [3.11672688e-03, 4.51922417e-04, 8.80205631e-03],\n",
              "       [1.75833702e-03, 8.40187073e-04, 3.35764885e-03],\n",
              "       [1.52673721e-02, 3.00502777e-03, 1.10365152e-02],\n",
              "       [1.00929737e-02, 2.59482861e-03, 5.59091568e-04],\n",
              "       [1.20825768e-02, 1.04187727e-02, 9.53412056e-03],\n",
              "       [1.79743767e-03, 2.03084946e-03, 6.93798065e-05],\n",
              "       [7.36176968e-03, 1.54495239e-04, 1.09543800e-02],\n",
              "       [1.60719156e-02, 2.82144547e-03, 7.43269920e-04]], dtype=float32)>"
            ]
          },
          "metadata": {},
          "execution_count": 155
        }
      ]
    },
    {
      "cell_type": "code",
      "source": [
        "#8. Create a tensor with random values of shape [1, 224, 224, 3] then squeeze it to change the shape to [224, 224, 3]\n",
        "random_4 = tf.random.normal(shape=(1, 224, 224, 3))\n",
        "random_4"
      ],
      "metadata": {
        "colab": {
          "base_uri": "https://localhost:8080/"
        },
        "id": "9WsMrh1_dTjn",
        "outputId": "7a928074-8107-4b9d-db8f-65b185bd76f4"
      },
      "execution_count": null,
      "outputs": [
        {
          "output_type": "execute_result",
          "data": {
            "text/plain": [
              "<tf.Tensor: shape=(1, 224, 224, 3), dtype=float32, numpy=\n",
              "array([[[[-1.5883462 ,  0.8065604 , -0.2999747 ],\n",
              "         [-0.5611263 , -0.05375826,  0.8035849 ],\n",
              "         [ 0.48094264, -1.3904797 ,  1.566562  ],\n",
              "         ...,\n",
              "         [-1.565767  ,  0.37712157, -0.90467036],\n",
              "         [-1.1191462 , -0.5836915 , -1.782489  ],\n",
              "         [-0.2691249 ,  0.84964776,  1.0252889 ]],\n",
              "\n",
              "        [[-0.48493794,  0.86149454, -0.5416366 ],\n",
              "         [ 0.68322486, -0.56394464, -0.6857586 ],\n",
              "         [ 0.04330676,  1.4243605 ,  0.32329378],\n",
              "         ...,\n",
              "         [ 0.93557316,  1.54486   ,  0.6648687 ],\n",
              "         [-0.8362    , -0.7812356 ,  0.80521154],\n",
              "         [ 0.11637516, -1.0196841 ,  0.59580964]],\n",
              "\n",
              "        [[ 1.6999453 ,  0.9071062 , -0.7358341 ],\n",
              "         [ 0.68379647, -0.44996303,  1.846751  ],\n",
              "         [-0.5681918 ,  1.2748467 , -0.14185835],\n",
              "         ...,\n",
              "         [ 0.6524216 ,  0.10070856, -0.39021328],\n",
              "         [ 0.9075676 ,  0.07911042,  0.43301594],\n",
              "         [ 1.3281265 ,  1.0272236 , -1.0169483 ]],\n",
              "\n",
              "        ...,\n",
              "\n",
              "        [[ 1.3522072 ,  1.766581  , -2.1060789 ],\n",
              "         [ 0.22453818, -1.0376413 ,  1.5529076 ],\n",
              "         [-1.9471127 , -0.23129585, -0.18976845],\n",
              "         ...,\n",
              "         [-1.2547275 ,  1.4580748 , -0.8118729 ],\n",
              "         [-0.02572906, -0.46212497, -2.2588708 ],\n",
              "         [-0.97042465,  1.1317551 ,  1.4240413 ]],\n",
              "\n",
              "        [[ 2.3748465 , -0.15916233, -0.8634417 ],\n",
              "         [-0.5390869 , -1.4664797 ,  1.2754893 ],\n",
              "         [ 0.16688249,  0.5706104 ,  0.25021058],\n",
              "         ...,\n",
              "         [ 0.12176022,  0.2230394 ,  0.7306146 ],\n",
              "         [ 0.20608096, -0.8822182 , -0.19852892],\n",
              "         [ 0.7705554 ,  0.83725846, -0.4099819 ]],\n",
              "\n",
              "        [[-0.4468787 , -0.22166833, -0.51674396],\n",
              "         [-0.22989152,  0.493113  ,  0.01218284],\n",
              "         [-0.95718473, -0.13742597, -1.1790565 ],\n",
              "         ...,\n",
              "         [-2.024279  , -0.5975976 ,  1.1836922 ],\n",
              "         [ 1.7060075 ,  0.8523642 ,  0.36298022],\n",
              "         [-0.6883093 ,  0.7514941 ,  0.61461776]]]], dtype=float32)>"
            ]
          },
          "metadata": {},
          "execution_count": 157
        }
      ]
    },
    {
      "cell_type": "code",
      "source": [
        "tf.squeeze(random_4).shape"
      ],
      "metadata": {
        "colab": {
          "base_uri": "https://localhost:8080/"
        },
        "id": "onT2nixRdxUF",
        "outputId": "f6e330f3-ccd1-4dc5-88d2-b2797c7c6808"
      },
      "execution_count": null,
      "outputs": [
        {
          "output_type": "execute_result",
          "data": {
            "text/plain": [
              "TensorShape([224, 224, 3])"
            ]
          },
          "metadata": {},
          "execution_count": 159
        }
      ]
    },
    {
      "cell_type": "code",
      "source": [
        "# 9. Create a tensor with shape [10] using your own choice of values, then find the index which as the maximum value\n",
        "random_5 = tf.random.normal(shape=[10])\n",
        "random_5"
      ],
      "metadata": {
        "colab": {
          "base_uri": "https://localhost:8080/"
        },
        "id": "rDB284bzd34X",
        "outputId": "c9ff9cbe-e450-4592-c2d4-93f1089710ca"
      },
      "execution_count": null,
      "outputs": [
        {
          "output_type": "execute_result",
          "data": {
            "text/plain": [
              "<tf.Tensor: shape=(10,), dtype=float32, numpy=\n",
              "array([-1.5440758 ,  1.3154335 ,  0.7808076 ,  1.0706283 , -0.9656791 ,\n",
              "        0.25132164, -1.8545105 ,  1.4713811 , -0.7334912 , -0.344911  ],\n",
              "      dtype=float32)>"
            ]
          },
          "metadata": {},
          "execution_count": 163
        }
      ]
    },
    {
      "cell_type": "code",
      "source": [
        "tf.argmax(random_5)"
      ],
      "metadata": {
        "colab": {
          "base_uri": "https://localhost:8080/"
        },
        "id": "jVKFtklmeN3L",
        "outputId": "5a0c89b4-c275-4e27-e57e-f7f63983d199"
      },
      "execution_count": null,
      "outputs": [
        {
          "output_type": "execute_result",
          "data": {
            "text/plain": [
              "<tf.Tensor: shape=(), dtype=int64, numpy=7>"
            ]
          },
          "metadata": {},
          "execution_count": 164
        }
      ]
    },
    {
      "cell_type": "code",
      "source": [
        "#10. One-hot encode the tensor you created in #9\n",
        "tf.one_hot(tf.cast(random_5, dtype=tf.int32), depth=10)"
      ],
      "metadata": {
        "colab": {
          "base_uri": "https://localhost:8080/"
        },
        "id": "pgaAfniOei6C",
        "outputId": "b27a7442-383c-4681-bc6e-24d43aade254"
      },
      "execution_count": null,
      "outputs": [
        {
          "output_type": "execute_result",
          "data": {
            "text/plain": [
              "<tf.Tensor: shape=(10, 10), dtype=float32, numpy=\n",
              "array([[0., 0., 0., 0., 0., 0., 0., 0., 0., 0.],\n",
              "       [0., 1., 0., 0., 0., 0., 0., 0., 0., 0.],\n",
              "       [1., 0., 0., 0., 0., 0., 0., 0., 0., 0.],\n",
              "       [0., 1., 0., 0., 0., 0., 0., 0., 0., 0.],\n",
              "       [1., 0., 0., 0., 0., 0., 0., 0., 0., 0.],\n",
              "       [1., 0., 0., 0., 0., 0., 0., 0., 0., 0.],\n",
              "       [0., 0., 0., 0., 0., 0., 0., 0., 0., 0.],\n",
              "       [0., 1., 0., 0., 0., 0., 0., 0., 0., 0.],\n",
              "       [1., 0., 0., 0., 0., 0., 0., 0., 0., 0.],\n",
              "       [1., 0., 0., 0., 0., 0., 0., 0., 0., 0.]], dtype=float32)>"
            ]
          },
          "metadata": {},
          "execution_count": 171
        }
      ]
    },
    {
      "cell_type": "code",
      "source": [],
      "metadata": {
        "id": "xguL6ir9ev7K"
      },
      "execution_count": null,
      "outputs": []
    }
  ],
  "metadata": {
    "colab": {
      "provenance": [],
      "gpuType": "T4",
      "authorship_tag": "ABX9TyM01KM1SlMLtM1Ah4JjoWza",
      "include_colab_link": true
    },
    "kernelspec": {
      "display_name": "Python 3",
      "name": "python3"
    },
    "language_info": {
      "name": "python"
    },
    "accelerator": "GPU"
  },
  "nbformat": 4,
  "nbformat_minor": 0
}