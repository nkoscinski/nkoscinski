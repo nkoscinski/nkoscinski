{
  "nbformat": 4,
  "nbformat_minor": 0,
  "metadata": {
    "colab": {
      "provenance": [],
      "mount_file_id": "1zvYiiLH_PwaiMwVcK8XFSjmKgts-UGK1",
      "authorship_tag": "ABX9TyPBM+8JTBeATSp53/nh1/0t",
      "include_colab_link": true
    },
    "kernelspec": {
      "name": "python3",
      "display_name": "Python 3"
    },
    "language_info": {
      "name": "python"
    }
  },
  "cells": [
    {
      "cell_type": "markdown",
      "metadata": {
        "id": "view-in-github",
        "colab_type": "text"
      },
      "source": [
        "<a href=\"https://colab.research.google.com/github/nkoscinski/nkoscinski/blob/main/01_neural_network_regression_with_tensorflow.ipynb\" target=\"_parent\"><img src=\"https://colab.research.google.com/assets/colab-badge.svg\" alt=\"Open In Colab\"/></a>"
      ]
    },
    {
      "cell_type": "markdown",
      "source": [
        "### Introduction to Regression with Neural Networks in TensorFlow\n",
        "\n",
        "There are many definitions for a regression problem, but in our case, we're going to simplify it: predicting a numerical variable based on some other combinations of variables... predicting a number"
      ],
      "metadata": {
        "id": "cfc0Rw9j2PyR"
      }
    },
    {
      "cell_type": "code",
      "source": [
        "# Import TensorFlow\n",
        "import tensorflow as tf"
      ],
      "metadata": {
        "id": "YiSMDj222jg-"
      },
      "execution_count": null,
      "outputs": []
    },
    {
      "cell_type": "markdown",
      "source": [
        "## Creating data to view and fit"
      ],
      "metadata": {
        "id": "Ge4VnNto3Ae9"
      }
    },
    {
      "cell_type": "code",
      "source": [
        "import numpy as np\n",
        "import matplotlib.pyplot as plt\n",
        "\n",
        "# Create features\n",
        "X = np.array([-7.0, -4.0, -1.0, 2.0, 5.0, 8.0, 11.0, 14.0])\n",
        "\n",
        "# Create labels\n",
        "y = np.array([3.0, 6.0, 9.0, 12.0, 15.0, 18.0, 21.0, 24.0])\n",
        "\n",
        "# Visualize it\n",
        "plt.scatter(X, y);"
      ],
      "metadata": {
        "colab": {
          "base_uri": "https://localhost:8080/",
          "height": 435
        },
        "id": "ZNzMCklR3IMs",
        "outputId": "dbc9647e-dbe5-40f1-c3f1-80b5f51f7c31"
      },
      "execution_count": null,
      "outputs": [
        {
          "output_type": "display_data",
          "data": {
            "text/plain": [
              "<Figure size 640x480 with 1 Axes>"
            ],
            "image/png": "[encoded data removed]"
          },
          "metadata": {}
        }
      ]
    },
    {
      "cell_type": "code",
      "source": [
        "y == X + 10"
      ],
      "metadata": {
        "colab": {
          "base_uri": "https://localhost:8080/"
        },
        "id": "GwOHBRFB3loT",
        "outputId": "700f90bc-fefe-4cea-f722-18171d8fa30e"
      },
      "execution_count": null,
      "outputs": [
        {
          "output_type": "execute_result",
          "data": {
            "text/plain": [
              "array([ True,  True,  True,  True,  True,  True,  True,  True])"
            ]
          },
          "metadata": {},
          "execution_count": 3
        }
      ]
    },
    {
      "cell_type": "markdown",
      "source": [
        "## Input and output shapes"
      ],
      "metadata": {
        "id": "C8JW-W2f36Mx"
      }
    },
    {
      "cell_type": "code",
      "source": [
        "# Create a demo tensor for our housing price prediction problem\n",
        "house_info = tf.constant([\"bedroom\", \"bathroom\", \"garage\"])\n",
        "house_price = tf.constant([939700])\n",
        "house_info, house_price"
      ],
      "metadata": {
        "colab": {
          "base_uri": "https://localhost:8080/"
        },
        "id": "rcXj-S7T4Eit",
        "outputId": "d992b62e-5d9d-4ee2-e27e-5061ee4c6654"
      },
      "execution_count": null,
      "outputs": [
        {
          "output_type": "execute_result",
          "data": {
            "text/plain": [
              "(<tf.Tensor: shape=(3,), dtype=string, numpy=array([b'bedroom', b'bathroom', b'garage'], dtype=object)>,\n",
              " <tf.Tensor: shape=(1,), dtype=int32, numpy=array([939700], dtype=int32)>)"
            ]
          },
          "metadata": {},
          "execution_count": 4
        }
      ]
    },
    {
      "cell_type": "code",
      "source": [
        "X[0], y[0]"
      ],
      "metadata": {
        "colab": {
          "base_uri": "https://localhost:8080/"
        },
        "id": "jtTUWEZH41oO",
        "outputId": "97a9711a-d646-4673-d06e-82410252ec49"
      },
      "execution_count": null,
      "outputs": [
        {
          "output_type": "execute_result",
          "data": {
            "text/plain": [
              "(-7.0, 3.0)"
            ]
          },
          "metadata": {},
          "execution_count": 5
        }
      ]
    },
    {
      "cell_type": "code",
      "source": [
        "X[1], y[1]"
      ],
      "metadata": {
        "colab": {
          "base_uri": "https://localhost:8080/"
        },
        "id": "RS0t9PQu46rY",
        "outputId": "b16164e2-5641-482c-e6dd-5b04c93f641e"
      },
      "execution_count": null,
      "outputs": [
        {
          "output_type": "execute_result",
          "data": {
            "text/plain": [
              "(-4.0, 6.0)"
            ]
          },
          "metadata": {},
          "execution_count": 6
        }
      ]
    },
    {
      "cell_type": "code",
      "source": [
        "input_shape = X[0].shape\n",
        "output_shape = y[0].shape\n",
        "input_shape, output_shape"
      ],
      "metadata": {
        "colab": {
          "base_uri": "https://localhost:8080/"
        },
        "id": "DxJBlfFc4jal",
        "outputId": "46b6dc0b-e4b6-475f-a81c-8a4dc6360410"
      },
      "execution_count": null,
      "outputs": [
        {
          "output_type": "execute_result",
          "data": {
            "text/plain": [
              "((), ())"
            ]
          },
          "metadata": {},
          "execution_count": 7
        }
      ]
    },
    {
      "cell_type": "code",
      "source": [
        "X[0].ndim"
      ],
      "metadata": {
        "colab": {
          "base_uri": "https://localhost:8080/"
        },
        "id": "ICiTSv9s4yp5",
        "outputId": "fee01733-7c38-4daf-8a79-3aadc4698c62"
      },
      "execution_count": null,
      "outputs": [
        {
          "output_type": "execute_result",
          "data": {
            "text/plain": [
              "0"
            ]
          },
          "metadata": {},
          "execution_count": 8
        }
      ]
    },
    {
      "cell_type": "code",
      "source": [
        "X[0], y[0]"
      ],
      "metadata": {
        "colab": {
          "base_uri": "https://localhost:8080/"
        },
        "id": "apEPkFS75OH7",
        "outputId": "b6f1a65c-128b-4867-8cb6-d41b94b4f28c"
      },
      "execution_count": null,
      "outputs": [
        {
          "output_type": "execute_result",
          "data": {
            "text/plain": [
              "(-7.0, 3.0)"
            ]
          },
          "metadata": {},
          "execution_count": 9
        }
      ]
    },
    {
      "cell_type": "code",
      "source": [
        "# Turn our NumPy arrays into tensors\n",
        "X = tf.constant(X)\n",
        "y = tf.constant(y)\n",
        "X, y"
      ],
      "metadata": {
        "colab": {
          "base_uri": "https://localhost:8080/"
        },
        "id": "lNFIaXB_5RgB",
        "outputId": "bc777550-3967-43be-fd2d-76acdea66d41"
      },
      "execution_count": null,
      "outputs": [
        {
          "output_type": "execute_result",
          "data": {
            "text/plain": [
              "(<tf.Tensor: shape=(8,), dtype=float64, numpy=array([-7., -4., -1.,  2.,  5.,  8., 11., 14.])>,\n",
              " <tf.Tensor: shape=(8,), dtype=float64, numpy=array([ 3.,  6.,  9., 12., 15., 18., 21., 24.])>)"
            ]
          },
          "metadata": {},
          "execution_count": 10
        }
      ]
    },
    {
      "cell_type": "code",
      "source": [
        "X = tf.reshape(X, shape=(8,))\n",
        "y = tf.reshape(y, shape=(8,))"
      ],
      "metadata": {
        "id": "I2OqlO-58d_w"
      },
      "execution_count": null,
      "outputs": []
    },
    {
      "cell_type": "code",
      "source": [
        "input_shape = X[0].shape\n",
        "output_shape = y[0].shape\n",
        "input_shape, output_shape"
      ],
      "metadata": {
        "colab": {
          "base_uri": "https://localhost:8080/"
        },
        "id": "__7bf5B577Fn",
        "outputId": "77cea62b-260d-4872-d6a8-1db97f1e3ce0"
      },
      "execution_count": null,
      "outputs": [
        {
          "output_type": "execute_result",
          "data": {
            "text/plain": [
              "(TensorShape([]), TensorShape([]))"
            ]
          },
          "metadata": {},
          "execution_count": 12
        }
      ]
    },
    {
      "cell_type": "code",
      "source": [
        "plt.scatter(X, y)"
      ],
      "metadata": {
        "colab": {
          "base_uri": "https://localhost:8080/",
          "height": 453
        },
        "id": "2MrG2Hak8XgE",
        "outputId": "cd455e10-8895-4c9e-af2c-6eeb1de4a970"
      },
      "execution_count": null,
      "outputs": [
        {
          "output_type": "execute_result",
          "data": {
            "text/plain": [
              "<matplotlib.collections.PathCollection at 0x784563c42bf0>"
            ]
          },
          "metadata": {},
          "execution_count": 13
        },
        {
          "output_type": "display_data",
          "data": {
            "text/plain": [
              "<Figure size 640x480 with 1 Axes>"
            ],
            "image/png": "[encoded data removed]"
          },
          "metadata": {}
        }
      ]
    },
    {
      "cell_type": "markdown",
      "source": [
        "## Steps in modelling with TensorFlow\n",
        "\n",
        "1. **Creating a model** - define the input and output layers as well as the hidden layers of a deep learning model\n",
        "2. **Compile a model** - define the loss function (in other words, the function which tells our model how wrong it is) and the optimizer (tells our model how to improve the patterns its learning) and evaluation metrics (what we can use to interpret the performance of our model)\n",
        "3. **Fitting a model** - letting the model try to find patterns between X & y (features and labels)"
      ],
      "metadata": {
        "id": "8Sux8kgJ85kQ"
      }
    },
    {
      "cell_type": "code",
      "source": [
        "# Set random seed\n",
        "tf.random.set_seed(42)\n",
        "\n",
        "# 1. Create a model using the Sequential API\n",
        "model = tf.keras.Sequential([\n",
        "    tf.keras.layers.Dense(1)\n",
        "])\n",
        "\n",
        "# 2. Compile the model\n",
        "model.compile(loss = tf.keras.losses.mae, # mae is short for mean absolute error\n",
        "              optimizer = tf.keras.optimizers.SGD(),  # SGD is short for stochastic gradient descent\n",
        "              metrics = [\"mae\"])\n",
        "\n",
        "# 3. Fit the model\n",
        "model.fit(tf.expand_dims(X, axis=-1), y, epochs=5)"
      ],
      "metadata": {
        "colab": {
          "base_uri": "https://localhost:8080/"
        },
        "id": "2HG9p7jn8-Ht",
        "outputId": "0b151f0b-5d02-49b8-ed01-554f588f7b70"
      },
      "execution_count": null,
      "outputs": [
        {
          "output_type": "stream",
          "name": "stdout",
          "text": [
            "Epoch 1/5\n",
            "1/1 [==============================] - 1s 1s/step - loss: 12.0906 - mae: 12.0906\n",
            "Epoch 2/5\n",
            "1/1 [==============================] - 0s 16ms/step - loss: 11.9581 - mae: 11.9581\n",
            "Epoch 3/5\n",
            "1/1 [==============================] - 0s 18ms/step - loss: 11.8256 - mae: 11.8256\n",
            "Epoch 4/5\n",
            "1/1 [==============================] - 0s 30ms/step - loss: 11.6931 - mae: 11.6931\n",
            "Epoch 5/5\n",
            "1/1 [==============================] - 0s 23ms/step - loss: 11.5606 - mae: 11.5606\n"
          ]
        },
        {
          "output_type": "execute_result",
          "data": {
            "text/plain": [
              "<keras.src.callbacks.History at 0x784560bc69b0>"
            ]
          },
          "metadata": {},
          "execution_count": 14
        }
      ]
    },
    {
      "cell_type": "code",
      "source": [
        "# Check out X and y\n",
        "X, y"
      ],
      "metadata": {
        "colab": {
          "base_uri": "https://localhost:8080/"
        },
        "id": "tVBDXSiQBjuY",
        "outputId": "2f9c5949-39fc-400c-8b32-85fcdd24fc41"
      },
      "execution_count": null,
      "outputs": [
        {
          "output_type": "execute_result",
          "data": {
            "text/plain": [
              "(<tf.Tensor: shape=(8,), dtype=float64, numpy=array([-7., -4., -1.,  2.,  5.,  8., 11., 14.])>,\n",
              " <tf.Tensor: shape=(8,), dtype=float64, numpy=array([ 3.,  6.,  9., 12., 15., 18., 21., 24.])>)"
            ]
          },
          "metadata": {},
          "execution_count": 15
        }
      ]
    },
    {
      "cell_type": "code",
      "source": [
        "# Try and make a prediction using our model\n",
        "y_pred = model.predict([17.0])"
      ],
      "metadata": {
        "colab": {
          "base_uri": "https://localhost:8080/"
        },
        "id": "nVRo1wrSCwVH",
        "outputId": "0f092896-4c8f-4fb6-809c-993b0a48fb19"
      },
      "execution_count": null,
      "outputs": [
        {
          "output_type": "stream",
          "name": "stdout",
          "text": [
            "1/1 [==============================] - 0s 270ms/step\n"
          ]
        }
      ]
    },
    {
      "cell_type": "code",
      "source": [
        "y_pred"
      ],
      "metadata": {
        "colab": {
          "base_uri": "https://localhost:8080/"
        },
        "id": "4P-D40imC-oF",
        "outputId": "77c007e6-9044-42be-d968-37d28484bfe5"
      },
      "execution_count": null,
      "outputs": [
        {
          "output_type": "execute_result",
          "data": {
            "text/plain": [
              "array([[9.870437]], dtype=float32)"
            ]
          },
          "metadata": {},
          "execution_count": 17
        }
      ]
    },
    {
      "cell_type": "code",
      "source": [
        "y_pred + 18"
      ],
      "metadata": {
        "colab": {
          "base_uri": "https://localhost:8080/"
        },
        "id": "3W9HuU79DOU-",
        "outputId": "97bc20ac-0e49-4f45-dd7b-1691d979223d"
      },
      "execution_count": null,
      "outputs": [
        {
          "output_type": "execute_result",
          "data": {
            "text/plain": [
              "array([[27.870438]], dtype=float32)"
            ]
          },
          "metadata": {},
          "execution_count": 18
        }
      ]
    },
    {
      "cell_type": "markdown",
      "source": [
        "## Improving our model\n",
        "\n",
        "We can improve our model, by altering the steps we took to create a model.\n",
        "\n",
        "1. **Creating a model** - here we might add more layers, increase the number of hidden units (also called neurons) within each of the hidden layers, change the activiation function of each layer\n",
        "2. **Compiling a model** - here we might change the optimization function or the perhaps the **learning rate** of said optimization function\n",
        "3. **Fitting a model** - here we might fit a model for more epochs (leave it training for longer) or on more data (give the model more examples to learn from)"
      ],
      "metadata": {
        "id": "tLWkchsjDe5_"
      }
    },
    {
      "cell_type": "code",
      "source": [
        "# Let's rebuild our model\n",
        "\n",
        "#1. Create the model\n",
        "model = tf.keras.Sequential([\n",
        "    tf.keras.layers.Dense(1)\n",
        "])\n",
        "\n",
        "#2. Compile the model\n",
        "model.compile(loss=tf.keras.losses.mae,\n",
        "              optimizer=tf.keras.optimizers.SGD(),\n",
        "              metrics=[\"mae\"])\n",
        "\n",
        "# 3. Fit the model (this time we'll train for longer)\n",
        "model.fit(tf.expand_dims(X, axis=-1), y, epochs=100)"
      ],
      "metadata": {
        "id": "ABhqUROCDlYs",
        "colab": {
          "base_uri": "https://localhost:8080/"
        },
        "outputId": "06995299-06b1-46d4-f77d-280f49ffe8df"
      },
      "execution_count": null,
      "outputs": [
        {
          "output_type": "stream",
          "name": "stdout",
          "text": [
            "Epoch 1/100\n",
            "1/1 [==============================] - 1s 935ms/step - loss: 9.6912 - mae: 9.6912\n",
            "Epoch 2/100\n",
            "1/1 [==============================] - 0s 19ms/step - loss: 9.5587 - mae: 9.5587\n",
            "Epoch 3/100\n",
            "1/1 [==============================] - 0s 37ms/step - loss: 9.4262 - mae: 9.4262\n",
            "Epoch 4/100\n",
            "1/1 [==============================] - 0s 24ms/step - loss: 9.2937 - mae: 9.2937\n",
            "Epoch 5/100\n",
            "1/1 [==============================] - 0s 17ms/step - loss: 9.1612 - mae: 9.1612\n",
            "Epoch 6/100\n",
            "1/1 [==============================] - 0s 32ms/step - loss: 9.0287 - mae: 9.0287\n",
            "Epoch 7/100\n",
            "1/1 [==============================] - 0s 15ms/step - loss: 8.8962 - mae: 8.8962\n",
            "Epoch 8/100\n",
            "1/1 [==============================] - 0s 19ms/step - loss: 8.7637 - mae: 8.7637\n",
            "Epoch 9/100\n",
            "1/1 [==============================] - 0s 17ms/step - loss: 8.6312 - mae: 8.6312\n",
            "Epoch 10/100\n",
            "1/1 [==============================] - 0s 16ms/step - loss: 8.4987 - mae: 8.4987\n",
            "Epoch 11/100\n",
            "1/1 [==============================] - 0s 19ms/step - loss: 8.3662 - mae: 8.3662\n",
            "Epoch 12/100\n",
            "1/1 [==============================] - 0s 17ms/step - loss: 8.2337 - mae: 8.2337\n",
            "Epoch 13/100\n",
            "1/1 [==============================] - 0s 16ms/step - loss: 8.1012 - mae: 8.1012\n",
            "Epoch 14/100\n",
            "1/1 [==============================] - 0s 16ms/step - loss: 7.9687 - mae: 7.9687\n",
            "Epoch 15/100\n",
            "1/1 [==============================] - 0s 16ms/step - loss: 7.8362 - mae: 7.8362\n",
            "Epoch 16/100\n",
            "1/1 [==============================] - 0s 21ms/step - loss: 7.7037 - mae: 7.7037\n",
            "Epoch 17/100\n",
            "1/1 [==============================] - 0s 16ms/step - loss: 7.5712 - mae: 7.5712\n",
            "Epoch 18/100\n",
            "1/1 [==============================] - 0s 23ms/step - loss: 7.4387 - mae: 7.4387\n",
            "Epoch 19/100\n",
            "1/1 [==============================] - 0s 19ms/step - loss: 7.3650 - mae: 7.3650\n",
            "Epoch 20/100\n",
            "1/1 [==============================] - 0s 16ms/step - loss: 7.3594 - mae: 7.3594\n",
            "Epoch 21/100\n",
            "1/1 [==============================] - 0s 16ms/step - loss: 7.3537 - mae: 7.3537\n",
            "Epoch 22/100\n",
            "1/1 [==============================] - 0s 17ms/step - loss: 7.3481 - mae: 7.3481\n",
            "Epoch 23/100\n",
            "1/1 [==============================] - 0s 17ms/step - loss: 7.3425 - mae: 7.3425\n",
            "Epoch 24/100\n",
            "1/1 [==============================] - 0s 19ms/step - loss: 7.3369 - mae: 7.3369\n",
            "Epoch 25/100\n",
            "1/1 [==============================] - 0s 17ms/step - loss: 7.3313 - mae: 7.3313\n",
            "Epoch 26/100\n",
            "1/1 [==============================] - 0s 16ms/step - loss: 7.3256 - mae: 7.3256\n",
            "Epoch 27/100\n",
            "1/1 [==============================] - 0s 42ms/step - loss: 7.3200 - mae: 7.3200\n",
            "Epoch 28/100\n",
            "1/1 [==============================] - 0s 39ms/step - loss: 7.3144 - mae: 7.3144\n",
            "Epoch 29/100\n",
            "1/1 [==============================] - 0s 20ms/step - loss: 7.3088 - mae: 7.3088\n",
            "Epoch 30/100\n",
            "1/1 [==============================] - 0s 28ms/step - loss: 7.3031 - mae: 7.3031\n",
            "Epoch 31/100\n",
            "1/1 [==============================] - 0s 33ms/step - loss: 7.2975 - mae: 7.2975\n",
            "Epoch 32/100\n",
            "1/1 [==============================] - 0s 22ms/step - loss: 7.2919 - mae: 7.2919\n",
            "Epoch 33/100\n",
            "1/1 [==============================] - 0s 30ms/step - loss: 7.2863 - mae: 7.2863\n",
            "Epoch 34/100\n",
            "1/1 [==============================] - 0s 15ms/step - loss: 7.2806 - mae: 7.2806\n",
            "Epoch 35/100\n",
            "1/1 [==============================] - 0s 11ms/step - loss: 7.2750 - mae: 7.2750\n",
            "Epoch 36/100\n",
            "1/1 [==============================] - 0s 36ms/step - loss: 7.2694 - mae: 7.2694\n",
            "Epoch 37/100\n",
            "1/1 [==============================] - 0s 20ms/step - loss: 7.2638 - mae: 7.2638\n",
            "Epoch 38/100\n",
            "1/1 [==============================] - 0s 19ms/step - loss: 7.2581 - mae: 7.2581\n",
            "Epoch 39/100\n",
            "1/1 [==============================] - 0s 30ms/step - loss: 7.2525 - mae: 7.2525\n",
            "Epoch 40/100\n",
            "1/1 [==============================] - 0s 23ms/step - loss: 7.2469 - mae: 7.2469\n",
            "Epoch 41/100\n",
            "1/1 [==============================] - 0s 15ms/step - loss: 7.2413 - mae: 7.2413\n",
            "Epoch 42/100\n",
            "1/1 [==============================] - 0s 28ms/step - loss: 7.2356 - mae: 7.2356\n",
            "Epoch 43/100\n",
            "1/1 [==============================] - 0s 35ms/step - loss: 7.2300 - mae: 7.2300\n",
            "Epoch 44/100\n",
            "1/1 [==============================] - 0s 18ms/step - loss: 7.2244 - mae: 7.2244\n",
            "Epoch 45/100\n",
            "1/1 [==============================] - 0s 26ms/step - loss: 7.2188 - mae: 7.2188\n",
            "Epoch 46/100\n",
            "1/1 [==============================] - 0s 18ms/step - loss: 7.2131 - mae: 7.2131\n",
            "Epoch 47/100\n",
            "1/1 [==============================] - 0s 31ms/step - loss: 7.2075 - mae: 7.2075\n",
            "Epoch 48/100\n",
            "1/1 [==============================] - 0s 19ms/step - loss: 7.2019 - mae: 7.2019\n",
            "Epoch 49/100\n",
            "1/1 [==============================] - 0s 20ms/step - loss: 7.1963 - mae: 7.1963\n",
            "Epoch 50/100\n",
            "1/1 [==============================] - 0s 31ms/step - loss: 7.1906 - mae: 7.1906\n",
            "Epoch 51/100\n",
            "1/1 [==============================] - 0s 35ms/step - loss: 7.1850 - mae: 7.1850\n",
            "Epoch 52/100\n",
            "1/1 [==============================] - 0s 22ms/step - loss: 7.1794 - mae: 7.1794\n",
            "Epoch 53/100\n",
            "1/1 [==============================] - 0s 23ms/step - loss: 7.1737 - mae: 7.1737\n",
            "Epoch 54/100\n",
            "1/1 [==============================] - 0s 28ms/step - loss: 7.1681 - mae: 7.1681\n",
            "Epoch 55/100\n",
            "1/1 [==============================] - 0s 20ms/step - loss: 7.1625 - mae: 7.1625\n",
            "Epoch 56/100\n",
            "1/1 [==============================] - 0s 21ms/step - loss: 7.1569 - mae: 7.1569\n",
            "Epoch 57/100\n",
            "1/1 [==============================] - 0s 24ms/step - loss: 7.1512 - mae: 7.1512\n",
            "Epoch 58/100\n",
            "1/1 [==============================] - 0s 20ms/step - loss: 7.1456 - mae: 7.1456\n",
            "Epoch 59/100\n",
            "1/1 [==============================] - 0s 18ms/step - loss: 7.1400 - mae: 7.1400\n",
            "Epoch 60/100\n",
            "1/1 [==============================] - 0s 27ms/step - loss: 7.1344 - mae: 7.1344\n",
            "Epoch 61/100\n",
            "1/1 [==============================] - 0s 21ms/step - loss: 7.1287 - mae: 7.1287\n",
            "Epoch 62/100\n",
            "1/1 [==============================] - 0s 23ms/step - loss: 7.1231 - mae: 7.1231\n",
            "Epoch 63/100\n",
            "1/1 [==============================] - 0s 22ms/step - loss: 7.1175 - mae: 7.1175\n",
            "Epoch 64/100\n",
            "1/1 [==============================] - 0s 22ms/step - loss: 7.1119 - mae: 7.1119\n",
            "Epoch 65/100\n",
            "1/1 [==============================] - 0s 15ms/step - loss: 7.1063 - mae: 7.1063\n",
            "Epoch 66/100\n",
            "1/1 [==============================] - 0s 18ms/step - loss: 7.1006 - mae: 7.1006\n",
            "Epoch 67/100\n",
            "1/1 [==============================] - 0s 23ms/step - loss: 7.0950 - mae: 7.0950\n",
            "Epoch 68/100\n",
            "1/1 [==============================] - 0s 22ms/step - loss: 7.0894 - mae: 7.0894\n",
            "Epoch 69/100\n",
            "1/1 [==============================] - 0s 15ms/step - loss: 7.0838 - mae: 7.0838\n",
            "Epoch 70/100\n",
            "1/1 [==============================] - 0s 12ms/step - loss: 7.0781 - mae: 7.0781\n",
            "Epoch 71/100\n",
            "1/1 [==============================] - 0s 34ms/step - loss: 7.0725 - mae: 7.0725\n",
            "Epoch 72/100\n",
            "1/1 [==============================] - 0s 46ms/step - loss: 7.0669 - mae: 7.0669\n",
            "Epoch 73/100\n",
            "1/1 [==============================] - 0s 26ms/step - loss: 7.0612 - mae: 7.0612\n",
            "Epoch 74/100\n",
            "1/1 [==============================] - 0s 36ms/step - loss: 7.0556 - mae: 7.0556\n",
            "Epoch 75/100\n",
            "1/1 [==============================] - 0s 32ms/step - loss: 7.0500 - mae: 7.0500\n",
            "Epoch 76/100\n",
            "1/1 [==============================] - 0s 25ms/step - loss: 7.0444 - mae: 7.0444\n",
            "Epoch 77/100\n",
            "1/1 [==============================] - 0s 20ms/step - loss: 7.0387 - mae: 7.0387\n",
            "Epoch 78/100\n",
            "1/1 [==============================] - 0s 17ms/step - loss: 7.0331 - mae: 7.0331\n",
            "Epoch 79/100\n",
            "1/1 [==============================] - 0s 20ms/step - loss: 7.0275 - mae: 7.0275\n",
            "Epoch 80/100\n",
            "1/1 [==============================] - 0s 13ms/step - loss: 7.0219 - mae: 7.0219\n",
            "Epoch 81/100\n",
            "1/1 [==============================] - 0s 20ms/step - loss: 7.0163 - mae: 7.0163\n",
            "Epoch 82/100\n",
            "1/1 [==============================] - 0s 35ms/step - loss: 7.0106 - mae: 7.0106\n",
            "Epoch 83/100\n",
            "1/1 [==============================] - 0s 23ms/step - loss: 7.0050 - mae: 7.0050\n",
            "Epoch 84/100\n",
            "1/1 [==============================] - 0s 18ms/step - loss: 6.9994 - mae: 6.9994\n",
            "Epoch 85/100\n",
            "1/1 [==============================] - 0s 22ms/step - loss: 6.9938 - mae: 6.9938\n",
            "Epoch 86/100\n",
            "1/1 [==============================] - 0s 19ms/step - loss: 6.9881 - mae: 6.9881\n",
            "Epoch 87/100\n",
            "1/1 [==============================] - 0s 20ms/step - loss: 6.9825 - mae: 6.9825\n",
            "Epoch 88/100\n",
            "1/1 [==============================] - 0s 12ms/step - loss: 6.9769 - mae: 6.9769\n",
            "Epoch 89/100\n",
            "1/1 [==============================] - 0s 15ms/step - loss: 6.9713 - mae: 6.9713\n",
            "Epoch 90/100\n",
            "1/1 [==============================] - 0s 16ms/step - loss: 6.9656 - mae: 6.9656\n",
            "Epoch 91/100\n",
            "1/1 [==============================] - 0s 23ms/step - loss: 6.9600 - mae: 6.9600\n",
            "Epoch 92/100\n",
            "1/1 [==============================] - 0s 18ms/step - loss: 6.9544 - mae: 6.9544\n",
            "Epoch 93/100\n",
            "1/1 [==============================] - 0s 28ms/step - loss: 6.9488 - mae: 6.9488\n",
            "Epoch 94/100\n",
            "1/1 [==============================] - 0s 19ms/step - loss: 6.9431 - mae: 6.9431\n",
            "Epoch 95/100\n",
            "1/1 [==============================] - 0s 28ms/step - loss: 6.9375 - mae: 6.9375\n",
            "Epoch 96/100\n",
            "1/1 [==============================] - 0s 41ms/step - loss: 6.9319 - mae: 6.9319\n",
            "Epoch 97/100\n",
            "1/1 [==============================] - 0s 29ms/step - loss: 6.9263 - mae: 6.9263\n",
            "Epoch 98/100\n",
            "1/1 [==============================] - 0s 16ms/step - loss: 6.9206 - mae: 6.9206\n",
            "Epoch 99/100\n",
            "1/1 [==============================] - 0s 16ms/step - loss: 6.9150 - mae: 6.9150\n",
            "Epoch 100/100\n",
            "1/1 [==============================] - 0s 24ms/step - loss: 6.9094 - mae: 6.9094\n"
          ]
        },
        {
          "output_type": "execute_result",
          "data": {
            "text/plain": [
              "<keras.src.callbacks.History at 0x784553f5d930>"
            ]
          },
          "metadata": {},
          "execution_count": 19
        }
      ]
    },
    {
      "cell_type": "code",
      "source": [
        "# Remind ourselves of the data\n",
        "X, y"
      ],
      "metadata": {
        "colab": {
          "base_uri": "https://localhost:8080/"
        },
        "id": "ciOJPUd5dQXP",
        "outputId": "393520ad-0262-4e88-c871-206804c93942"
      },
      "execution_count": null,
      "outputs": [
        {
          "output_type": "execute_result",
          "data": {
            "text/plain": [
              "(<tf.Tensor: shape=(8,), dtype=float64, numpy=array([-7., -4., -1.,  2.,  5.,  8., 11., 14.])>,\n",
              " <tf.Tensor: shape=(8,), dtype=float64, numpy=array([ 3.,  6.,  9., 12., 15., 18., 21., 24.])>)"
            ]
          },
          "metadata": {},
          "execution_count": 20
        }
      ]
    },
    {
      "cell_type": "code",
      "source": [
        "#Let's see if our model's prediction has improved\n",
        "model.predict([17.0])"
      ],
      "metadata": {
        "colab": {
          "base_uri": "https://localhost:8080/"
        },
        "id": "p3sxpJWud2T_",
        "outputId": "43221b35-a839-41d1-8b45-08b9c3a65f45"
      },
      "execution_count": null,
      "outputs": [
        {
          "output_type": "stream",
          "name": "stdout",
          "text": [
            "1/1 [==============================] - 0s 170ms/step\n"
          ]
        },
        {
          "output_type": "execute_result",
          "data": {
            "text/plain": [
              "array([[30.004745]], dtype=float32)"
            ]
          },
          "metadata": {},
          "execution_count": 21
        }
      ]
    },
    {
      "cell_type": "code",
      "source": [
        "# Let's rebuild our model again and change something else\n",
        "\n",
        "#1. Create the model\n",
        "model = tf.keras.Sequential([\n",
        "    tf.keras.layers.Dense(100, activation=\"relu\"),\n",
        "    tf.keras.layers.Dense(1)\n",
        "])\n",
        "\n",
        "#2. Compile the model\n",
        "model.compile(loss=tf.keras.losses.mae,\n",
        "              optimizer=tf.keras.optimizers.Adam(),\n",
        "              metrics=[\"mae\"])\n",
        "\n",
        "# 3. Fit the model (this time we'll train for longer)\n",
        "model.fit(tf.expand_dims(X, axis=-1), y, epochs=100)"
      ],
      "metadata": {
        "colab": {
          "base_uri": "https://localhost:8080/"
        },
        "id": "1oGpXXeyd925",
        "outputId": "409aa824-6f31-4b29-ed2a-01584af03acd"
      },
      "execution_count": null,
      "outputs": [
        {
          "output_type": "stream",
          "name": "stdout",
          "text": [
            "Epoch 1/100\n",
            "1/1 [==============================] - 1s 1s/step - loss: 13.4690 - mae: 13.4690\n",
            "Epoch 2/100\n",
            "1/1 [==============================] - 0s 35ms/step - loss: 13.3864 - mae: 13.3864\n",
            "Epoch 3/100\n",
            "1/1 [==============================] - 0s 14ms/step - loss: 13.3038 - mae: 13.3038\n",
            "Epoch 4/100\n",
            "1/1 [==============================] - 0s 21ms/step - loss: 13.2213 - mae: 13.2213\n",
            "Epoch 5/100\n",
            "1/1 [==============================] - 0s 18ms/step - loss: 13.1388 - mae: 13.1388\n",
            "Epoch 6/100\n",
            "1/1 [==============================] - 0s 17ms/step - loss: 13.0566 - mae: 13.0566\n",
            "Epoch 7/100\n",
            "1/1 [==============================] - 0s 28ms/step - loss: 12.9748 - mae: 12.9748\n",
            "Epoch 8/100\n",
            "1/1 [==============================] - 0s 30ms/step - loss: 12.8925 - mae: 12.8925\n",
            "Epoch 9/100\n",
            "1/1 [==============================] - 0s 24ms/step - loss: 12.8100 - mae: 12.8100\n",
            "Epoch 10/100\n",
            "1/1 [==============================] - 0s 19ms/step - loss: 12.7275 - mae: 12.7275\n",
            "Epoch 11/100\n",
            "1/1 [==============================] - 0s 22ms/step - loss: 12.6451 - mae: 12.6451\n",
            "Epoch 12/100\n",
            "1/1 [==============================] - 0s 20ms/step - loss: 12.5627 - mae: 12.5627\n",
            "Epoch 13/100\n",
            "1/1 [==============================] - 0s 23ms/step - loss: 12.4802 - mae: 12.4802\n",
            "Epoch 14/100\n",
            "1/1 [==============================] - 0s 25ms/step - loss: 12.3976 - mae: 12.3976\n",
            "Epoch 15/100\n",
            "1/1 [==============================] - 0s 20ms/step - loss: 12.3152 - mae: 12.3152\n",
            "Epoch 16/100\n",
            "1/1 [==============================] - 0s 16ms/step - loss: 12.2331 - mae: 12.2331\n",
            "Epoch 17/100\n",
            "1/1 [==============================] - 0s 17ms/step - loss: 12.1512 - mae: 12.1512\n",
            "Epoch 18/100\n",
            "1/1 [==============================] - 0s 18ms/step - loss: 12.0691 - mae: 12.0691\n",
            "Epoch 19/100\n",
            "1/1 [==============================] - 0s 26ms/step - loss: 11.9868 - mae: 11.9868\n",
            "Epoch 20/100\n",
            "1/1 [==============================] - 0s 26ms/step - loss: 11.9044 - mae: 11.9044\n",
            "Epoch 21/100\n",
            "1/1 [==============================] - 0s 24ms/step - loss: 11.8218 - mae: 11.8218\n",
            "Epoch 22/100\n",
            "1/1 [==============================] - 0s 14ms/step - loss: 11.7390 - mae: 11.7390\n",
            "Epoch 23/100\n",
            "1/1 [==============================] - 0s 15ms/step - loss: 11.6560 - mae: 11.6560\n",
            "Epoch 24/100\n",
            "1/1 [==============================] - 0s 18ms/step - loss: 11.5729 - mae: 11.5729\n",
            "Epoch 25/100\n",
            "1/1 [==============================] - 0s 17ms/step - loss: 11.5043 - mae: 11.5043\n",
            "Epoch 26/100\n",
            "1/1 [==============================] - 0s 19ms/step - loss: 11.4437 - mae: 11.4437\n",
            "Epoch 27/100\n",
            "1/1 [==============================] - 0s 18ms/step - loss: 11.3825 - mae: 11.3825\n",
            "Epoch 28/100\n",
            "1/1 [==============================] - 0s 15ms/step - loss: 11.3208 - mae: 11.3208\n",
            "Epoch 29/100\n",
            "1/1 [==============================] - 0s 19ms/step - loss: 11.2588 - mae: 11.2588\n",
            "Epoch 30/100\n",
            "1/1 [==============================] - 0s 21ms/step - loss: 11.1962 - mae: 11.1962\n",
            "Epoch 31/100\n",
            "1/1 [==============================] - 0s 22ms/step - loss: 11.1333 - mae: 11.1333\n",
            "Epoch 32/100\n",
            "1/1 [==============================] - 0s 15ms/step - loss: 11.0700 - mae: 11.0700\n",
            "Epoch 33/100\n",
            "1/1 [==============================] - 0s 24ms/step - loss: 11.0064 - mae: 11.0064\n",
            "Epoch 34/100\n",
            "1/1 [==============================] - 0s 20ms/step - loss: 10.9422 - mae: 10.9422\n",
            "Epoch 35/100\n",
            "1/1 [==============================] - 0s 25ms/step - loss: 10.8776 - mae: 10.8776\n",
            "Epoch 36/100\n",
            "1/1 [==============================] - 0s 23ms/step - loss: 10.8126 - mae: 10.8126\n",
            "Epoch 37/100\n",
            "1/1 [==============================] - 0s 22ms/step - loss: 10.7472 - mae: 10.7472\n",
            "Epoch 38/100\n",
            "1/1 [==============================] - 0s 23ms/step - loss: 10.6813 - mae: 10.6813\n",
            "Epoch 39/100\n",
            "1/1 [==============================] - 0s 29ms/step - loss: 10.6150 - mae: 10.6150\n",
            "Epoch 40/100\n",
            "1/1 [==============================] - 0s 20ms/step - loss: 10.5483 - mae: 10.5483\n",
            "Epoch 41/100\n",
            "1/1 [==============================] - 0s 26ms/step - loss: 10.4811 - mae: 10.4811\n",
            "Epoch 42/100\n",
            "1/1 [==============================] - 0s 25ms/step - loss: 10.4137 - mae: 10.4137\n",
            "Epoch 43/100\n",
            "1/1 [==============================] - 0s 20ms/step - loss: 10.3458 - mae: 10.3458\n",
            "Epoch 44/100\n",
            "1/1 [==============================] - 0s 19ms/step - loss: 10.2777 - mae: 10.2777\n",
            "Epoch 45/100\n",
            "1/1 [==============================] - 0s 13ms/step - loss: 10.2093 - mae: 10.2093\n",
            "Epoch 46/100\n",
            "1/1 [==============================] - 0s 16ms/step - loss: 10.1405 - mae: 10.1405\n",
            "Epoch 47/100\n",
            "1/1 [==============================] - 0s 14ms/step - loss: 10.0712 - mae: 10.0712\n",
            "Epoch 48/100\n",
            "1/1 [==============================] - 0s 11ms/step - loss: 10.0016 - mae: 10.0016\n",
            "Epoch 49/100\n",
            "1/1 [==============================] - 0s 18ms/step - loss: 9.9317 - mae: 9.9317\n",
            "Epoch 50/100\n",
            "1/1 [==============================] - 0s 19ms/step - loss: 9.8615 - mae: 9.8615\n",
            "Epoch 51/100\n",
            "1/1 [==============================] - 0s 15ms/step - loss: 9.7911 - mae: 9.7911\n",
            "Epoch 52/100\n",
            "1/1 [==============================] - 0s 15ms/step - loss: 9.7202 - mae: 9.7202\n",
            "Epoch 53/100\n",
            "1/1 [==============================] - 0s 17ms/step - loss: 9.6488 - mae: 9.6488\n",
            "Epoch 54/100\n",
            "1/1 [==============================] - 0s 13ms/step - loss: 9.5768 - mae: 9.5768\n",
            "Epoch 55/100\n",
            "1/1 [==============================] - 0s 23ms/step - loss: 9.5044 - mae: 9.5044\n",
            "Epoch 56/100\n",
            "1/1 [==============================] - 0s 19ms/step - loss: 9.4315 - mae: 9.4315\n",
            "Epoch 57/100\n",
            "1/1 [==============================] - 0s 19ms/step - loss: 9.3580 - mae: 9.3580\n",
            "Epoch 58/100\n",
            "1/1 [==============================] - 0s 25ms/step - loss: 9.2841 - mae: 9.2841\n",
            "Epoch 59/100\n",
            "1/1 [==============================] - 0s 20ms/step - loss: 9.2096 - mae: 9.2096\n",
            "Epoch 60/100\n",
            "1/1 [==============================] - 0s 14ms/step - loss: 9.1346 - mae: 9.1346\n",
            "Epoch 61/100\n",
            "1/1 [==============================] - 0s 40ms/step - loss: 9.0590 - mae: 9.0590\n",
            "Epoch 62/100\n",
            "1/1 [==============================] - 0s 23ms/step - loss: 8.9829 - mae: 8.9829\n",
            "Epoch 63/100\n",
            "1/1 [==============================] - 0s 18ms/step - loss: 8.9063 - mae: 8.9063\n",
            "Epoch 64/100\n",
            "1/1 [==============================] - 0s 12ms/step - loss: 8.8292 - mae: 8.8292\n",
            "Epoch 65/100\n",
            "1/1 [==============================] - 0s 23ms/step - loss: 8.7515 - mae: 8.7515\n",
            "Epoch 66/100\n",
            "1/1 [==============================] - 0s 20ms/step - loss: 8.6732 - mae: 8.6732\n",
            "Epoch 67/100\n",
            "1/1 [==============================] - 0s 18ms/step - loss: 8.5944 - mae: 8.5944\n",
            "Epoch 68/100\n",
            "1/1 [==============================] - 0s 40ms/step - loss: 8.5150 - mae: 8.5150\n",
            "Epoch 69/100\n",
            "1/1 [==============================] - 0s 25ms/step - loss: 8.4351 - mae: 8.4351\n",
            "Epoch 70/100\n",
            "1/1 [==============================] - 0s 28ms/step - loss: 8.3546 - mae: 8.3546\n",
            "Epoch 71/100\n",
            "1/1 [==============================] - 0s 40ms/step - loss: 8.2735 - mae: 8.2735\n",
            "Epoch 72/100\n",
            "1/1 [==============================] - 0s 19ms/step - loss: 8.1918 - mae: 8.1918\n",
            "Epoch 73/100\n",
            "1/1 [==============================] - 0s 17ms/step - loss: 8.1096 - mae: 8.1096\n",
            "Epoch 74/100\n",
            "1/1 [==============================] - 0s 18ms/step - loss: 8.0267 - mae: 8.0267\n",
            "Epoch 75/100\n",
            "1/1 [==============================] - 0s 22ms/step - loss: 7.9433 - mae: 7.9433\n",
            "Epoch 76/100\n",
            "1/1 [==============================] - 0s 21ms/step - loss: 7.8592 - mae: 7.8592\n",
            "Epoch 77/100\n",
            "1/1 [==============================] - 0s 18ms/step - loss: 7.7746 - mae: 7.7746\n",
            "Epoch 78/100\n",
            "1/1 [==============================] - 0s 15ms/step - loss: 7.6893 - mae: 7.6893\n",
            "Epoch 79/100\n",
            "1/1 [==============================] - 0s 48ms/step - loss: 7.6034 - mae: 7.6034\n",
            "Epoch 80/100\n",
            "1/1 [==============================] - 0s 27ms/step - loss: 7.5169 - mae: 7.5169\n",
            "Epoch 81/100\n",
            "1/1 [==============================] - 0s 29ms/step - loss: 7.4297 - mae: 7.4297\n",
            "Epoch 82/100\n",
            "1/1 [==============================] - 0s 31ms/step - loss: 7.3420 - mae: 7.3420\n",
            "Epoch 83/100\n",
            "1/1 [==============================] - 0s 21ms/step - loss: 7.2536 - mae: 7.2536\n",
            "Epoch 84/100\n",
            "1/1 [==============================] - 0s 15ms/step - loss: 7.1645 - mae: 7.1645\n",
            "Epoch 85/100\n",
            "1/1 [==============================] - 0s 13ms/step - loss: 7.0750 - mae: 7.0750\n",
            "Epoch 86/100\n",
            "1/1 [==============================] - 0s 11ms/step - loss: 6.9861 - mae: 6.9861\n",
            "Epoch 87/100\n",
            "1/1 [==============================] - 0s 13ms/step - loss: 6.8952 - mae: 6.8952\n",
            "Epoch 88/100\n",
            "1/1 [==============================] - 0s 21ms/step - loss: 6.8045 - mae: 6.8045\n",
            "Epoch 89/100\n",
            "1/1 [==============================] - 0s 24ms/step - loss: 6.7131 - mae: 6.7131\n",
            "Epoch 90/100\n",
            "1/1 [==============================] - 0s 11ms/step - loss: 6.6209 - mae: 6.6209\n",
            "Epoch 91/100\n",
            "1/1 [==============================] - 0s 12ms/step - loss: 6.5280 - mae: 6.5280\n",
            "Epoch 92/100\n",
            "1/1 [==============================] - 0s 11ms/step - loss: 6.4343 - mae: 6.4343\n",
            "Epoch 93/100\n",
            "1/1 [==============================] - 0s 19ms/step - loss: 6.3399 - mae: 6.3399\n",
            "Epoch 94/100\n",
            "1/1 [==============================] - 0s 21ms/step - loss: 6.2448 - mae: 6.2448\n",
            "Epoch 95/100\n",
            "1/1 [==============================] - 0s 32ms/step - loss: 6.1489 - mae: 6.1489\n",
            "Epoch 96/100\n",
            "1/1 [==============================] - 0s 23ms/step - loss: 6.0522 - mae: 6.0522\n",
            "Epoch 97/100\n",
            "1/1 [==============================] - 0s 25ms/step - loss: 5.9559 - mae: 5.9559\n",
            "Epoch 98/100\n",
            "1/1 [==============================] - 0s 41ms/step - loss: 5.8574 - mae: 5.8574\n",
            "Epoch 99/100\n",
            "1/1 [==============================] - 0s 36ms/step - loss: 5.7591 - mae: 5.7591\n",
            "Epoch 100/100\n",
            "1/1 [==============================] - 0s 31ms/step - loss: 5.6599 - mae: 5.6599\n"
          ]
        },
        {
          "output_type": "execute_result",
          "data": {
            "text/plain": [
              "<keras.src.callbacks.History at 0x784553662d10>"
            ]
          },
          "metadata": {},
          "execution_count": 22
        }
      ]
    },
    {
      "cell_type": "code",
      "source": [
        "model.predict([17.0])"
      ],
      "metadata": {
        "colab": {
          "base_uri": "https://localhost:8080/"
        },
        "id": "a7eqKUsgehLu",
        "outputId": "2356675f-ce28-46dd-9de4-4730cf27b157"
      },
      "execution_count": null,
      "outputs": [
        {
          "output_type": "stream",
          "name": "stdout",
          "text": [
            "1/1 [==============================] - 0s 116ms/step\n"
          ]
        },
        {
          "output_type": "execute_result",
          "data": {
            "text/plain": [
              "array([[23.581306]], dtype=float32)"
            ]
          },
          "metadata": {},
          "execution_count": 23
        }
      ]
    },
    {
      "cell_type": "code",
      "source": [
        "# Let's rebuild our model (and change something else)\n",
        "\n",
        "#1. Create the model\n",
        "model = tf.keras.Sequential([\n",
        "    tf.keras.layers.Dense(50, activation=None),\n",
        "    tf.keras.layers.Dense(1)\n",
        "])\n",
        "\n",
        "#2. Compile the model\n",
        "model.compile(loss=tf.keras.losses.mae,\n",
        "              optimizer=tf.keras.optimizers.Adam(learning_rate=0.01),\n",
        "              metrics=[\"mae\"])\n",
        "\n",
        "# 3. Fit the model (this time we'll train for longer)\n",
        "model.fit(tf.expand_dims(X, axis=-1), y, epochs=100)"
      ],
      "metadata": {
        "colab": {
          "base_uri": "https://localhost:8080/"
        },
        "id": "9WQhtA0BelmO",
        "outputId": "077de93e-0272-4706-c87e-8c3e87bc2066"
      },
      "execution_count": null,
      "outputs": [
        {
          "output_type": "stream",
          "name": "stdout",
          "text": [
            "Epoch 1/100\n",
            "1/1 [==============================] - 1s 1s/step - loss: 14.3372 - mae: 14.3372\n",
            "Epoch 2/100\n",
            "1/1 [==============================] - 0s 10ms/step - loss: 13.6251 - mae: 13.6251\n",
            "Epoch 3/100\n",
            "1/1 [==============================] - 0s 11ms/step - loss: 12.9199 - mae: 12.9199\n",
            "Epoch 4/100\n",
            "1/1 [==============================] - 0s 12ms/step - loss: 12.2198 - mae: 12.2198\n",
            "Epoch 5/100\n",
            "1/1 [==============================] - 0s 19ms/step - loss: 11.5217 - mae: 11.5217\n",
            "Epoch 6/100\n",
            "1/1 [==============================] - 0s 21ms/step - loss: 10.8222 - mae: 10.8222\n",
            "Epoch 7/100\n",
            "1/1 [==============================] - 0s 21ms/step - loss: 10.1175 - mae: 10.1175\n",
            "Epoch 8/100\n",
            "1/1 [==============================] - 0s 21ms/step - loss: 9.4044 - mae: 9.4044\n",
            "Epoch 9/100\n",
            "1/1 [==============================] - 0s 16ms/step - loss: 8.6792 - mae: 8.6792\n",
            "Epoch 10/100\n",
            "1/1 [==============================] - 0s 20ms/step - loss: 7.9386 - mae: 7.9386\n",
            "Epoch 11/100\n",
            "1/1 [==============================] - 0s 21ms/step - loss: 7.1794 - mae: 7.1794\n",
            "Epoch 12/100\n",
            "1/1 [==============================] - 0s 21ms/step - loss: 6.5577 - mae: 6.5577\n",
            "Epoch 13/100\n",
            "1/1 [==============================] - 0s 27ms/step - loss: 6.6179 - mae: 6.6179\n",
            "Epoch 14/100\n",
            "1/1 [==============================] - 0s 27ms/step - loss: 6.9032 - mae: 6.9032\n",
            "Epoch 15/100\n",
            "1/1 [==============================] - 0s 21ms/step - loss: 7.1057 - mae: 7.1057\n",
            "Epoch 16/100\n",
            "1/1 [==============================] - 0s 38ms/step - loss: 7.2333 - mae: 7.2333\n",
            "Epoch 17/100\n",
            "1/1 [==============================] - 0s 13ms/step - loss: 7.1652 - mae: 7.1652\n",
            "Epoch 18/100\n",
            "1/1 [==============================] - 0s 12ms/step - loss: 6.9477 - mae: 6.9477\n",
            "Epoch 19/100\n",
            "1/1 [==============================] - 0s 29ms/step - loss: 6.6794 - mae: 6.6794\n",
            "Epoch 20/100\n",
            "1/1 [==============================] - 0s 18ms/step - loss: 6.4419 - mae: 6.4419\n",
            "Epoch 21/100\n",
            "1/1 [==============================] - 0s 24ms/step - loss: 6.1869 - mae: 6.1869\n",
            "Epoch 22/100\n",
            "1/1 [==============================] - 0s 19ms/step - loss: 5.9187 - mae: 5.9187\n",
            "Epoch 23/100\n",
            "1/1 [==============================] - 0s 18ms/step - loss: 5.8367 - mae: 5.8367\n",
            "Epoch 24/100\n",
            "1/1 [==============================] - 0s 36ms/step - loss: 5.7896 - mae: 5.7896\n",
            "Epoch 25/100\n",
            "1/1 [==============================] - 0s 18ms/step - loss: 5.9458 - mae: 5.9458\n",
            "Epoch 26/100\n",
            "1/1 [==============================] - 0s 16ms/step - loss: 6.0016 - mae: 6.0016\n",
            "Epoch 27/100\n",
            "1/1 [==============================] - 0s 27ms/step - loss: 5.9560 - mae: 5.9560\n",
            "Epoch 28/100\n",
            "1/1 [==============================] - 0s 16ms/step - loss: 5.8212 - mae: 5.8212\n",
            "Epoch 29/100\n",
            "1/1 [==============================] - 0s 13ms/step - loss: 5.6057 - mae: 5.6057\n",
            "Epoch 30/100\n",
            "1/1 [==============================] - 0s 13ms/step - loss: 5.3155 - mae: 5.3155\n",
            "Epoch 31/100\n",
            "1/1 [==============================] - 0s 17ms/step - loss: 5.1591 - mae: 5.1591\n",
            "Epoch 32/100\n",
            "1/1 [==============================] - 0s 21ms/step - loss: 5.0310 - mae: 5.0310\n",
            "Epoch 33/100\n",
            "1/1 [==============================] - 0s 36ms/step - loss: 5.0636 - mae: 5.0636\n",
            "Epoch 34/100\n",
            "1/1 [==============================] - 0s 17ms/step - loss: 5.0676 - mae: 5.0676\n",
            "Epoch 35/100\n",
            "1/1 [==============================] - 0s 17ms/step - loss: 5.0266 - mae: 5.0266\n",
            "Epoch 36/100\n",
            "1/1 [==============================] - 0s 16ms/step - loss: 4.9433 - mae: 4.9433\n",
            "Epoch 37/100\n",
            "1/1 [==============================] - 0s 18ms/step - loss: 4.8208 - mae: 4.8208\n",
            "Epoch 38/100\n",
            "1/1 [==============================] - 0s 16ms/step - loss: 4.6622 - mae: 4.6622\n",
            "Epoch 39/100\n",
            "1/1 [==============================] - 0s 24ms/step - loss: 4.4702 - mae: 4.4702\n",
            "Epoch 40/100\n",
            "1/1 [==============================] - 0s 24ms/step - loss: 4.2476 - mae: 4.2476\n",
            "Epoch 41/100\n",
            "1/1 [==============================] - 0s 23ms/step - loss: 3.9994 - mae: 3.9994\n",
            "Epoch 42/100\n",
            "1/1 [==============================] - 0s 29ms/step - loss: 3.8874 - mae: 3.8874\n",
            "Epoch 43/100\n",
            "1/1 [==============================] - 0s 34ms/step - loss: 3.7654 - mae: 3.7654\n",
            "Epoch 44/100\n",
            "1/1 [==============================] - 0s 29ms/step - loss: 3.7115 - mae: 3.7115\n",
            "Epoch 45/100\n",
            "1/1 [==============================] - 0s 39ms/step - loss: 3.5713 - mae: 3.5713\n",
            "Epoch 46/100\n",
            "1/1 [==============================] - 0s 32ms/step - loss: 3.3109 - mae: 3.3109\n",
            "Epoch 47/100\n",
            "1/1 [==============================] - 0s 24ms/step - loss: 3.1143 - mae: 3.1143\n",
            "Epoch 48/100\n",
            "1/1 [==============================] - 0s 25ms/step - loss: 2.9867 - mae: 2.9867\n",
            "Epoch 49/100\n",
            "1/1 [==============================] - 0s 23ms/step - loss: 2.8858 - mae: 2.8858\n",
            "Epoch 50/100\n",
            "1/1 [==============================] - 0s 14ms/step - loss: 2.7298 - mae: 2.7298\n",
            "Epoch 51/100\n",
            "1/1 [==============================] - 0s 22ms/step - loss: 2.5211 - mae: 2.5211\n",
            "Epoch 52/100\n",
            "1/1 [==============================] - 0s 16ms/step - loss: 2.2618 - mae: 2.2618\n",
            "Epoch 53/100\n",
            "1/1 [==============================] - 0s 15ms/step - loss: 1.9540 - mae: 1.9540\n",
            "Epoch 54/100\n",
            "1/1 [==============================] - 0s 13ms/step - loss: 1.8008 - mae: 1.8008\n",
            "Epoch 55/100\n",
            "1/1 [==============================] - 0s 19ms/step - loss: 1.6644 - mae: 1.6644\n",
            "Epoch 56/100\n",
            "1/1 [==============================] - 0s 30ms/step - loss: 1.3707 - mae: 1.3707\n",
            "Epoch 57/100\n",
            "1/1 [==============================] - 0s 17ms/step - loss: 1.0291 - mae: 1.0291\n",
            "Epoch 58/100\n",
            "1/1 [==============================] - 0s 16ms/step - loss: 0.8444 - mae: 0.8444\n",
            "Epoch 59/100\n",
            "1/1 [==============================] - 0s 16ms/step - loss: 0.6195 - mae: 0.6195\n",
            "Epoch 60/100\n",
            "1/1 [==============================] - 0s 20ms/step - loss: 0.2398 - mae: 0.2398\n",
            "Epoch 61/100\n",
            "1/1 [==============================] - 0s 19ms/step - loss: 0.2212 - mae: 0.2212\n",
            "Epoch 62/100\n",
            "1/1 [==============================] - 0s 19ms/step - loss: 0.2960 - mae: 0.2960\n",
            "Epoch 63/100\n",
            "1/1 [==============================] - 0s 22ms/step - loss: 0.5766 - mae: 0.5766\n",
            "Epoch 64/100\n",
            "1/1 [==============================] - 0s 21ms/step - loss: 0.6265 - mae: 0.6265\n",
            "Epoch 65/100\n",
            "1/1 [==============================] - 0s 16ms/step - loss: 0.7738 - mae: 0.7738\n",
            "Epoch 66/100\n",
            "1/1 [==============================] - 0s 19ms/step - loss: 0.8313 - mae: 0.8313\n",
            "Epoch 67/100\n",
            "1/1 [==============================] - 0s 18ms/step - loss: 0.7228 - mae: 0.7228\n",
            "Epoch 68/100\n",
            "1/1 [==============================] - 0s 16ms/step - loss: 0.7976 - mae: 0.7976\n",
            "Epoch 69/100\n",
            "1/1 [==============================] - 0s 14ms/step - loss: 0.7652 - mae: 0.7652\n",
            "Epoch 70/100\n",
            "1/1 [==============================] - 0s 14ms/step - loss: 0.5500 - mae: 0.5500\n",
            "Epoch 71/100\n",
            "1/1 [==============================] - 0s 17ms/step - loss: 0.5115 - mae: 0.5115\n",
            "Epoch 72/100\n",
            "1/1 [==============================] - 0s 17ms/step - loss: 0.5053 - mae: 0.5053\n",
            "Epoch 73/100\n",
            "1/1 [==============================] - 0s 15ms/step - loss: 0.2298 - mae: 0.2298\n",
            "Epoch 74/100\n",
            "1/1 [==============================] - 0s 16ms/step - loss: 0.2904 - mae: 0.2904\n",
            "Epoch 75/100\n",
            "1/1 [==============================] - 0s 18ms/step - loss: 0.4318 - mae: 0.4318\n",
            "Epoch 76/100\n",
            "1/1 [==============================] - 0s 15ms/step - loss: 0.3352 - mae: 0.3352\n",
            "Epoch 77/100\n",
            "1/1 [==============================] - 0s 28ms/step - loss: 0.4639 - mae: 0.4639\n",
            "Epoch 78/100\n",
            "1/1 [==============================] - 0s 13ms/step - loss: 0.5754 - mae: 0.5754\n",
            "Epoch 79/100\n",
            "1/1 [==============================] - 0s 18ms/step - loss: 0.5243 - mae: 0.5243\n",
            "Epoch 80/100\n",
            "1/1 [==============================] - 0s 15ms/step - loss: 0.3284 - mae: 0.3284\n",
            "Epoch 81/100\n",
            "1/1 [==============================] - 0s 16ms/step - loss: 0.4537 - mae: 0.4537\n",
            "Epoch 82/100\n",
            "1/1 [==============================] - 0s 25ms/step - loss: 0.5032 - mae: 0.5032\n",
            "Epoch 83/100\n",
            "1/1 [==============================] - 0s 15ms/step - loss: 0.2831 - mae: 0.2831\n",
            "Epoch 84/100\n",
            "1/1 [==============================] - 0s 14ms/step - loss: 0.1976 - mae: 0.1976\n",
            "Epoch 85/100\n",
            "1/1 [==============================] - 0s 23ms/step - loss: 0.3434 - mae: 0.3434\n",
            "Epoch 86/100\n",
            "1/1 [==============================] - 0s 20ms/step - loss: 0.2139 - mae: 0.2139\n",
            "Epoch 87/100\n",
            "1/1 [==============================] - 0s 20ms/step - loss: 0.3010 - mae: 0.3010\n",
            "Epoch 88/100\n",
            "1/1 [==============================] - 0s 40ms/step - loss: 0.4234 - mae: 0.4234\n",
            "Epoch 89/100\n",
            "1/1 [==============================] - 0s 21ms/step - loss: 0.3329 - mae: 0.3329\n",
            "Epoch 90/100\n",
            "1/1 [==============================] - 0s 20ms/step - loss: 0.0708 - mae: 0.0708\n",
            "Epoch 91/100\n",
            "1/1 [==============================] - 0s 22ms/step - loss: 0.4496 - mae: 0.4496\n",
            "Epoch 92/100\n",
            "1/1 [==============================] - 0s 37ms/step - loss: 0.5917 - mae: 0.5917\n",
            "Epoch 93/100\n",
            "1/1 [==============================] - 0s 23ms/step - loss: 0.4741 - mae: 0.4741\n",
            "Epoch 94/100\n",
            "1/1 [==============================] - 0s 28ms/step - loss: 0.2598 - mae: 0.2598\n",
            "Epoch 95/100\n",
            "1/1 [==============================] - 0s 16ms/step - loss: 0.3953 - mae: 0.3953\n",
            "Epoch 96/100\n",
            "1/1 [==============================] - 0s 17ms/step - loss: 0.5665 - mae: 0.5665\n",
            "Epoch 97/100\n",
            "1/1 [==============================] - 0s 28ms/step - loss: 0.4832 - mae: 0.4832\n",
            "Epoch 98/100\n",
            "1/1 [==============================] - 0s 17ms/step - loss: 0.1844 - mae: 0.1844\n",
            "Epoch 99/100\n",
            "1/1 [==============================] - 0s 21ms/step - loss: 0.3749 - mae: 0.3749\n",
            "Epoch 100/100\n",
            "1/1 [==============================] - 0s 30ms/step - loss: 0.5757 - mae: 0.5757\n"
          ]
        },
        {
          "output_type": "execute_result",
          "data": {
            "text/plain": [
              "<keras.src.callbacks.History at 0x7845535ce680>"
            ]
          },
          "metadata": {},
          "execution_count": 24
        }
      ]
    },
    {
      "cell_type": "code",
      "source": [
        "model.predict([17.])"
      ],
      "metadata": {
        "colab": {
          "base_uri": "https://localhost:8080/"
        },
        "id": "GrhMdHnehSrY",
        "outputId": "f1f7267c-be53-4223-d4e3-956b0f71053c"
      },
      "execution_count": null,
      "outputs": [
        {
          "output_type": "stream",
          "name": "stdout",
          "text": [
            "1/1 [==============================] - 0s 328ms/step\n"
          ]
        },
        {
          "output_type": "execute_result",
          "data": {
            "text/plain": [
              "array([[25.618343]], dtype=float32)"
            ]
          },
          "metadata": {},
          "execution_count": 25
        }
      ]
    },
    {
      "cell_type": "markdown",
      "source": [
        "## Evalutaing a model\n",
        "\n",
        "In practice, a typical workflow you'll go through when building neural networks is:\n",
        "\n",
        "```\n",
        "Build a model -> fit it -> evaluate it -> tweak a model -> fit it -> evaluate it -> tweak a model -> fit it -> evaluate it...\n",
        "```"
      ],
      "metadata": {
        "id": "wO2wkyBUhaxD"
      }
    },
    {
      "cell_type": "markdown",
      "source": [
        "When it comes to evluation... there are 3 words you should memorize:\n",
        "\n",
        "> \"Visualize, visualize, visualize\"\n",
        "\n",
        "It's a good idea to visualize:\n",
        "- The data - what data are we working with? What does it look like?\n",
        "- The model itself - what does our model look like\n",
        "- The training of a model - how does a model perform while it learns\n",
        "- The predictions of the model - how do the predictions of a model line up against the ground truth (the original labels)?"
      ],
      "metadata": {
        "id": "r06gASrcjHk_"
      }
    },
    {
      "cell_type": "code",
      "source": [
        "# Make a bigger dataset\n",
        "X = tf.range(-100, 100, 4)\n",
        "X"
      ],
      "metadata": {
        "colab": {
          "base_uri": "https://localhost:8080/"
        },
        "id": "MSc7PPjRvWPJ",
        "outputId": "a96cb54d-13f8-4cfc-fd5a-eda461a01244"
      },
      "execution_count": null,
      "outputs": [
        {
          "output_type": "execute_result",
          "data": {
            "text/plain": [
              "<tf.Tensor: shape=(50,), dtype=int32, numpy=\n",
              "array([-100,  -96,  -92,  -88,  -84,  -80,  -76,  -72,  -68,  -64,  -60,\n",
              "        -56,  -52,  -48,  -44,  -40,  -36,  -32,  -28,  -24,  -20,  -16,\n",
              "        -12,   -8,   -4,    0,    4,    8,   12,   16,   20,   24,   28,\n",
              "         32,   36,   40,   44,   48,   52,   56,   60,   64,   68,   72,\n",
              "         76,   80,   84,   88,   92,   96], dtype=int32)>"
            ]
          },
          "metadata": {},
          "execution_count": 26
        }
      ]
    },
    {
      "cell_type": "code",
      "source": [
        "# Make labels for the datasets\n",
        "y = X + 10\n",
        "y"
      ],
      "metadata": {
        "colab": {
          "base_uri": "https://localhost:8080/"
        },
        "id": "kWmdqLV8vyci",
        "outputId": "5c64fccd-6af2-48ca-bd94-1443c413a3b9"
      },
      "execution_count": null,
      "outputs": [
        {
          "output_type": "execute_result",
          "data": {
            "text/plain": [
              "<tf.Tensor: shape=(50,), dtype=int32, numpy=\n",
              "array([-90, -86, -82, -78, -74, -70, -66, -62, -58, -54, -50, -46, -42,\n",
              "       -38, -34, -30, -26, -22, -18, -14, -10,  -6,  -2,   2,   6,  10,\n",
              "        14,  18,  22,  26,  30,  34,  38,  42,  46,  50,  54,  58,  62,\n",
              "        66,  70,  74,  78,  82,  86,  90,  94,  98, 102, 106], dtype=int32)>"
            ]
          },
          "metadata": {},
          "execution_count": 27
        }
      ]
    },
    {
      "cell_type": "code",
      "source": [
        "# Visualize the data\n",
        "import matplotlib.pyplot as plt\n",
        "\n",
        "plt.scatter(X, y)"
      ],
      "metadata": {
        "colab": {
          "base_uri": "https://localhost:8080/",
          "height": 448
        },
        "id": "nz0ulvGWwI26",
        "outputId": "a4847425-5ea6-4630-8e2d-3f8182d6626b"
      },
      "execution_count": null,
      "outputs": [
        {
          "output_type": "execute_result",
          "data": {
            "text/plain": [
              "<matplotlib.collections.PathCollection at 0x7845534f2590>"
            ]
          },
          "metadata": {},
          "execution_count": 28
        },
        {
          "output_type": "display_data",
          "data": {
            "text/plain": [
              "<Figure size 640x480 with 1 Axes>"
            ],
            "image/png": "[encoded data removed]"
          },
          "metadata": {}
        }
      ]
    },
    {
      "cell_type": "markdown",
      "source": [
        "### The 3 sets...\n",
        "\n",
        "- **Training set** - the model learns from this data, which is typically 70-80% of the total data you have available\n",
        "- **Validation set** - the model gets tuned on this data, which is typically 10-15% of the data available\n",
        "- **Test set** - the model gets evaluated on this data to test what it has learned, this set is typically 10-15% of the total data available"
      ],
      "metadata": {
        "id": "Ekl9rZFMwTpE"
      }
    },
    {
      "cell_type": "code",
      "source": [
        "# Check the length of how many samples we have\n",
        "len(X)"
      ],
      "metadata": {
        "colab": {
          "base_uri": "https://localhost:8080/"
        },
        "id": "uAiMr2s7wxnv",
        "outputId": "4f1a50aa-66a3-421d-f9ac-1088f4d26ee6"
      },
      "execution_count": null,
      "outputs": [
        {
          "output_type": "execute_result",
          "data": {
            "text/plain": [
              "50"
            ]
          },
          "metadata": {},
          "execution_count": 29
        }
      ]
    },
    {
      "cell_type": "code",
      "source": [
        "# Split the data into train and test sets\n",
        "X_train = X[:40] # first 40 training samples (80% of the data)\n",
        "y_train = y[:40]\n",
        "\n",
        "X_test = X[40:] # last 10 are testing samples (20% of the data)\n",
        "y_test = y[40:]"
      ],
      "metadata": {
        "id": "lweOPv3Cy03Y"
      },
      "execution_count": null,
      "outputs": []
    },
    {
      "cell_type": "code",
      "source": [
        "len(X_train), len(X_test), len(y_train), len(y_test)"
      ],
      "metadata": {
        "colab": {
          "base_uri": "https://localhost:8080/"
        },
        "id": "-n9rmj2-zWny",
        "outputId": "0b992c33-867a-469e-d0e5-e5371d049b85"
      },
      "execution_count": null,
      "outputs": [
        {
          "output_type": "execute_result",
          "data": {
            "text/plain": [
              "(40, 10, 40, 10)"
            ]
          },
          "metadata": {},
          "execution_count": 31
        }
      ]
    },
    {
      "cell_type": "markdown",
      "source": [
        "### Visualizing the data\n",
        "\n",
        "Now we've got our data in training and test sets... let's visualize it again"
      ],
      "metadata": {
        "id": "98dknblezfTG"
      }
    },
    {
      "cell_type": "code",
      "source": [
        "plt.figure(figsize=(10, 7))\n",
        "\n",
        "# Plot training data in blue\n",
        "plt.scatter(X_train, y_train, c=\"b\", label=\"Training data\") # our model will learn on this\n",
        "\n",
        "# Plot test data in green\n",
        "plt.scatter(X_test, y_test, c=\"g\", label=\"Testing data\") # want our model to be able to predict this (given X, what's y?)\n",
        "\n",
        "# Show a legend\n",
        "plt.legend();"
      ],
      "metadata": {
        "colab": {
          "base_uri": "https://localhost:8080/",
          "height": 599
        },
        "id": "uADaV5jGzzk4",
        "outputId": "b85f49b1-f1a5-456a-c81c-62c6411e51c7"
      },
      "execution_count": null,
      "outputs": [
        {
          "output_type": "display_data",
          "data": {
            "text/plain": [
              "<Figure size 1000x700 with 1 Axes>"
            ],
            "image/png": "[encoded data removed]"
          },
          "metadata": {}
        }
      ]
    },
    {
      "cell_type": "code",
      "source": [
        "# Let's have a look at how to build a neural network for our data\n",
        "\n",
        "# 1. Create a model\n",
        "model = tf.keras.Sequential([\n",
        "    tf.keras.layers.Dense(1)\n",
        "])\n",
        "\n",
        "# 2. Compile the model\n",
        "model.compile(loss=\"mae\",\n",
        "              optimizer=tf.keras.optimizers.SGD(),\n",
        "              metrics=[\"mae\"])\n",
        "\n",
        "# # 3. Fit the model\n",
        "# model.fit(tf.expand_dims(X_train, axis=-1), y_train, epochs=100)"
      ],
      "metadata": {
        "id": "WoZnQrHN0UIC"
      },
      "execution_count": null,
      "outputs": []
    },
    {
      "cell_type": "markdown",
      "source": [
        "### Visualizing the model"
      ],
      "metadata": {
        "id": "KW0ag8EJ2ZY6"
      }
    },
    {
      "cell_type": "code",
      "source": [
        "model.summary()"
      ],
      "metadata": {
        "colab": {
          "base_uri": "https://localhost:8080/",
          "height": 339
        },
        "id": "GISFQVWd25UZ",
        "outputId": "358ce618-eaa4-4348-96b2-b122731adf64"
      },
      "execution_count": null,
      "outputs": [
        {
          "output_type": "error",
          "ename": "ValueError",
          "evalue": "ignored",
          "traceback": [
            "\u001b[0;31m---------------------------------------------------------------------------\u001b[0m",
            "\u001b[0;31mValueError\u001b[0m                                Traceback (most recent call last)",
            "\u001b[0;32m<ipython-input-34-5f15418b3570>\u001b[0m in \u001b[0;36m<cell line: 1>\u001b[0;34m()\u001b[0m\n\u001b[0;32m----> 1\u001b[0;31m \u001b[0mmodel\u001b[0m\u001b[0;34m.\u001b[0m\u001b[0msummary\u001b[0m\u001b[0;34m(\u001b[0m\u001b[0;34m)\u001b[0m\u001b[0;34m\u001b[0m\u001b[0;34m\u001b[0m\u001b[0m\n\u001b[0m",
            "\u001b[0;32m/usr/local/lib/python3.10/dist-packages/keras/src/engine/training.py\u001b[0m in \u001b[0;36msummary\u001b[0;34m(self, line_length, positions, print_fn, expand_nested, show_trainable, layer_range)\u001b[0m\n\u001b[1;32m   3401\u001b[0m         \"\"\"\n\u001b[1;32m   3402\u001b[0m         \u001b[0;32mif\u001b[0m \u001b[0;32mnot\u001b[0m \u001b[0mself\u001b[0m\u001b[0;34m.\u001b[0m\u001b[0mbuilt\u001b[0m\u001b[0;34m:\u001b[0m\u001b[0;34m\u001b[0m\u001b[0;34m\u001b[0m\u001b[0m\n\u001b[0;32m-> 3403\u001b[0;31m             raise ValueError(\n\u001b[0m\u001b[1;32m   3404\u001b[0m                 \u001b[0;34m\"This model has not yet been built. \"\u001b[0m\u001b[0;34m\u001b[0m\u001b[0;34m\u001b[0m\u001b[0m\n\u001b[1;32m   3405\u001b[0m                 \u001b[0;34m\"Build the model first by calling `build()` or by calling \"\u001b[0m\u001b[0;34m\u001b[0m\u001b[0;34m\u001b[0m\u001b[0m\n",
            "\u001b[0;31mValueError\u001b[0m: This model has not yet been built. Build the model first by calling `build()` or by calling the model on a batch of data."
          ]
        }
      ]
    },
    {
      "cell_type": "code",
      "source": [
        "# Let's create a model which builds automatically by definining the input shape argument in the first layer\n",
        "tf.random.set_seed(42)\n",
        "\n",
        "# 1. Create a model (same as above)\n",
        "model = tf.keras.Sequential([\n",
        "    tf.keras.layers.Dense(10, activation=\"relu\"),\n",
        "    tf.keras.layers.Dense(10, activation=\"relu\"),\n",
        "    tf.keras.layers.Dense(1, name=\"output_layer\")\n",
        "], name=\"model_1\")\n",
        "\n",
        "# 2. Compile the model (same as above)\n",
        "model.compile(loss=\"mae\",\n",
        "              optimizer=tf.keras.optimizers.Adam(learning_rate=0.01),\n",
        "              metrics=[\"mae\"])"
      ],
      "metadata": {
        "id": "oO2Wuq9t27Od"
      },
      "execution_count": null,
      "outputs": []
    },
    {
      "cell_type": "markdown",
      "source": [
        "- Total params - total number of parameters in the model\n",
        "- Trainable params - these are the parameters (patterns) the model can update as it trains\n",
        "- Non-trainable params - these parameters aren't updated during training ( these are typical when you bring in already learned patterns or parameters from other models during **transfer learning**)"
      ],
      "metadata": {
        "id": "mnKf9SSTm4rH"
      }
    },
    {
      "cell_type": "code",
      "source": [
        "# Let's fit our model to the training data\n",
        "model.fit(tf.expand_dims(X_train, axis=-1), y_train, epochs=100, verbose=0)"
      ],
      "metadata": {
        "colab": {
          "base_uri": "https://localhost:8080/"
        },
        "id": "f9E5UfkKmeqQ",
        "outputId": "47ae57b9-2eaf-4c56-899e-040ffd1cbf67"
      },
      "execution_count": null,
      "outputs": [
        {
          "output_type": "execute_result",
          "data": {
            "text/plain": [
              "<keras.src.callbacks.History at 0x784563c92bc0>"
            ]
          },
          "metadata": {},
          "execution_count": 36
        }
      ]
    },
    {
      "cell_type": "code",
      "source": [
        "# Get a summary of our model\n",
        "model.summary()"
      ],
      "metadata": {
        "colab": {
          "base_uri": "https://localhost:8080/"
        },
        "id": "hityMsRUpZS5",
        "outputId": "ba7c62d6-c2af-4a5a-9f28-b6c38ed24282"
      },
      "execution_count": null,
      "outputs": [
        {
          "output_type": "stream",
          "name": "stdout",
          "text": [
            "Model: \"model_1\"\n",
            "_________________________________________________________________\n",
            " Layer (type)                Output Shape              Param #   \n",
            "=================================================================\n",
            " dense_7 (Dense)             (None, 10)                20        \n",
            "                                                                 \n",
            " dense_8 (Dense)             (None, 10)                110       \n",
            "                                                                 \n",
            " output_layer (Dense)        (None, 1)                 11        \n",
            "                                                                 \n",
            "=================================================================\n",
            "Total params: 141 (564.00 Byte)\n",
            "Trainable params: 141 (564.00 Byte)\n",
            "Non-trainable params: 0 (0.00 Byte)\n",
            "_________________________________________________________________\n"
          ]
        }
      ]
    },
    {
      "cell_type": "code",
      "source": [
        "from tensorflow.keras.utils import plot_model\n",
        "\n",
        "plot_model(model=model, show_shapes=True)"
      ],
      "metadata": {
        "colab": {
          "base_uri": "https://localhost:8080/",
          "height": 422
        },
        "id": "c4qxnCxbpzbZ",
        "outputId": "f397c6a7-d43c-45aa-912f-34edbbada38d"
      },
      "execution_count": null,
      "outputs": [
        {
          "output_type": "execute_result",
          "data": {
            "image/png": "[encoded data removed]",
            "text/plain": [
              "<IPython.core.display.Image object>"
            ]
          },
          "metadata": {},
          "execution_count": 38
        }
      ]
    },
    {
      "cell_type": "markdown",
      "source": [
        "### Visualizing our models predictions\n",
        "\n",
        "To visualize predictions, it's a good idea to plot them against the ground truth labels\n",
        "\n",
        "Often you'll see this in the form of \"y_test\" or \"y_true\" vs \"y_pred\" (ground truth vs your model's predictions)"
      ],
      "metadata": {
        "id": "GJFJ5tgyqQAu"
      }
    },
    {
      "cell_type": "code",
      "source": [
        "# Make some predictions\n",
        "y_pred = model.predict(X_test)\n",
        "y_pred"
      ],
      "metadata": {
        "id": "a7-zdp1Urwt9",
        "colab": {
          "base_uri": "https://localhost:8080/"
        },
        "outputId": "a5e4be87-85cd-40a2-86e9-8ddee7a7f13e"
      },
      "execution_count": null,
      "outputs": [
        {
          "output_type": "stream",
          "name": "stderr",
          "text": [
            "WARNING:tensorflow:5 out of the last 5 calls to <function Model.make_predict_function.<locals>.predict_function at 0x78455321e290> triggered tf.function retracing. Tracing is expensive and the excessive number of tracings could be due to (1) creating @tf.function repeatedly in a loop, (2) passing tensors with different shapes, (3) passing Python objects instead of tensors. For (1), please define your @tf.function outside of the loop. For (2), @tf.function has reduce_retracing=True option that can avoid unnecessary retracing. For (3), please refer to https://www.tensorflow.org/guide/function#controlling_retracing and https://www.tensorflow.org/api_docs/python/tf/function for  more details.\n"
          ]
        },
        {
          "output_type": "stream",
          "name": "stdout",
          "text": [
            "1/1 [==============================] - 0s 85ms/step\n"
          ]
        },
        {
          "output_type": "execute_result",
          "data": {
            "text/plain": [
              "array([[ 72.657326],\n",
              "       [ 76.96524 ],\n",
              "       [ 81.273155],\n",
              "       [ 85.58108 ],\n",
              "       [ 89.889   ],\n",
              "       [ 94.196915],\n",
              "       [ 98.50482 ],\n",
              "       [102.81275 ],\n",
              "       [107.12066 ],\n",
              "       [111.42857 ]], dtype=float32)"
            ]
          },
          "metadata": {},
          "execution_count": 39
        }
      ]
    },
    {
      "cell_type": "code",
      "source": [
        "y_test"
      ],
      "metadata": {
        "colab": {
          "base_uri": "https://localhost:8080/"
        },
        "id": "YuzZdAL89Fq6",
        "outputId": "a5d5e4ad-5333-497f-a9a8-dd14af5c835a"
      },
      "execution_count": null,
      "outputs": [
        {
          "output_type": "execute_result",
          "data": {
            "text/plain": [
              "<tf.Tensor: shape=(10,), dtype=int32, numpy=array([ 70,  74,  78,  82,  86,  90,  94,  98, 102, 106], dtype=int32)>"
            ]
          },
          "metadata": {},
          "execution_count": 40
        }
      ]
    },
    {
      "cell_type": "markdown",
      "source": [
        "**Note:** If you feel like you're going to reuse some kind of functionality in the future, it's a good idea to turn it into a function"
      ],
      "metadata": {
        "id": "933vt3Eg9XyF"
      }
    },
    {
      "cell_type": "code",
      "source": [
        "# Let's create a plotting function\n",
        "def plot_predictions(train_data=X_train,\n",
        "                     train_labels=y_train,\n",
        "                     test_data=X_test,\n",
        "                     test_labels=y_test,\n",
        "                     predictions=y_pred):\n",
        "  \"\"\"\n",
        "  Plots training data, test data and compares predictions to ground truth labels\n",
        "  \"\"\"\n",
        "\n",
        "  plt.figure(figsize=(10, 7))\n",
        "  # Plot training data in blue\n",
        "  plt.scatter(train_data, train_labels, c=\"b\", label=\"Training data\")\n",
        "  # Plot testing data in green\n",
        "  plt.scatter(test_data, test_labels, c=\"g\", label=\"Testing data\")\n",
        "  # Plot model's predictions in red\n",
        "  plt.scatter(test_data, predictions, c=\"r\", label=\"Predictions\")\n",
        "  # Show the legend\n",
        "  plt.legend();"
      ],
      "metadata": {
        "id": "Igv-VKbB9KUJ"
      },
      "execution_count": null,
      "outputs": []
    },
    {
      "cell_type": "code",
      "source": [
        "plot_predictions(train_data=X_train,\n",
        "                 train_labels=y_train,\n",
        "                 test_data=X_test,\n",
        "                 test_labels=y_test,\n",
        "                 predictions=y_pred)"
      ],
      "metadata": {
        "colab": {
          "base_uri": "https://localhost:8080/",
          "height": 599
        },
        "id": "PEZY4gQq-qWm",
        "outputId": "c509386e-3b06-424c-f571-c33bc504a6a7"
      },
      "execution_count": null,
      "outputs": [
        {
          "output_type": "display_data",
          "data": {
            "text/plain": [
              "<Figure size 1000x700 with 1 Axes>"
            ],
            "image/png": "[encoded data removed]"
          },
          "metadata": {}
        }
      ]
    },
    {
      "cell_type": "markdown",
      "source": [
        "### Evaluating our models predictions with regression evaluation metrics\n",
        "\n",
        "Depending on the problem you're working on, there will be different evaluation metrics to evaluate your model's performance\n",
        "\n",
        "Since we're working on a regression, two of the main metrics:\n",
        "- MAE - mean absolute error, \"on average, how wrong is each of my model's predictions\"\n",
        "- MSE - mean sqaure error, \"you square the average errors\""
      ],
      "metadata": {
        "id": "ZYtKim11-t6m"
      }
    },
    {
      "cell_type": "code",
      "source": [
        "# Evaluate the model on the test set\n",
        "model.evaluate(X_test, y_test)"
      ],
      "metadata": {
        "colab": {
          "base_uri": "https://localhost:8080/"
        },
        "id": "zpRiLY7X_TXj",
        "outputId": "14ae25be-7d6e-43aa-b7bf-f99d295c139b"
      },
      "execution_count": null,
      "outputs": [
        {
          "output_type": "stream",
          "name": "stdout",
          "text": [
            "1/1 [==============================] - 0s 165ms/step - loss: 4.0430 - mae: 4.0430\n"
          ]
        },
        {
          "output_type": "execute_result",
          "data": {
            "text/plain": [
              "[4.042952060699463, 4.042952060699463]"
            ]
          },
          "metadata": {},
          "execution_count": 43
        }
      ]
    },
    {
      "cell_type": "code",
      "source": [
        "# Calculate the mean absolute error\n",
        "mae = tf.metrics.mean_absolute_error(y_true=y_test,\n",
        "                                     y_pred=tf.constant(y_pred))\n",
        "\n",
        "mae"
      ],
      "metadata": {
        "colab": {
          "base_uri": "https://localhost:8080/"
        },
        "id": "XRsRiE-lBl7P",
        "outputId": "1f6c0838-ade5-4c3b-d29b-13ba8722f73b"
      },
      "execution_count": null,
      "outputs": [
        {
          "output_type": "execute_result",
          "data": {
            "text/plain": [
              "<tf.Tensor: shape=(10,), dtype=float32, numpy=\n",
              "array([15.87414 , 13.020856, 11.090738, 10.083784, 10.      , 10.878766,\n",
              "       12.702893, 15.450201, 19.120659, 23.428574], dtype=float32)>"
            ]
          },
          "metadata": {},
          "execution_count": 44
        }
      ]
    },
    {
      "cell_type": "code",
      "source": [
        "tf.constant(y_pred)"
      ],
      "metadata": {
        "colab": {
          "base_uri": "https://localhost:8080/"
        },
        "id": "ffQGUMwHCu6b",
        "outputId": "5200f604-ea84-4aac-8715-ec1eb0f9aa94"
      },
      "execution_count": null,
      "outputs": [
        {
          "output_type": "execute_result",
          "data": {
            "text/plain": [
              "<tf.Tensor: shape=(10, 1), dtype=float32, numpy=\n",
              "array([[ 72.657326],\n",
              "       [ 76.96524 ],\n",
              "       [ 81.273155],\n",
              "       [ 85.58108 ],\n",
              "       [ 89.889   ],\n",
              "       [ 94.196915],\n",
              "       [ 98.50482 ],\n",
              "       [102.81275 ],\n",
              "       [107.12066 ],\n",
              "       [111.42857 ]], dtype=float32)>"
            ]
          },
          "metadata": {},
          "execution_count": 45
        }
      ]
    },
    {
      "cell_type": "code",
      "source": [
        "tf.squeeze(y_pred)"
      ],
      "metadata": {
        "colab": {
          "base_uri": "https://localhost:8080/"
        },
        "id": "R3kV6h9XDeuj",
        "outputId": "f07a5de2-eceb-479e-e923-ef9f22c5d30c"
      },
      "execution_count": null,
      "outputs": [
        {
          "output_type": "execute_result",
          "data": {
            "text/plain": [
              "<tf.Tensor: shape=(10,), dtype=float32, numpy=\n",
              "array([ 72.657326,  76.96524 ,  81.273155,  85.58108 ,  89.889   ,\n",
              "        94.196915,  98.50482 , 102.81275 , 107.12066 , 111.42857 ],\n",
              "      dtype=float32)>"
            ]
          },
          "metadata": {},
          "execution_count": 46
        }
      ]
    },
    {
      "cell_type": "code",
      "source": [
        "# Calculate the mean absolute error\n",
        "mae = tf.metrics.mean_absolute_error(y_true=y_test,\n",
        "                                     y_pred=tf.squeeze(y_pred))\n",
        "\n",
        "mae"
      ],
      "metadata": {
        "colab": {
          "base_uri": "https://localhost:8080/"
        },
        "id": "jqS06R60Dk9n",
        "outputId": "d253c606-ba49-4492-92d5-b0cb756d1646"
      },
      "execution_count": null,
      "outputs": [
        {
          "output_type": "execute_result",
          "data": {
            "text/plain": [
              "<tf.Tensor: shape=(), dtype=float32, numpy=4.042952>"
            ]
          },
          "metadata": {},
          "execution_count": 47
        }
      ]
    },
    {
      "cell_type": "code",
      "source": [
        "# Calculate the mean square error\n",
        "mse = tf.metrics.mean_squared_error(y_true=y_test,\n",
        "                                    y_pred=tf.squeeze(y_pred))\n",
        "\n",
        "mse"
      ],
      "metadata": {
        "colab": {
          "base_uri": "https://localhost:8080/"
        },
        "id": "dixS2j4JDzkd",
        "outputId": "17aabbab-4a2e-4629-e256-ff3ca84ef97c"
      },
      "execution_count": null,
      "outputs": [
        {
          "output_type": "execute_result",
          "data": {
            "text/plain": [
              "<tf.Tensor: shape=(), dtype=float32, numpy=17.127666>"
            ]
          },
          "metadata": {},
          "execution_count": 48
        }
      ]
    },
    {
      "cell_type": "code",
      "source": [
        "# Make some functions to reuse MAE and MSE\n",
        "def mae(y_true, y_pred):\n",
        "  return tf.metrics.mean_absolute_error(y_true=y_true,\n",
        "                                          y_pred=tf.squeeze(y_pred))\n",
        "\n",
        "def mse(y_true, y_pred):\n",
        "  return tf.metrics.mean_squared_error(y_true=y_true,\n",
        "                                       y_pred=tf.squeeze(y_pred))\n",
        "\n"
      ],
      "metadata": {
        "id": "f4_0Ku3cFXAT"
      },
      "execution_count": null,
      "outputs": []
    },
    {
      "cell_type": "markdown",
      "source": [
        "### Running experiments to improve our model\n",
        "\n",
        "```\n",
        "Build a model -> fit it -> evaluate it -> tweak a model -> fit it -> evaluate it -> tweak a model -> fit it -> evaluate it...\n",
        "```\n",
        "\n",
        "1. Get more data - get more examples for your model to train on (more opportunites to learn patterns or relationships between features and labels)\n",
        "2. Make your model larger (using a more complex model) - this might come in the form of more layers or more hidden units in each layer\n",
        "3. Train for longer - give your model more a chance to find patterns in the data\n",
        "\n",
        "Let's do 3 modeling experiments:\n",
        "1. `model_1` - same as the original model, 1 layer but train for 100 epochs\n",
        "2. `model_2` - 2 layers, trained for 100 epochs\n",
        "3. `model_3` - 2 layers, trained for 500 epochs\n",
        "4.\n",
        "5.\n",
        "\n",
        "**Build `model_1`**"
      ],
      "metadata": {
        "id": "ldRKVAzTGIST"
      }
    },
    {
      "cell_type": "code",
      "source": [
        "# Set random seed\n",
        "tf.random.set_seed(42)\n",
        "\n",
        "# 1. Create the model\n",
        "model_1 = tf.keras.Sequential([\n",
        "    tf.keras.layers.Dense(1)\n",
        "])\n",
        "\n",
        "# 2. Compilt the model\n",
        "model_1.compile(loss=tf.keras.losses.mae,\n",
        "                optimizer=tf.keras.optimizers.SGD(),\n",
        "                metrics=\"mae\")\n",
        "\n",
        "# 3. Fit the model\n",
        "model_1.fit(tf.expand_dims(X_train, axis=-1), y_train, epochs=100)"
      ],
      "metadata": {
        "id": "wHcHw_sJHc7A",
        "colab": {
          "base_uri": "https://localhost:8080/"
        },
        "outputId": "03218db3-b2ee-43a6-b291-d1bd9321ef2c"
      },
      "execution_count": null,
      "outputs": [
        {
          "output_type": "stream",
          "name": "stdout",
          "text": [
            "Epoch 1/100\n",
            "2/2 [==============================] - 0s 17ms/step - loss: 91.3377 - mae: 91.3377\n",
            "Epoch 2/100\n",
            "2/2 [==============================] - 0s 8ms/step - loss: 55.8823 - mae: 55.8823\n",
            "Epoch 3/100\n",
            "2/2 [==============================] - 0s 8ms/step - loss: 19.4547 - mae: 19.4547\n",
            "Epoch 4/100\n",
            "2/2 [==============================] - 0s 12ms/step - loss: 9.8755 - mae: 9.8755\n",
            "Epoch 5/100\n",
            "2/2 [==============================] - 0s 10ms/step - loss: 10.8269 - mae: 10.8269\n",
            "Epoch 6/100\n",
            "2/2 [==============================] - 0s 9ms/step - loss: 10.0142 - mae: 10.0142\n",
            "Epoch 7/100\n",
            "2/2 [==============================] - 0s 9ms/step - loss: 9.0621 - mae: 9.0621\n",
            "Epoch 8/100\n",
            "2/2 [==============================] - 0s 10ms/step - loss: 9.1104 - mae: 9.1104\n",
            "Epoch 9/100\n",
            "2/2 [==============================] - 0s 9ms/step - loss: 19.9341 - mae: 19.9341\n",
            "Epoch 10/100\n",
            "2/2 [==============================] - 0s 11ms/step - loss: 10.7904 - mae: 10.7904\n",
            "Epoch 11/100\n",
            "2/2 [==============================] - 0s 9ms/step - loss: 8.6892 - mae: 8.6892\n",
            "Epoch 12/100\n",
            "2/2 [==============================] - 0s 8ms/step - loss: 9.6726 - mae: 9.6726\n",
            "Epoch 13/100\n",
            "2/2 [==============================] - 0s 9ms/step - loss: 13.0224 - mae: 13.0224\n",
            "Epoch 14/100\n",
            "2/2 [==============================] - 0s 11ms/step - loss: 14.2015 - mae: 14.2015\n",
            "Epoch 15/100\n",
            "2/2 [==============================] - 0s 13ms/step - loss: 11.6066 - mae: 11.6066\n",
            "Epoch 16/100\n",
            "2/2 [==============================] - 0s 9ms/step - loss: 8.5120 - mae: 8.5120\n",
            "Epoch 17/100\n",
            "2/2 [==============================] - 0s 9ms/step - loss: 13.5416 - mae: 13.5416\n",
            "Epoch 18/100\n",
            "2/2 [==============================] - 0s 8ms/step - loss: 11.3393 - mae: 11.3393\n",
            "Epoch 19/100\n",
            "2/2 [==============================] - 0s 9ms/step - loss: 18.1181 - mae: 18.1181\n",
            "Epoch 20/100\n",
            "2/2 [==============================] - 0s 9ms/step - loss: 15.2512 - mae: 15.2512\n",
            "Epoch 21/100\n",
            "2/2 [==============================] - 0s 9ms/step - loss: 11.1967 - mae: 11.1967\n",
            "Epoch 22/100\n",
            "2/2 [==============================] - 0s 9ms/step - loss: 8.3201 - mae: 8.3201\n",
            "Epoch 23/100\n",
            "2/2 [==============================] - 0s 10ms/step - loss: 9.4407 - mae: 9.4407\n",
            "Epoch 24/100\n",
            "2/2 [==============================] - 0s 8ms/step - loss: 7.7237 - mae: 7.7237\n",
            "Epoch 25/100\n",
            "2/2 [==============================] - 0s 12ms/step - loss: 12.9645 - mae: 12.9645\n",
            "Epoch 26/100\n",
            "2/2 [==============================] - 0s 8ms/step - loss: 16.6199 - mae: 16.6199\n",
            "Epoch 27/100\n",
            "2/2 [==============================] - 0s 8ms/step - loss: 13.3363 - mae: 13.3363\n",
            "Epoch 28/100\n",
            "2/2 [==============================] - 0s 9ms/step - loss: 14.4684 - mae: 14.4684\n",
            "Epoch 29/100\n",
            "2/2 [==============================] - 0s 7ms/step - loss: 10.1473 - mae: 10.1473\n",
            "Epoch 30/100\n",
            "2/2 [==============================] - 0s 9ms/step - loss: 16.6406 - mae: 16.6406\n",
            "Epoch 31/100\n",
            "2/2 [==============================] - 0s 8ms/step - loss: 23.3936 - mae: 23.3936\n",
            "Epoch 32/100\n",
            "2/2 [==============================] - 0s 8ms/step - loss: 7.3918 - mae: 7.3918\n",
            "Epoch 33/100\n",
            "2/2 [==============================] - 0s 8ms/step - loss: 9.8052 - mae: 9.8052\n",
            "Epoch 34/100\n",
            "2/2 [==============================] - 0s 7ms/step - loss: 12.2274 - mae: 12.2274\n",
            "Epoch 35/100\n",
            "2/2 [==============================] - 0s 8ms/step - loss: 11.2248 - mae: 11.2248\n",
            "Epoch 36/100\n",
            "2/2 [==============================] - 0s 13ms/step - loss: 13.4828 - mae: 13.4828\n",
            "Epoch 37/100\n",
            "2/2 [==============================] - 0s 11ms/step - loss: 9.4477 - mae: 9.4477\n",
            "Epoch 38/100\n",
            "2/2 [==============================] - 0s 8ms/step - loss: 10.0974 - mae: 10.0974\n",
            "Epoch 39/100\n",
            "2/2 [==============================] - 0s 8ms/step - loss: 8.9767 - mae: 8.9767\n",
            "Epoch 40/100\n",
            "2/2 [==============================] - 0s 8ms/step - loss: 9.6027 - mae: 9.6027\n",
            "Epoch 41/100\n",
            "2/2 [==============================] - 0s 8ms/step - loss: 10.5583 - mae: 10.5583\n",
            "Epoch 42/100\n",
            "2/2 [==============================] - 0s 8ms/step - loss: 10.6071 - mae: 10.6071\n",
            "Epoch 43/100\n",
            "2/2 [==============================] - 0s 8ms/step - loss: 7.2383 - mae: 7.2383\n",
            "Epoch 44/100\n",
            "2/2 [==============================] - 0s 8ms/step - loss: 8.0201 - mae: 8.0201\n",
            "Epoch 45/100\n",
            "2/2 [==============================] - 0s 11ms/step - loss: 9.8139 - mae: 9.8139\n",
            "Epoch 46/100\n",
            "2/2 [==============================] - 0s 10ms/step - loss: 8.8886 - mae: 8.8886\n",
            "Epoch 47/100\n",
            "2/2 [==============================] - 0s 9ms/step - loss: 7.6016 - mae: 7.6016\n",
            "Epoch 48/100\n",
            "2/2 [==============================] - 0s 8ms/step - loss: 8.6041 - mae: 8.6041\n",
            "Epoch 49/100\n",
            "2/2 [==============================] - 0s 8ms/step - loss: 10.0188 - mae: 10.0188\n",
            "Epoch 50/100\n",
            "2/2 [==============================] - 0s 8ms/step - loss: 9.0560 - mae: 9.0560\n",
            "Epoch 51/100\n",
            "2/2 [==============================] - 0s 8ms/step - loss: 10.6875 - mae: 10.6875\n",
            "Epoch 52/100\n",
            "2/2 [==============================] - 0s 8ms/step - loss: 15.3250 - mae: 15.3250\n",
            "Epoch 53/100\n",
            "2/2 [==============================] - 0s 13ms/step - loss: 14.3420 - mae: 14.3420\n",
            "Epoch 54/100\n",
            "2/2 [==============================] - 0s 11ms/step - loss: 21.6391 - mae: 21.6391\n",
            "Epoch 55/100\n",
            "2/2 [==============================] - 0s 11ms/step - loss: 15.9935 - mae: 15.9935\n",
            "Epoch 56/100\n",
            "2/2 [==============================] - 0s 11ms/step - loss: 10.3167 - mae: 10.3167\n",
            "Epoch 57/100\n",
            "2/2 [==============================] - 0s 7ms/step - loss: 9.7883 - mae: 9.7883\n",
            "Epoch 58/100\n",
            "2/2 [==============================] - 0s 8ms/step - loss: 9.0758 - mae: 9.0758\n",
            "Epoch 59/100\n",
            "2/2 [==============================] - 0s 8ms/step - loss: 8.2768 - mae: 8.2768\n",
            "Epoch 60/100\n",
            "2/2 [==============================] - 0s 8ms/step - loss: 9.3779 - mae: 9.3779\n",
            "Epoch 61/100\n",
            "2/2 [==============================] - 0s 8ms/step - loss: 11.1836 - mae: 11.1836\n",
            "Epoch 62/100\n",
            "2/2 [==============================] - 0s 8ms/step - loss: 12.1063 - mae: 12.1063\n",
            "Epoch 63/100\n",
            "2/2 [==============================] - 0s 7ms/step - loss: 7.2933 - mae: 7.2933\n",
            "Epoch 64/100\n",
            "2/2 [==============================] - 0s 7ms/step - loss: 12.4418 - mae: 12.4418\n",
            "Epoch 65/100\n",
            "2/2 [==============================] - 0s 7ms/step - loss: 10.5195 - mae: 10.5195\n",
            "Epoch 66/100\n",
            "2/2 [==============================] - 0s 8ms/step - loss: 15.6375 - mae: 15.6375\n",
            "Epoch 67/100\n",
            "2/2 [==============================] - 0s 8ms/step - loss: 10.0407 - mae: 10.0407\n",
            "Epoch 68/100\n",
            "2/2 [==============================] - 0s 7ms/step - loss: 8.7497 - mae: 8.7497\n",
            "Epoch 69/100\n",
            "2/2 [==============================] - 0s 8ms/step - loss: 13.5165 - mae: 13.5165\n",
            "Epoch 70/100\n",
            "2/2 [==============================] - 0s 8ms/step - loss: 7.4960 - mae: 7.4960\n",
            "Epoch 71/100\n",
            "2/2 [==============================] - 0s 7ms/step - loss: 12.2464 - mae: 12.2464\n",
            "Epoch 72/100\n",
            "2/2 [==============================] - 0s 7ms/step - loss: 8.5618 - mae: 8.5618\n",
            "Epoch 73/100\n",
            "2/2 [==============================] - 0s 7ms/step - loss: 7.0660 - mae: 7.0660\n",
            "Epoch 74/100\n",
            "2/2 [==============================] - 0s 11ms/step - loss: 9.9608 - mae: 9.9608\n",
            "Epoch 75/100\n",
            "2/2 [==============================] - 0s 8ms/step - loss: 9.9582 - mae: 9.9582\n",
            "Epoch 76/100\n",
            "2/2 [==============================] - 0s 8ms/step - loss: 10.1257 - mae: 10.1257\n",
            "Epoch 77/100\n",
            "2/2 [==============================] - 0s 7ms/step - loss: 12.9650 - mae: 12.9650\n",
            "Epoch 78/100\n",
            "2/2 [==============================] - 0s 7ms/step - loss: 11.1749 - mae: 11.1749\n",
            "Epoch 79/100\n",
            "2/2 [==============================] - 0s 9ms/step - loss: 14.7276 - mae: 14.7276\n",
            "Epoch 80/100\n",
            "2/2 [==============================] - 0s 7ms/step - loss: 8.9464 - mae: 8.9464\n",
            "Epoch 81/100\n",
            "2/2 [==============================] - 0s 8ms/step - loss: 10.7880 - mae: 10.7880\n",
            "Epoch 82/100\n",
            "2/2 [==============================] - 0s 7ms/step - loss: 8.4190 - mae: 8.4190\n",
            "Epoch 83/100\n",
            "2/2 [==============================] - 0s 8ms/step - loss: 9.2444 - mae: 9.2444\n",
            "Epoch 84/100\n",
            "2/2 [==============================] - 0s 7ms/step - loss: 8.9662 - mae: 8.9662\n",
            "Epoch 85/100\n",
            "2/2 [==============================] - 0s 7ms/step - loss: 13.2013 - mae: 13.2013\n",
            "Epoch 86/100\n",
            "2/2 [==============================] - 0s 7ms/step - loss: 13.7274 - mae: 13.7274\n",
            "Epoch 87/100\n",
            "2/2 [==============================] - 0s 7ms/step - loss: 13.2122 - mae: 13.2122\n",
            "Epoch 88/100\n",
            "2/2 [==============================] - 0s 7ms/step - loss: 11.5409 - mae: 11.5409\n",
            "Epoch 89/100\n",
            "2/2 [==============================] - 0s 7ms/step - loss: 7.8308 - mae: 7.8308\n",
            "Epoch 90/100\n",
            "2/2 [==============================] - 0s 7ms/step - loss: 10.9579 - mae: 10.9579\n",
            "Epoch 91/100\n",
            "2/2 [==============================] - 0s 8ms/step - loss: 6.7758 - mae: 6.7758\n",
            "Epoch 92/100\n",
            "2/2 [==============================] - 0s 8ms/step - loss: 10.1507 - mae: 10.1507\n",
            "Epoch 93/100\n",
            "2/2 [==============================] - 0s 7ms/step - loss: 7.6289 - mae: 7.6289\n",
            "Epoch 94/100\n",
            "2/2 [==============================] - 0s 7ms/step - loss: 9.2622 - mae: 9.2622\n",
            "Epoch 95/100\n",
            "2/2 [==============================] - 0s 8ms/step - loss: 10.8495 - mae: 10.8495\n",
            "Epoch 96/100\n",
            "2/2 [==============================] - 0s 7ms/step - loss: 10.3204 - mae: 10.3204\n",
            "Epoch 97/100\n",
            "2/2 [==============================] - 0s 7ms/step - loss: 7.6997 - mae: 7.6997\n",
            "Epoch 98/100\n",
            "2/2 [==============================] - 0s 7ms/step - loss: 8.6365 - mae: 8.6365\n",
            "Epoch 99/100\n",
            "2/2 [==============================] - 0s 8ms/step - loss: 9.4152 - mae: 9.4152\n",
            "Epoch 100/100\n",
            "2/2 [==============================] - 0s 7ms/step - loss: 8.8613 - mae: 8.8613\n"
          ]
        },
        {
          "output_type": "execute_result",
          "data": {
            "text/plain": [
              "<keras.src.callbacks.History at 0x78456084d540>"
            ]
          },
          "metadata": {},
          "execution_count": 50
        }
      ]
    },
    {
      "cell_type": "code",
      "source": [
        "# Make and plot predictions for model_1\n",
        "y_preds_1 = model_1.predict(X_test)\n",
        "plot_predictions(predictions=y_preds_1)"
      ],
      "metadata": {
        "colab": {
          "base_uri": "https://localhost:8080/",
          "height": 655
        },
        "id": "BFjIuAlXKFD6",
        "outputId": "57aab425-80bc-4da3-de06-01fc361ca7ba"
      },
      "execution_count": null,
      "outputs": [
        {
          "output_type": "stream",
          "name": "stderr",
          "text": [
            "WARNING:tensorflow:6 out of the last 6 calls to <function Model.make_predict_function.<locals>.predict_function at 0x784560988b80> triggered tf.function retracing. Tracing is expensive and the excessive number of tracings could be due to (1) creating @tf.function repeatedly in a loop, (2) passing tensors with different shapes, (3) passing Python objects instead of tensors. For (1), please define your @tf.function outside of the loop. For (2), @tf.function has reduce_retracing=True option that can avoid unnecessary retracing. For (3), please refer to https://www.tensorflow.org/guide/function#controlling_retracing and https://www.tensorflow.org/api_docs/python/tf/function for  more details.\n"
          ]
        },
        {
          "output_type": "stream",
          "name": "stdout",
          "text": [
            "1/1 [==============================] - 0s 83ms/step\n"
          ]
        },
        {
          "output_type": "display_data",
          "data": {
            "text/plain": [
              "<Figure size 1000x700 with 1 Axes>"
            ],
            "image/png": "[encoded data removed]"
          },
          "metadata": {}
        }
      ]
    },
    {
      "cell_type": "code",
      "source": [
        "# Calculate model_1 evaluation metrics\n",
        "mse_1 = mse(y_test, y_preds_1)\n",
        "mse_1"
      ],
      "metadata": {
        "colab": {
          "base_uri": "https://localhost:8080/"
        },
        "id": "mpb1qQc7Kvj1",
        "outputId": "b34cf42a-c85b-41f1-942b-84d1405ae35d"
      },
      "execution_count": null,
      "outputs": [
        {
          "output_type": "execute_result",
          "data": {
            "text/plain": [
              "<tf.Tensor: shape=(), dtype=float32, numpy=79.400894>"
            ]
          },
          "metadata": {},
          "execution_count": 52
        }
      ]
    },
    {
      "cell_type": "code",
      "source": [
        "mae_1 = mae(y_test, y_preds_1)\n",
        "mae_1"
      ],
      "metadata": {
        "colab": {
          "base_uri": "https://localhost:8080/"
        },
        "id": "za271NJoLFRd",
        "outputId": "d4bdf73a-f349-4ece-dfc4-75c9c14c95e4"
      },
      "execution_count": null,
      "outputs": [
        {
          "output_type": "execute_result",
          "data": {
            "text/plain": [
              "<tf.Tensor: shape=(), dtype=float32, numpy=8.539748>"
            ]
          },
          "metadata": {},
          "execution_count": 53
        }
      ]
    },
    {
      "cell_type": "markdown",
      "source": [
        "**Build `model_2`**\n",
        "\n",
        "- 2 Dense layers, trained for 100 epochs"
      ],
      "metadata": {
        "id": "A50DcItrLYMh"
      }
    },
    {
      "cell_type": "code",
      "source": [
        "# Set random seed\n",
        "tf.random.set_seed(42)\n",
        "\n",
        "# 1. Create the model\n",
        "model_2 = tf.keras.Sequential([\n",
        "    tf.keras.layers.Dense(10),\n",
        "    tf.keras.layers.Dense(1)\n",
        "])\n",
        "\n",
        "# 2. Compile the model\n",
        "model_2.compile(loss=\"mae\",\n",
        "                optimizer=tf.keras.optimizers.SGD(),\n",
        "                metrics=[\"mae\"])\n",
        "\n",
        "# 3. Fit the model\n",
        "model_2.fit(tf.expand_dims(X_train, axis=-1), y_train, epochs=100)"
      ],
      "metadata": {
        "id": "OZeFqYUaMc5c",
        "colab": {
          "base_uri": "https://localhost:8080/"
        },
        "outputId": "80121ee9-8e0f-4f6f-e2b0-1b2cb337c558"
      },
      "execution_count": null,
      "outputs": [
        {
          "output_type": "stream",
          "name": "stdout",
          "text": [
            "Epoch 1/100\n",
            "2/2 [==============================] - 1s 14ms/step - loss: 60.9404 - mae: 60.9404\n",
            "Epoch 2/100\n",
            "2/2 [==============================] - 0s 8ms/step - loss: 20.3771 - mae: 20.3771\n",
            "Epoch 3/100\n",
            "2/2 [==============================] - 0s 8ms/step - loss: 18.0289 - mae: 18.0289\n",
            "Epoch 4/100\n",
            "2/2 [==============================] - 0s 9ms/step - loss: 13.2392 - mae: 13.2392\n",
            "Epoch 5/100\n",
            "2/2 [==============================] - 0s 8ms/step - loss: 14.6072 - mae: 14.6072\n",
            "Epoch 6/100\n",
            "2/2 [==============================] - 0s 8ms/step - loss: 11.6468 - mae: 11.6468\n",
            "Epoch 7/100\n",
            "2/2 [==============================] - 0s 8ms/step - loss: 12.7081 - mae: 12.7081\n",
            "Epoch 8/100\n",
            "2/2 [==============================] - 0s 10ms/step - loss: 11.0551 - mae: 11.0551\n",
            "Epoch 9/100\n",
            "2/2 [==============================] - 0s 11ms/step - loss: 39.8709 - mae: 39.8709\n",
            "Epoch 10/100\n",
            "2/2 [==============================] - 0s 10ms/step - loss: 27.3404 - mae: 27.3404\n",
            "Epoch 11/100\n",
            "2/2 [==============================] - 0s 12ms/step - loss: 11.0291 - mae: 11.0291\n",
            "Epoch 12/100\n",
            "2/2 [==============================] - 0s 11ms/step - loss: 24.3739 - mae: 24.3739\n",
            "Epoch 13/100\n",
            "2/2 [==============================] - 0s 11ms/step - loss: 19.3746 - mae: 19.3746\n",
            "Epoch 14/100\n",
            "2/2 [==============================] - 0s 10ms/step - loss: 23.6365 - mae: 23.6365\n",
            "Epoch 15/100\n",
            "2/2 [==============================] - 0s 8ms/step - loss: 15.7276 - mae: 15.7276\n",
            "Epoch 16/100\n",
            "2/2 [==============================] - 0s 9ms/step - loss: 10.4248 - mae: 10.4248\n",
            "Epoch 17/100\n",
            "2/2 [==============================] - 0s 11ms/step - loss: 19.6435 - mae: 19.6435\n",
            "Epoch 18/100\n",
            "2/2 [==============================] - 0s 12ms/step - loss: 13.2821 - mae: 13.2821\n",
            "Epoch 19/100\n",
            "2/2 [==============================] - 0s 13ms/step - loss: 16.0495 - mae: 16.0495\n",
            "Epoch 20/100\n",
            "2/2 [==============================] - 0s 10ms/step - loss: 10.2027 - mae: 10.2027\n",
            "Epoch 21/100\n",
            "2/2 [==============================] - 0s 9ms/step - loss: 13.7477 - mae: 13.7477\n",
            "Epoch 22/100\n",
            "2/2 [==============================] - 0s 10ms/step - loss: 21.9580 - mae: 21.9580\n",
            "Epoch 23/100\n",
            "2/2 [==============================] - 0s 9ms/step - loss: 10.4575 - mae: 10.4575\n",
            "Epoch 24/100\n",
            "2/2 [==============================] - 0s 11ms/step - loss: 15.7482 - mae: 15.7482\n",
            "Epoch 25/100\n",
            "2/2 [==============================] - 0s 8ms/step - loss: 14.9015 - mae: 14.9015\n",
            "Epoch 26/100\n",
            "2/2 [==============================] - 0s 8ms/step - loss: 19.5256 - mae: 19.5256\n",
            "Epoch 27/100\n",
            "2/2 [==============================] - 0s 9ms/step - loss: 20.5317 - mae: 20.5317\n",
            "Epoch 28/100\n",
            "2/2 [==============================] - 0s 10ms/step - loss: 14.9066 - mae: 14.9066\n",
            "Epoch 29/100\n",
            "2/2 [==============================] - 0s 9ms/step - loss: 9.2679 - mae: 9.2679\n",
            "Epoch 30/100\n",
            "2/2 [==============================] - 0s 9ms/step - loss: 30.2698 - mae: 30.2698\n",
            "Epoch 31/100\n",
            "2/2 [==============================] - 0s 8ms/step - loss: 54.9918 - mae: 54.9918\n",
            "Epoch 32/100\n",
            "2/2 [==============================] - 0s 8ms/step - loss: 9.6861 - mae: 9.6861\n",
            "Epoch 33/100\n",
            "2/2 [==============================] - 0s 8ms/step - loss: 12.2935 - mae: 12.2935\n",
            "Epoch 34/100\n",
            "2/2 [==============================] - 0s 8ms/step - loss: 24.3867 - mae: 24.3867\n",
            "Epoch 35/100\n",
            "2/2 [==============================] - 0s 8ms/step - loss: 11.9711 - mae: 11.9711\n",
            "Epoch 36/100\n",
            "2/2 [==============================] - 0s 8ms/step - loss: 22.2291 - mae: 22.2291\n",
            "Epoch 37/100\n",
            "2/2 [==============================] - 0s 8ms/step - loss: 17.3583 - mae: 17.3583\n",
            "Epoch 38/100\n",
            "2/2 [==============================] - 0s 9ms/step - loss: 10.6657 - mae: 10.6657\n",
            "Epoch 39/100\n",
            "2/2 [==============================] - 0s 12ms/step - loss: 11.1811 - mae: 11.1811\n",
            "Epoch 40/100\n",
            "2/2 [==============================] - 0s 13ms/step - loss: 17.9596 - mae: 17.9596\n",
            "Epoch 41/100\n",
            "2/2 [==============================] - 0s 9ms/step - loss: 10.3954 - mae: 10.3954\n",
            "Epoch 42/100\n",
            "2/2 [==============================] - 0s 8ms/step - loss: 7.2778 - mae: 7.2778\n",
            "Epoch 43/100\n",
            "2/2 [==============================] - 0s 12ms/step - loss: 18.9190 - mae: 18.9190\n",
            "Epoch 44/100\n",
            "2/2 [==============================] - 0s 8ms/step - loss: 20.0663 - mae: 20.0663\n",
            "Epoch 45/100\n",
            "2/2 [==============================] - 0s 9ms/step - loss: 10.1139 - mae: 10.1139\n",
            "Epoch 46/100\n",
            "2/2 [==============================] - 0s 9ms/step - loss: 11.3680 - mae: 11.3680\n",
            "Epoch 47/100\n",
            "2/2 [==============================] - 0s 8ms/step - loss: 9.8306 - mae: 9.8306\n",
            "Epoch 48/100\n",
            "2/2 [==============================] - 0s 8ms/step - loss: 17.6301 - mae: 17.6301\n",
            "Epoch 49/100\n",
            "2/2 [==============================] - 0s 8ms/step - loss: 9.3253 - mae: 9.3253\n",
            "Epoch 50/100\n",
            "2/2 [==============================] - 0s 11ms/step - loss: 13.3631 - mae: 13.3631\n",
            "Epoch 51/100\n",
            "2/2 [==============================] - 0s 8ms/step - loss: 11.4315 - mae: 11.4315\n",
            "Epoch 52/100\n",
            "2/2 [==============================] - 0s 8ms/step - loss: 29.3465 - mae: 29.3465\n",
            "Epoch 53/100\n",
            "2/2 [==============================] - 0s 8ms/step - loss: 16.7209 - mae: 16.7209\n",
            "Epoch 54/100\n",
            "2/2 [==============================] - 0s 9ms/step - loss: 21.6909 - mae: 21.6909\n",
            "Epoch 55/100\n",
            "2/2 [==============================] - 0s 8ms/step - loss: 22.1338 - mae: 22.1338\n",
            "Epoch 56/100\n",
            "2/2 [==============================] - 0s 9ms/step - loss: 11.2325 - mae: 11.2325\n",
            "Epoch 57/100\n",
            "2/2 [==============================] - 0s 8ms/step - loss: 13.2049 - mae: 13.2049\n",
            "Epoch 58/100\n",
            "2/2 [==============================] - 0s 8ms/step - loss: 9.8650 - mae: 9.8650\n",
            "Epoch 59/100\n",
            "2/2 [==============================] - 0s 8ms/step - loss: 13.3904 - mae: 13.3904\n",
            "Epoch 60/100\n",
            "2/2 [==============================] - 0s 8ms/step - loss: 10.9275 - mae: 10.9275\n",
            "Epoch 61/100\n",
            "2/2 [==============================] - 0s 8ms/step - loss: 13.5417 - mae: 13.5417\n",
            "Epoch 62/100\n",
            "2/2 [==============================] - 0s 8ms/step - loss: 17.6068 - mae: 17.6068\n",
            "Epoch 63/100\n",
            "2/2 [==============================] - 0s 10ms/step - loss: 9.1970 - mae: 9.1970\n",
            "Epoch 64/100\n",
            "2/2 [==============================] - 0s 12ms/step - loss: 18.4721 - mae: 18.4721\n",
            "Epoch 65/100\n",
            "2/2 [==============================] - 0s 12ms/step - loss: 10.1517 - mae: 10.1517\n",
            "Epoch 66/100\n",
            "2/2 [==============================] - 0s 12ms/step - loss: 24.3466 - mae: 24.3466\n",
            "Epoch 67/100\n",
            "2/2 [==============================] - 0s 12ms/step - loss: 10.9317 - mae: 10.9317\n",
            "Epoch 68/100\n",
            "2/2 [==============================] - 0s 11ms/step - loss: 10.8052 - mae: 10.8052\n",
            "Epoch 69/100\n",
            "2/2 [==============================] - 0s 9ms/step - loss: 23.3242 - mae: 23.3242\n",
            "Epoch 70/100\n",
            "2/2 [==============================] - 0s 9ms/step - loss: 8.8120 - mae: 8.8120\n",
            "Epoch 71/100\n",
            "2/2 [==============================] - 0s 9ms/step - loss: 15.9671 - mae: 15.9671\n",
            "Epoch 72/100\n",
            "2/2 [==============================] - 0s 13ms/step - loss: 8.1457 - mae: 8.1457\n",
            "Epoch 73/100\n",
            "2/2 [==============================] - 0s 11ms/step - loss: 9.4683 - mae: 9.4683\n",
            "Epoch 74/100\n",
            "2/2 [==============================] - 0s 11ms/step - loss: 28.1438 - mae: 28.1438\n",
            "Epoch 75/100\n",
            "2/2 [==============================] - 0s 9ms/step - loss: 10.2259 - mae: 10.2259\n",
            "Epoch 76/100\n",
            "2/2 [==============================] - 0s 8ms/step - loss: 13.1776 - mae: 13.1776\n",
            "Epoch 77/100\n",
            "2/2 [==============================] - 0s 8ms/step - loss: 18.4187 - mae: 18.4187\n",
            "Epoch 78/100\n",
            "2/2 [==============================] - 0s 14ms/step - loss: 9.0348 - mae: 9.0348\n",
            "Epoch 79/100\n",
            "2/2 [==============================] - 0s 9ms/step - loss: 23.4600 - mae: 23.4600\n",
            "Epoch 80/100\n",
            "2/2 [==============================] - 0s 11ms/step - loss: 26.1360 - mae: 26.1360\n",
            "Epoch 81/100\n",
            "2/2 [==============================] - 0s 9ms/step - loss: 11.4149 - mae: 11.4149\n",
            "Epoch 82/100\n",
            "2/2 [==============================] - 0s 8ms/step - loss: 12.4953 - mae: 12.4953\n",
            "Epoch 83/100\n",
            "2/2 [==============================] - 0s 9ms/step - loss: 17.1856 - mae: 17.1856\n",
            "Epoch 84/100\n",
            "2/2 [==============================] - 0s 8ms/step - loss: 6.6089 - mae: 6.6089\n",
            "Epoch 85/100\n",
            "2/2 [==============================] - 0s 9ms/step - loss: 20.2976 - mae: 20.2976\n",
            "Epoch 86/100\n",
            "2/2 [==============================] - 0s 8ms/step - loss: 10.1831 - mae: 10.1831\n",
            "Epoch 87/100\n",
            "2/2 [==============================] - 0s 9ms/step - loss: 24.3319 - mae: 24.3319\n",
            "Epoch 88/100\n",
            "2/2 [==============================] - 0s 8ms/step - loss: 18.9965 - mae: 18.9965\n",
            "Epoch 89/100\n",
            "2/2 [==============================] - 0s 8ms/step - loss: 7.1779 - mae: 7.1779\n",
            "Epoch 90/100\n",
            "2/2 [==============================] - 0s 9ms/step - loss: 18.2702 - mae: 18.2702\n",
            "Epoch 91/100\n",
            "2/2 [==============================] - 0s 8ms/step - loss: 13.3238 - mae: 13.3238\n",
            "Epoch 92/100\n",
            "2/2 [==============================] - 0s 9ms/step - loss: 8.7349 - mae: 8.7349\n",
            "Epoch 93/100\n",
            "2/2 [==============================] - 0s 9ms/step - loss: 14.1866 - mae: 14.1866\n",
            "Epoch 94/100\n",
            "2/2 [==============================] - 0s 8ms/step - loss: 17.1872 - mae: 17.1872\n",
            "Epoch 95/100\n",
            "2/2 [==============================] - 0s 9ms/step - loss: 16.7664 - mae: 16.7664\n",
            "Epoch 96/100\n",
            "2/2 [==============================] - 0s 9ms/step - loss: 11.1295 - mae: 11.1295\n",
            "Epoch 97/100\n",
            "2/2 [==============================] - 0s 8ms/step - loss: 21.1848 - mae: 21.1848\n",
            "Epoch 98/100\n",
            "2/2 [==============================] - 0s 8ms/step - loss: 10.5018 - mae: 10.5018\n",
            "Epoch 99/100\n",
            "2/2 [==============================] - 0s 8ms/step - loss: 14.5868 - mae: 14.5868\n",
            "Epoch 100/100\n",
            "2/2 [==============================] - 0s 9ms/step - loss: 17.7507 - mae: 17.7507\n"
          ]
        },
        {
          "output_type": "execute_result",
          "data": {
            "text/plain": [
              "<keras.src.callbacks.History at 0x7845605f1de0>"
            ]
          },
          "metadata": {},
          "execution_count": 54
        }
      ]
    },
    {
      "cell_type": "code",
      "source": [
        "# Make and plot predictions for model_2\n",
        "y_preds_2 = model_2.predict(X_test)\n",
        "plot_predictions(predictions=y_preds_2)"
      ],
      "metadata": {
        "colab": {
          "base_uri": "https://localhost:8080/",
          "height": 617
        },
        "id": "_nw7Tw3OS78z",
        "outputId": "78225f77-0f98-4bed-e9c2-a625c4bb7830"
      },
      "execution_count": null,
      "outputs": [
        {
          "output_type": "stream",
          "name": "stdout",
          "text": [
            "1/1 [==============================] - 0s 57ms/step\n"
          ]
        },
        {
          "output_type": "display_data",
          "data": {
            "text/plain": [
              "<Figure size 1000x700 with 1 Axes>"
            ],
            "image/png": "[encoded data removed]"
          },
          "metadata": {}
        }
      ]
    },
    {
      "cell_type": "code",
      "source": [
        "# Calculate model_2 evaluation metrics\n",
        "mae_2 = mae(y_test, y_preds_2)\n",
        "mse_2 = mse(y_test, y_preds_2)"
      ],
      "metadata": {
        "id": "ZN4W-8N6TNNC"
      },
      "execution_count": null,
      "outputs": []
    },
    {
      "cell_type": "code",
      "source": [
        "mae_2, mse_2"
      ],
      "metadata": {
        "colab": {
          "base_uri": "https://localhost:8080/"
        },
        "id": "twuprqDfTitv",
        "outputId": "5293bcf8-3c4c-4e02-bbdd-c2b35abbc7c8"
      },
      "execution_count": null,
      "outputs": [
        {
          "output_type": "execute_result",
          "data": {
            "text/plain": [
              "(<tf.Tensor: shape=(), dtype=float32, numpy=1.97491>,\n",
              " <tf.Tensor: shape=(), dtype=float32, numpy=5.790709>)"
            ]
          },
          "metadata": {},
          "execution_count": 57
        }
      ]
    },
    {
      "cell_type": "markdown",
      "source": [
        "**Build `model_3`**\n",
        "\n",
        "- 2 layers, trained for 500 epochs"
      ],
      "metadata": {
        "id": "L2j7uHJFTj6M"
      }
    },
    {
      "cell_type": "code",
      "source": [
        "# 1. Create the model\n",
        "model_3 = tf.keras.Sequential([\n",
        "    tf.keras.layers.Dense(10),\n",
        "    tf.keras.layers.Dense(1)\n",
        "])\n",
        "\n",
        "# 2. Compile the model\n",
        "model_3.compile(loss=\"mae\",\n",
        "                optimizer=tf.keras.optimizers.SGD(),\n",
        "                metrics=[\"mae\"])\n",
        "\n",
        "# 3. Fit the model\n",
        "model_3.fit(tf.expand_dims(X_train, axis=-1), y_train, epochs=500)"
      ],
      "metadata": {
        "id": "_JICn-2XWN-w",
        "colab": {
          "base_uri": "https://localhost:8080/"
        },
        "outputId": "09445cc8-e1fe-409f-b92e-8895b23cfe04"
      },
      "execution_count": null,
      "outputs": [
        {
          "output_type": "stream",
          "name": "stdout",
          "text": [
            "Epoch 1/500\n",
            "2/2 [==============================] - 0s 9ms/step - loss: 24.7233 - mae: 24.7233\n",
            "Epoch 2/500\n",
            "2/2 [==============================] - 0s 9ms/step - loss: 13.4302 - mae: 13.4302\n",
            "Epoch 3/500\n",
            "2/2 [==============================] - 0s 9ms/step - loss: 31.0995 - mae: 31.0995\n",
            "Epoch 4/500\n",
            "2/2 [==============================] - 0s 8ms/step - loss: 13.4880 - mae: 13.4880\n",
            "Epoch 5/500\n",
            "2/2 [==============================] - 0s 9ms/step - loss: 18.2440 - mae: 18.2440\n",
            "Epoch 6/500\n",
            "2/2 [==============================] - 0s 8ms/step - loss: 8.5908 - mae: 8.5908\n",
            "Epoch 7/500\n",
            "2/2 [==============================] - 0s 11ms/step - loss: 12.4612 - mae: 12.4612\n",
            "Epoch 8/500\n",
            "2/2 [==============================] - 0s 9ms/step - loss: 11.0153 - mae: 11.0153\n",
            "Epoch 9/500\n",
            "2/2 [==============================] - 0s 8ms/step - loss: 39.4358 - mae: 39.4358\n",
            "Epoch 10/500\n",
            "2/2 [==============================] - 0s 9ms/step - loss: 26.9679 - mae: 26.9679\n",
            "Epoch 11/500\n",
            "2/2 [==============================] - 0s 8ms/step - loss: 11.0303 - mae: 11.0303\n",
            "Epoch 12/500\n",
            "2/2 [==============================] - 0s 10ms/step - loss: 24.5297 - mae: 24.5297\n",
            "Epoch 13/500\n",
            "2/2 [==============================] - 0s 7ms/step - loss: 19.1798 - mae: 19.1798\n",
            "Epoch 14/500\n",
            "2/2 [==============================] - 0s 9ms/step - loss: 23.3845 - mae: 23.3845\n",
            "Epoch 15/500\n",
            "2/2 [==============================] - 0s 8ms/step - loss: 15.1988 - mae: 15.1988\n",
            "Epoch 16/500\n",
            "2/2 [==============================] - 0s 7ms/step - loss: 11.3194 - mae: 11.3194\n",
            "Epoch 17/500\n",
            "2/2 [==============================] - 0s 8ms/step - loss: 23.1328 - mae: 23.1328\n",
            "Epoch 18/500\n",
            "2/2 [==============================] - 0s 10ms/step - loss: 11.7464 - mae: 11.7464\n",
            "Epoch 19/500\n",
            "2/2 [==============================] - 0s 10ms/step - loss: 16.4403 - mae: 16.4403\n",
            "Epoch 20/500\n",
            "2/2 [==============================] - 0s 8ms/step - loss: 8.2248 - mae: 8.2248\n",
            "Epoch 21/500\n",
            "2/2 [==============================] - 0s 8ms/step - loss: 14.4192 - mae: 14.4192\n",
            "Epoch 22/500\n",
            "2/2 [==============================] - 0s 8ms/step - loss: 12.8377 - mae: 12.8377\n",
            "Epoch 23/500\n",
            "2/2 [==============================] - 0s 9ms/step - loss: 15.4658 - mae: 15.4658\n",
            "Epoch 24/500\n",
            "2/2 [==============================] - 0s 9ms/step - loss: 15.2560 - mae: 15.2560\n",
            "Epoch 25/500\n",
            "2/2 [==============================] - 0s 8ms/step - loss: 14.3241 - mae: 14.3241\n",
            "Epoch 26/500\n",
            "2/2 [==============================] - 0s 10ms/step - loss: 19.3282 - mae: 19.3282\n",
            "Epoch 27/500\n",
            "2/2 [==============================] - 0s 8ms/step - loss: 11.4388 - mae: 11.4388\n",
            "Epoch 28/500\n",
            "2/2 [==============================] - 0s 9ms/step - loss: 29.1500 - mae: 29.1500\n",
            "Epoch 29/500\n",
            "2/2 [==============================] - 0s 10ms/step - loss: 9.2327 - mae: 9.2327\n",
            "Epoch 30/500\n",
            "2/2 [==============================] - 0s 8ms/step - loss: 29.8839 - mae: 29.8839\n",
            "Epoch 31/500\n",
            "2/2 [==============================] - 0s 10ms/step - loss: 54.2296 - mae: 54.2296\n",
            "Epoch 32/500\n",
            "2/2 [==============================] - 0s 9ms/step - loss: 9.5621 - mae: 9.5621\n",
            "Epoch 33/500\n",
            "2/2 [==============================] - 0s 13ms/step - loss: 12.1570 - mae: 12.1570\n",
            "Epoch 34/500\n",
            "2/2 [==============================] - 0s 12ms/step - loss: 23.9692 - mae: 23.9692\n",
            "Epoch 35/500\n",
            "2/2 [==============================] - 0s 8ms/step - loss: 12.5971 - mae: 12.5971\n",
            "Epoch 36/500\n",
            "2/2 [==============================] - 0s 9ms/step - loss: 21.5000 - mae: 21.5000\n",
            "Epoch 37/500\n",
            "2/2 [==============================] - 0s 9ms/step - loss: 11.3826 - mae: 11.3826\n",
            "Epoch 38/500\n",
            "2/2 [==============================] - 0s 8ms/step - loss: 13.4922 - mae: 13.4922\n",
            "Epoch 39/500\n",
            "2/2 [==============================] - 0s 9ms/step - loss: 10.7931 - mae: 10.7931\n",
            "Epoch 40/500\n",
            "2/2 [==============================] - 0s 8ms/step - loss: 16.6641 - mae: 16.6641\n",
            "Epoch 41/500\n",
            "2/2 [==============================] - 0s 8ms/step - loss: 10.9922 - mae: 10.9922\n",
            "Epoch 42/500\n",
            "2/2 [==============================] - 0s 8ms/step - loss: 9.3144 - mae: 9.3144\n",
            "Epoch 43/500\n",
            "2/2 [==============================] - 0s 8ms/step - loss: 9.5858 - mae: 9.5858\n",
            "Epoch 44/500\n",
            "2/2 [==============================] - 0s 8ms/step - loss: 28.1525 - mae: 28.1525\n",
            "Epoch 45/500\n",
            "2/2 [==============================] - 0s 10ms/step - loss: 11.3085 - mae: 11.3085\n",
            "Epoch 46/500\n",
            "2/2 [==============================] - 0s 9ms/step - loss: 14.1668 - mae: 14.1668\n",
            "Epoch 47/500\n",
            "2/2 [==============================] - 0s 9ms/step - loss: 13.4550 - mae: 13.4550\n",
            "Epoch 48/500\n",
            "2/2 [==============================] - 0s 10ms/step - loss: 17.2682 - mae: 17.2682\n",
            "Epoch 49/500\n",
            "2/2 [==============================] - 0s 7ms/step - loss: 9.5412 - mae: 9.5412\n",
            "Epoch 50/500\n",
            "2/2 [==============================] - 0s 8ms/step - loss: 13.7680 - mae: 13.7680\n",
            "Epoch 51/500\n",
            "2/2 [==============================] - 0s 8ms/step - loss: 11.5728 - mae: 11.5728\n",
            "Epoch 52/500\n",
            "2/2 [==============================] - 0s 15ms/step - loss: 30.4571 - mae: 30.4571\n",
            "Epoch 53/500\n",
            "2/2 [==============================] - 0s 8ms/step - loss: 14.3081 - mae: 14.3081\n",
            "Epoch 54/500\n",
            "2/2 [==============================] - 0s 9ms/step - loss: 23.8961 - mae: 23.8961\n",
            "Epoch 55/500\n",
            "2/2 [==============================] - 0s 8ms/step - loss: 23.1108 - mae: 23.1108\n",
            "Epoch 56/500\n",
            "2/2 [==============================] - 0s 8ms/step - loss: 10.8514 - mae: 10.8514\n",
            "Epoch 57/500\n",
            "2/2 [==============================] - 0s 8ms/step - loss: 12.7057 - mae: 12.7057\n",
            "Epoch 58/500\n",
            "2/2 [==============================] - 0s 7ms/step - loss: 9.5766 - mae: 9.5766\n",
            "Epoch 59/500\n",
            "2/2 [==============================] - 0s 8ms/step - loss: 12.4862 - mae: 12.4862\n",
            "Epoch 60/500\n",
            "2/2 [==============================] - 0s 9ms/step - loss: 11.8961 - mae: 11.8961\n",
            "Epoch 61/500\n",
            "2/2 [==============================] - 0s 8ms/step - loss: 16.9953 - mae: 16.9953\n",
            "Epoch 62/500\n",
            "2/2 [==============================] - 0s 8ms/step - loss: 10.3963 - mae: 10.3963\n",
            "Epoch 63/500\n",
            "2/2 [==============================] - 0s 9ms/step - loss: 10.3479 - mae: 10.3479\n",
            "Epoch 64/500\n",
            "2/2 [==============================] - 0s 8ms/step - loss: 24.2425 - mae: 24.2425\n",
            "Epoch 65/500\n",
            "2/2 [==============================] - 0s 8ms/step - loss: 10.5297 - mae: 10.5297\n",
            "Epoch 66/500\n",
            "2/2 [==============================] - 0s 8ms/step - loss: 21.2539 - mae: 21.2539\n",
            "Epoch 67/500\n",
            "2/2 [==============================] - 0s 9ms/step - loss: 10.5324 - mae: 10.5324\n",
            "Epoch 68/500\n",
            "2/2 [==============================] - 0s 8ms/step - loss: 14.7013 - mae: 14.7013\n",
            "Epoch 69/500\n",
            "2/2 [==============================] - 0s 9ms/step - loss: 10.6703 - mae: 10.6703\n",
            "Epoch 70/500\n",
            "2/2 [==============================] - 0s 8ms/step - loss: 12.7635 - mae: 12.7635\n",
            "Epoch 71/500\n",
            "2/2 [==============================] - 0s 8ms/step - loss: 13.1936 - mae: 13.1936\n",
            "Epoch 72/500\n",
            "2/2 [==============================] - 0s 9ms/step - loss: 19.7898 - mae: 19.7898\n",
            "Epoch 73/500\n",
            "2/2 [==============================] - 0s 8ms/step - loss: 11.2346 - mae: 11.2346\n",
            "Epoch 74/500\n",
            "2/2 [==============================] - 0s 8ms/step - loss: 22.1075 - mae: 22.1075\n",
            "Epoch 75/500\n",
            "2/2 [==============================] - 0s 8ms/step - loss: 6.9282 - mae: 6.9282\n",
            "Epoch 76/500\n",
            "2/2 [==============================] - 0s 12ms/step - loss: 11.4212 - mae: 11.4212\n",
            "Epoch 77/500\n",
            "2/2 [==============================] - 0s 9ms/step - loss: 21.5700 - mae: 21.5700\n",
            "Epoch 78/500\n",
            "2/2 [==============================] - 0s 10ms/step - loss: 18.6218 - mae: 18.6218\n",
            "Epoch 79/500\n",
            "2/2 [==============================] - 0s 12ms/step - loss: 15.9388 - mae: 15.9388\n",
            "Epoch 80/500\n",
            "2/2 [==============================] - 0s 12ms/step - loss: 23.5721 - mae: 23.5721\n",
            "Epoch 81/500\n",
            "2/2 [==============================] - 0s 11ms/step - loss: 10.9601 - mae: 10.9601\n",
            "Epoch 82/500\n",
            "2/2 [==============================] - 0s 7ms/step - loss: 12.7206 - mae: 12.7206\n",
            "Epoch 83/500\n",
            "2/2 [==============================] - 0s 7ms/step - loss: 17.4821 - mae: 17.4821\n",
            "Epoch 84/500\n",
            "2/2 [==============================] - 0s 8ms/step - loss: 7.2804 - mae: 7.2804\n",
            "Epoch 85/500\n",
            "2/2 [==============================] - 0s 7ms/step - loss: 15.0108 - mae: 15.0108\n",
            "Epoch 86/500\n",
            "2/2 [==============================] - 0s 8ms/step - loss: 15.3231 - mae: 15.3231\n",
            "Epoch 87/500\n",
            "2/2 [==============================] - 0s 9ms/step - loss: 19.1792 - mae: 19.1792\n",
            "Epoch 88/500\n",
            "2/2 [==============================] - 0s 11ms/step - loss: 29.6385 - mae: 29.6385\n",
            "Epoch 89/500\n",
            "2/2 [==============================] - 0s 7ms/step - loss: 10.1538 - mae: 10.1538\n",
            "Epoch 90/500\n",
            "2/2 [==============================] - 0s 9ms/step - loss: 21.3741 - mae: 21.3741\n",
            "Epoch 91/500\n",
            "2/2 [==============================] - 0s 7ms/step - loss: 10.5418 - mae: 10.5418\n",
            "Epoch 92/500\n",
            "2/2 [==============================] - 0s 10ms/step - loss: 18.2648 - mae: 18.2648\n",
            "Epoch 93/500\n",
            "2/2 [==============================] - 0s 9ms/step - loss: 6.8153 - mae: 6.8153\n",
            "Epoch 94/500\n",
            "2/2 [==============================] - 0s 9ms/step - loss: 13.0406 - mae: 13.0406\n",
            "Epoch 95/500\n",
            "2/2 [==============================] - 0s 7ms/step - loss: 18.4594 - mae: 18.4594\n",
            "Epoch 96/500\n",
            "2/2 [==============================] - 0s 10ms/step - loss: 10.3689 - mae: 10.3689\n",
            "Epoch 97/500\n",
            "2/2 [==============================] - 0s 8ms/step - loss: 14.4669 - mae: 14.4669\n",
            "Epoch 98/500\n",
            "2/2 [==============================] - 0s 9ms/step - loss: 6.5757 - mae: 6.5757\n",
            "Epoch 99/500\n",
            "2/2 [==============================] - 0s 9ms/step - loss: 12.5837 - mae: 12.5837\n",
            "Epoch 100/500\n",
            "2/2 [==============================] - 0s 8ms/step - loss: 19.3842 - mae: 19.3842\n",
            "Epoch 101/500\n",
            "2/2 [==============================] - 0s 9ms/step - loss: 16.1090 - mae: 16.1090\n",
            "Epoch 102/500\n",
            "2/2 [==============================] - 0s 8ms/step - loss: 11.2052 - mae: 11.2052\n",
            "Epoch 103/500\n",
            "2/2 [==============================] - 0s 8ms/step - loss: 9.3254 - mae: 9.3254\n",
            "Epoch 104/500\n",
            "2/2 [==============================] - 0s 8ms/step - loss: 25.0228 - mae: 25.0228\n",
            "Epoch 105/500\n",
            "2/2 [==============================] - 0s 8ms/step - loss: 12.0085 - mae: 12.0085\n",
            "Epoch 106/500\n",
            "2/2 [==============================] - 0s 9ms/step - loss: 10.0914 - mae: 10.0914\n",
            "Epoch 107/500\n",
            "2/2 [==============================] - 0s 8ms/step - loss: 22.5928 - mae: 22.5928\n",
            "Epoch 108/500\n",
            "2/2 [==============================] - 0s 8ms/step - loss: 8.1371 - mae: 8.1371\n",
            "Epoch 109/500\n",
            "2/2 [==============================] - 0s 7ms/step - loss: 13.3797 - mae: 13.3797\n",
            "Epoch 110/500\n",
            "2/2 [==============================] - 0s 7ms/step - loss: 7.9722 - mae: 7.9722\n",
            "Epoch 111/500\n",
            "2/2 [==============================] - 0s 7ms/step - loss: 15.7239 - mae: 15.7239\n",
            "Epoch 112/500\n",
            "2/2 [==============================] - 0s 8ms/step - loss: 8.7580 - mae: 8.7580\n",
            "Epoch 113/500\n",
            "2/2 [==============================] - 0s 8ms/step - loss: 22.7509 - mae: 22.7509\n",
            "Epoch 114/500\n",
            "2/2 [==============================] - 0s 8ms/step - loss: 19.0930 - mae: 19.0930\n",
            "Epoch 115/500\n",
            "2/2 [==============================] - 0s 7ms/step - loss: 11.1086 - mae: 11.1086\n",
            "Epoch 116/500\n",
            "2/2 [==============================] - 0s 8ms/step - loss: 23.2072 - mae: 23.2072\n",
            "Epoch 117/500\n",
            "2/2 [==============================] - 0s 8ms/step - loss: 9.5974 - mae: 9.5974\n",
            "Epoch 118/500\n",
            "2/2 [==============================] - 0s 8ms/step - loss: 10.6654 - mae: 10.6654\n",
            "Epoch 119/500\n",
            "2/2 [==============================] - 0s 8ms/step - loss: 8.0458 - mae: 8.0458\n",
            "Epoch 120/500\n",
            "2/2 [==============================] - 0s 8ms/step - loss: 29.5406 - mae: 29.5406\n",
            "Epoch 121/500\n",
            "2/2 [==============================] - 0s 8ms/step - loss: 8.0816 - mae: 8.0816\n",
            "Epoch 122/500\n",
            "2/2 [==============================] - 0s 8ms/step - loss: 28.1842 - mae: 28.1842\n",
            "Epoch 123/500\n",
            "2/2 [==============================] - 0s 8ms/step - loss: 32.7469 - mae: 32.7469\n",
            "Epoch 124/500\n",
            "2/2 [==============================] - 0s 8ms/step - loss: 19.5173 - mae: 19.5173\n",
            "Epoch 125/500\n",
            "2/2 [==============================] - 0s 7ms/step - loss: 6.3911 - mae: 6.3911\n",
            "Epoch 126/500\n",
            "2/2 [==============================] - 0s 7ms/step - loss: 26.8099 - mae: 26.8099\n",
            "Epoch 127/500\n",
            "2/2 [==============================] - 0s 8ms/step - loss: 8.5838 - mae: 8.5838\n",
            "Epoch 128/500\n",
            "2/2 [==============================] - 0s 8ms/step - loss: 13.8358 - mae: 13.8358\n",
            "Epoch 129/500\n",
            "2/2 [==============================] - 0s 7ms/step - loss: 11.3066 - mae: 11.3066\n",
            "Epoch 130/500\n",
            "2/2 [==============================] - 0s 7ms/step - loss: 11.5227 - mae: 11.5227\n",
            "Epoch 131/500\n",
            "2/2 [==============================] - 0s 8ms/step - loss: 20.6742 - mae: 20.6742\n",
            "Epoch 132/500\n",
            "2/2 [==============================] - 0s 9ms/step - loss: 8.0180 - mae: 8.0180\n",
            "Epoch 133/500\n",
            "2/2 [==============================] - 0s 8ms/step - loss: 8.8329 - mae: 8.8329\n",
            "Epoch 134/500\n",
            "2/2 [==============================] - 0s 9ms/step - loss: 21.5199 - mae: 21.5199\n",
            "Epoch 135/500\n",
            "2/2 [==============================] - 0s 8ms/step - loss: 10.9021 - mae: 10.9021\n",
            "Epoch 136/500\n",
            "2/2 [==============================] - 0s 8ms/step - loss: 19.4030 - mae: 19.4030\n",
            "Epoch 137/500\n",
            "2/2 [==============================] - 0s 8ms/step - loss: 22.6140 - mae: 22.6140\n",
            "Epoch 138/500\n",
            "2/2 [==============================] - 0s 8ms/step - loss: 8.9285 - mae: 8.9285\n",
            "Epoch 139/500\n",
            "2/2 [==============================] - 0s 8ms/step - loss: 7.1106 - mae: 7.1106\n",
            "Epoch 140/500\n",
            "2/2 [==============================] - 0s 8ms/step - loss: 21.3070 - mae: 21.3070\n",
            "Epoch 141/500\n",
            "2/2 [==============================] - 0s 8ms/step - loss: 8.4475 - mae: 8.4475\n",
            "Epoch 142/500\n",
            "2/2 [==============================] - 0s 8ms/step - loss: 37.4844 - mae: 37.4844\n",
            "Epoch 143/500\n",
            "2/2 [==============================] - 0s 7ms/step - loss: 26.0225 - mae: 26.0225\n",
            "Epoch 144/500\n",
            "2/2 [==============================] - 0s 7ms/step - loss: 9.5323 - mae: 9.5323\n",
            "Epoch 145/500\n",
            "2/2 [==============================] - 0s 7ms/step - loss: 26.4873 - mae: 26.4873\n",
            "Epoch 146/500\n",
            "2/2 [==============================] - 0s 7ms/step - loss: 8.9150 - mae: 8.9150\n",
            "Epoch 147/500\n",
            "2/2 [==============================] - 0s 10ms/step - loss: 15.5205 - mae: 15.5205\n",
            "Epoch 148/500\n",
            "2/2 [==============================] - 0s 7ms/step - loss: 18.1682 - mae: 18.1682\n",
            "Epoch 149/500\n",
            "2/2 [==============================] - 0s 10ms/step - loss: 8.3306 - mae: 8.3306\n",
            "Epoch 150/500\n",
            "2/2 [==============================] - 0s 9ms/step - loss: 7.5523 - mae: 7.5523\n",
            "Epoch 151/500\n",
            "2/2 [==============================] - 0s 11ms/step - loss: 18.6431 - mae: 18.6431\n",
            "Epoch 152/500\n",
            "2/2 [==============================] - 0s 15ms/step - loss: 10.3782 - mae: 10.3782\n",
            "Epoch 153/500\n",
            "2/2 [==============================] - 0s 11ms/step - loss: 30.1061 - mae: 30.1061\n",
            "Epoch 154/500\n",
            "2/2 [==============================] - 0s 10ms/step - loss: 10.4744 - mae: 10.4744\n",
            "Epoch 155/500\n",
            "2/2 [==============================] - 0s 11ms/step - loss: 15.3782 - mae: 15.3782\n",
            "Epoch 156/500\n",
            "2/2 [==============================] - 0s 8ms/step - loss: 16.8421 - mae: 16.8421\n",
            "Epoch 157/500\n",
            "2/2 [==============================] - 0s 7ms/step - loss: 33.2883 - mae: 33.2883\n",
            "Epoch 158/500\n",
            "2/2 [==============================] - 0s 7ms/step - loss: 10.8560 - mae: 10.8560\n",
            "Epoch 159/500\n",
            "2/2 [==============================] - 0s 10ms/step - loss: 8.9799 - mae: 8.9799\n",
            "Epoch 160/500\n",
            "2/2 [==============================] - 0s 8ms/step - loss: 19.0938 - mae: 19.0938\n",
            "Epoch 161/500\n",
            "2/2 [==============================] - 0s 10ms/step - loss: 10.1585 - mae: 10.1585\n",
            "Epoch 162/500\n",
            "2/2 [==============================] - 0s 8ms/step - loss: 23.4573 - mae: 23.4573\n",
            "Epoch 163/500\n",
            "2/2 [==============================] - 0s 8ms/step - loss: 21.0435 - mae: 21.0435\n",
            "Epoch 164/500\n",
            "2/2 [==============================] - 0s 8ms/step - loss: 13.0519 - mae: 13.0519\n",
            "Epoch 165/500\n",
            "2/2 [==============================] - 0s 9ms/step - loss: 12.6143 - mae: 12.6143\n",
            "Epoch 166/500\n",
            "2/2 [==============================] - 0s 9ms/step - loss: 18.6714 - mae: 18.6714\n",
            "Epoch 167/500\n",
            "2/2 [==============================] - 0s 8ms/step - loss: 27.3720 - mae: 27.3720\n",
            "Epoch 168/500\n",
            "2/2 [==============================] - 0s 10ms/step - loss: 10.0704 - mae: 10.0704\n",
            "Epoch 169/500\n",
            "2/2 [==============================] - 0s 9ms/step - loss: 23.6384 - mae: 23.6384\n",
            "Epoch 170/500\n",
            "2/2 [==============================] - 0s 10ms/step - loss: 9.4955 - mae: 9.4955\n",
            "Epoch 171/500\n",
            "2/2 [==============================] - 0s 15ms/step - loss: 18.4754 - mae: 18.4754\n",
            "Epoch 172/500\n",
            "2/2 [==============================] - 0s 8ms/step - loss: 27.8041 - mae: 27.8041\n",
            "Epoch 173/500\n",
            "2/2 [==============================] - 0s 8ms/step - loss: 15.5683 - mae: 15.5683\n",
            "Epoch 174/500\n",
            "2/2 [==============================] - 0s 9ms/step - loss: 10.5129 - mae: 10.5129\n",
            "Epoch 175/500\n",
            "2/2 [==============================] - 0s 9ms/step - loss: 27.6667 - mae: 27.6667\n",
            "Epoch 176/500\n",
            "2/2 [==============================] - 0s 8ms/step - loss: 8.1702 - mae: 8.1702\n",
            "Epoch 177/500\n",
            "2/2 [==============================] - 0s 8ms/step - loss: 9.1821 - mae: 9.1821\n",
            "Epoch 178/500\n",
            "2/2 [==============================] - 0s 8ms/step - loss: 17.8850 - mae: 17.8850\n",
            "Epoch 179/500\n",
            "2/2 [==============================] - 0s 8ms/step - loss: 10.7133 - mae: 10.7133\n",
            "Epoch 180/500\n",
            "2/2 [==============================] - 0s 10ms/step - loss: 7.8476 - mae: 7.8476\n",
            "Epoch 181/500\n",
            "2/2 [==============================] - 0s 10ms/step - loss: 17.1897 - mae: 17.1897\n",
            "Epoch 182/500\n",
            "2/2 [==============================] - 0s 11ms/step - loss: 10.9060 - mae: 10.9060\n",
            "Epoch 183/500\n",
            "2/2 [==============================] - 0s 11ms/step - loss: 11.6021 - mae: 11.6021\n",
            "Epoch 184/500\n",
            "2/2 [==============================] - 0s 11ms/step - loss: 30.0884 - mae: 30.0884\n",
            "Epoch 185/500\n",
            "2/2 [==============================] - 0s 10ms/step - loss: 8.1865 - mae: 8.1865\n",
            "Epoch 186/500\n",
            "2/2 [==============================] - 0s 10ms/step - loss: 18.7237 - mae: 18.7237\n",
            "Epoch 187/500\n",
            "2/2 [==============================] - 0s 10ms/step - loss: 8.7678 - mae: 8.7678\n",
            "Epoch 188/500\n",
            "2/2 [==============================] - 0s 12ms/step - loss: 23.7011 - mae: 23.7011\n",
            "Epoch 189/500\n",
            "2/2 [==============================] - 0s 7ms/step - loss: 9.3534 - mae: 9.3534\n",
            "Epoch 190/500\n",
            "2/2 [==============================] - 0s 9ms/step - loss: 17.0899 - mae: 17.0899\n",
            "Epoch 191/500\n",
            "2/2 [==============================] - 0s 9ms/step - loss: 8.5809 - mae: 8.5809\n",
            "Epoch 192/500\n",
            "2/2 [==============================] - 0s 8ms/step - loss: 15.1661 - mae: 15.1661\n",
            "Epoch 193/500\n",
            "2/2 [==============================] - 0s 9ms/step - loss: 30.0145 - mae: 30.0145\n",
            "Epoch 194/500\n",
            "2/2 [==============================] - 0s 10ms/step - loss: 9.6141 - mae: 9.6141\n",
            "Epoch 195/500\n",
            "2/2 [==============================] - 0s 10ms/step - loss: 11.9967 - mae: 11.9967\n",
            "Epoch 196/500\n",
            "2/2 [==============================] - 0s 9ms/step - loss: 23.3595 - mae: 23.3595\n",
            "Epoch 197/500\n",
            "2/2 [==============================] - 0s 9ms/step - loss: 18.1185 - mae: 18.1185\n",
            "Epoch 198/500\n",
            "2/2 [==============================] - 0s 10ms/step - loss: 10.8024 - mae: 10.8024\n",
            "Epoch 199/500\n",
            "2/2 [==============================] - 0s 10ms/step - loss: 22.4161 - mae: 22.4161\n",
            "Epoch 200/500\n",
            "2/2 [==============================] - 0s 11ms/step - loss: 17.0671 - mae: 17.0671\n",
            "Epoch 201/500\n",
            "2/2 [==============================] - 0s 8ms/step - loss: 7.3669 - mae: 7.3669\n",
            "Epoch 202/500\n",
            "2/2 [==============================] - 0s 11ms/step - loss: 26.0910 - mae: 26.0910\n",
            "Epoch 203/500\n",
            "2/2 [==============================] - 0s 9ms/step - loss: 13.3685 - mae: 13.3685\n",
            "Epoch 204/500\n",
            "2/2 [==============================] - 0s 9ms/step - loss: 18.4516 - mae: 18.4516\n",
            "Epoch 205/500\n",
            "2/2 [==============================] - 0s 10ms/step - loss: 9.2210 - mae: 9.2210\n",
            "Epoch 206/500\n",
            "2/2 [==============================] - 0s 9ms/step - loss: 10.3135 - mae: 10.3135\n",
            "Epoch 207/500\n",
            "2/2 [==============================] - 0s 10ms/step - loss: 20.7248 - mae: 20.7248\n",
            "Epoch 208/500\n",
            "2/2 [==============================] - 0s 13ms/step - loss: 16.1935 - mae: 16.1935\n",
            "Epoch 209/500\n",
            "2/2 [==============================] - 0s 7ms/step - loss: 14.1119 - mae: 14.1119\n",
            "Epoch 210/500\n",
            "2/2 [==============================] - 0s 7ms/step - loss: 19.0118 - mae: 19.0118\n",
            "Epoch 211/500\n",
            "2/2 [==============================] - 0s 9ms/step - loss: 10.2011 - mae: 10.2011\n",
            "Epoch 212/500\n",
            "2/2 [==============================] - 0s 7ms/step - loss: 19.6427 - mae: 19.6427\n",
            "Epoch 213/500\n",
            "2/2 [==============================] - 0s 8ms/step - loss: 14.6883 - mae: 14.6883\n",
            "Epoch 214/500\n",
            "2/2 [==============================] - 0s 8ms/step - loss: 14.3627 - mae: 14.3627\n",
            "Epoch 215/500\n",
            "2/2 [==============================] - 0s 8ms/step - loss: 22.8402 - mae: 22.8402\n",
            "Epoch 216/500\n",
            "2/2 [==============================] - 0s 8ms/step - loss: 14.4396 - mae: 14.4396\n",
            "Epoch 217/500\n",
            "2/2 [==============================] - 0s 7ms/step - loss: 9.1746 - mae: 9.1746\n",
            "Epoch 218/500\n",
            "2/2 [==============================] - 0s 8ms/step - loss: 11.8706 - mae: 11.8706\n",
            "Epoch 219/500\n",
            "2/2 [==============================] - 0s 8ms/step - loss: 6.7826 - mae: 6.7826\n",
            "Epoch 220/500\n",
            "2/2 [==============================] - 0s 10ms/step - loss: 7.0976 - mae: 7.0976\n",
            "Epoch 221/500\n",
            "2/2 [==============================] - 0s 8ms/step - loss: 38.5648 - mae: 38.5648\n",
            "Epoch 222/500\n",
            "2/2 [==============================] - 0s 8ms/step - loss: 38.6133 - mae: 38.6133\n",
            "Epoch 223/500\n",
            "2/2 [==============================] - 0s 8ms/step - loss: 5.0635 - mae: 5.0635\n",
            "Epoch 224/500\n",
            "2/2 [==============================] - 0s 8ms/step - loss: 11.2458 - mae: 11.2458\n",
            "Epoch 225/500\n",
            "2/2 [==============================] - 0s 30ms/step - loss: 31.1002 - mae: 31.1002\n",
            "Epoch 226/500\n",
            "2/2 [==============================] - 0s 15ms/step - loss: 12.2722 - mae: 12.2722\n",
            "Epoch 227/500\n",
            "2/2 [==============================] - 0s 15ms/step - loss: 19.2387 - mae: 19.2387\n",
            "Epoch 228/500\n",
            "2/2 [==============================] - 0s 11ms/step - loss: 11.2645 - mae: 11.2645\n",
            "Epoch 229/500\n",
            "2/2 [==============================] - 0s 9ms/step - loss: 13.7235 - mae: 13.7235\n",
            "Epoch 230/500\n",
            "2/2 [==============================] - 0s 16ms/step - loss: 9.5768 - mae: 9.5768\n",
            "Epoch 231/500\n",
            "2/2 [==============================] - 0s 17ms/step - loss: 19.2239 - mae: 19.2239\n",
            "Epoch 232/500\n",
            "2/2 [==============================] - 0s 12ms/step - loss: 15.8467 - mae: 15.8467\n",
            "Epoch 233/500\n",
            "2/2 [==============================] - 0s 17ms/step - loss: 11.3164 - mae: 11.3164\n",
            "Epoch 234/500\n",
            "2/2 [==============================] - 0s 20ms/step - loss: 11.5647 - mae: 11.5647\n",
            "Epoch 235/500\n",
            "2/2 [==============================] - 0s 15ms/step - loss: 8.5866 - mae: 8.5866\n",
            "Epoch 236/500\n",
            "2/2 [==============================] - 0s 17ms/step - loss: 10.1081 - mae: 10.1081\n",
            "Epoch 237/500\n",
            "2/2 [==============================] - 0s 11ms/step - loss: 7.9503 - mae: 7.9503\n",
            "Epoch 238/500\n",
            "2/2 [==============================] - 0s 22ms/step - loss: 7.4155 - mae: 7.4155\n",
            "Epoch 239/500\n",
            "2/2 [==============================] - 0s 15ms/step - loss: 14.1486 - mae: 14.1486\n",
            "Epoch 240/500\n",
            "2/2 [==============================] - 0s 13ms/step - loss: 9.1955 - mae: 9.1955\n",
            "Epoch 241/500\n",
            "2/2 [==============================] - 0s 19ms/step - loss: 13.7363 - mae: 13.7363\n",
            "Epoch 242/500\n",
            "2/2 [==============================] - 0s 17ms/step - loss: 9.0403 - mae: 9.0403\n",
            "Epoch 243/500\n",
            "2/2 [==============================] - 0s 20ms/step - loss: 19.7936 - mae: 19.7936\n",
            "Epoch 244/500\n",
            "2/2 [==============================] - 0s 15ms/step - loss: 14.3250 - mae: 14.3250\n",
            "Epoch 245/500\n",
            "2/2 [==============================] - 0s 13ms/step - loss: 14.9200 - mae: 14.9200\n",
            "Epoch 246/500\n",
            "2/2 [==============================] - 0s 17ms/step - loss: 16.0276 - mae: 16.0276\n",
            "Epoch 247/500\n",
            "2/2 [==============================] - 0s 18ms/step - loss: 17.9743 - mae: 17.9743\n",
            "Epoch 248/500\n",
            "2/2 [==============================] - 0s 26ms/step - loss: 13.5135 - mae: 13.5135\n",
            "Epoch 249/500\n",
            "2/2 [==============================] - 0s 15ms/step - loss: 14.6804 - mae: 14.6804\n",
            "Epoch 250/500\n",
            "2/2 [==============================] - 0s 15ms/step - loss: 23.5564 - mae: 23.5564\n",
            "Epoch 251/500\n",
            "2/2 [==============================] - 0s 13ms/step - loss: 13.9228 - mae: 13.9228\n",
            "Epoch 252/500\n",
            "2/2 [==============================] - 0s 15ms/step - loss: 23.1703 - mae: 23.1703\n",
            "Epoch 253/500\n",
            "2/2 [==============================] - 0s 13ms/step - loss: 10.4878 - mae: 10.4878\n",
            "Epoch 254/500\n",
            "2/2 [==============================] - 0s 12ms/step - loss: 12.8251 - mae: 12.8251\n",
            "Epoch 255/500\n",
            "2/2 [==============================] - 0s 13ms/step - loss: 14.6270 - mae: 14.6270\n",
            "Epoch 256/500\n",
            "2/2 [==============================] - 0s 13ms/step - loss: 9.3073 - mae: 9.3073\n",
            "Epoch 257/500\n",
            "2/2 [==============================] - 0s 13ms/step - loss: 13.1116 - mae: 13.1116\n",
            "Epoch 258/500\n",
            "2/2 [==============================] - 0s 9ms/step - loss: 7.4322 - mae: 7.4322\n",
            "Epoch 259/500\n",
            "2/2 [==============================] - 0s 9ms/step - loss: 18.2772 - mae: 18.2772\n",
            "Epoch 260/500\n",
            "2/2 [==============================] - 0s 13ms/step - loss: 25.7510 - mae: 25.7510\n",
            "Epoch 261/500\n",
            "2/2 [==============================] - 0s 16ms/step - loss: 9.4040 - mae: 9.4040\n",
            "Epoch 262/500\n",
            "2/2 [==============================] - 0s 15ms/step - loss: 8.5075 - mae: 8.5075\n",
            "Epoch 263/500\n",
            "2/2 [==============================] - 0s 11ms/step - loss: 8.0318 - mae: 8.0318\n",
            "Epoch 264/500\n",
            "2/2 [==============================] - 0s 15ms/step - loss: 17.8124 - mae: 17.8124\n",
            "Epoch 265/500\n",
            "2/2 [==============================] - 0s 15ms/step - loss: 12.2647 - mae: 12.2647\n",
            "Epoch 266/500\n",
            "2/2 [==============================] - 0s 19ms/step - loss: 13.6406 - mae: 13.6406\n",
            "Epoch 267/500\n",
            "2/2 [==============================] - 0s 13ms/step - loss: 11.2612 - mae: 11.2612\n",
            "Epoch 268/500\n",
            "2/2 [==============================] - 0s 13ms/step - loss: 19.6011 - mae: 19.6011\n",
            "Epoch 269/500\n",
            "2/2 [==============================] - 0s 22ms/step - loss: 39.3380 - mae: 39.3380\n",
            "Epoch 270/500\n",
            "2/2 [==============================] - 0s 11ms/step - loss: 12.0317 - mae: 12.0317\n",
            "Epoch 271/500\n",
            "2/2 [==============================] - 0s 18ms/step - loss: 14.3859 - mae: 14.3859\n",
            "Epoch 272/500\n",
            "2/2 [==============================] - 0s 18ms/step - loss: 27.7868 - mae: 27.7868\n",
            "Epoch 273/500\n",
            "2/2 [==============================] - 0s 16ms/step - loss: 8.2157 - mae: 8.2157\n",
            "Epoch 274/500\n",
            "2/2 [==============================] - 0s 20ms/step - loss: 6.4528 - mae: 6.4528\n",
            "Epoch 275/500\n",
            "2/2 [==============================] - 0s 20ms/step - loss: 34.7970 - mae: 34.7970\n",
            "Epoch 276/500\n",
            "2/2 [==============================] - 0s 18ms/step - loss: 8.0506 - mae: 8.0506\n",
            "Epoch 277/500\n",
            "2/2 [==============================] - 0s 28ms/step - loss: 25.9850 - mae: 25.9850\n",
            "Epoch 278/500\n",
            "2/2 [==============================] - 0s 16ms/step - loss: 11.3657 - mae: 11.3657\n",
            "Epoch 279/500\n",
            "2/2 [==============================] - 0s 14ms/step - loss: 16.1360 - mae: 16.1360\n",
            "Epoch 280/500\n",
            "2/2 [==============================] - 0s 16ms/step - loss: 21.2931 - mae: 21.2931\n",
            "Epoch 281/500\n",
            "2/2 [==============================] - 0s 13ms/step - loss: 23.6602 - mae: 23.6602\n",
            "Epoch 282/500\n",
            "2/2 [==============================] - 0s 13ms/step - loss: 8.2198 - mae: 8.2198\n",
            "Epoch 283/500\n",
            "2/2 [==============================] - 0s 13ms/step - loss: 8.4190 - mae: 8.4190\n",
            "Epoch 284/500\n",
            "2/2 [==============================] - 0s 14ms/step - loss: 26.5099 - mae: 26.5099\n",
            "Epoch 285/500\n",
            "2/2 [==============================] - 0s 12ms/step - loss: 14.1435 - mae: 14.1435\n",
            "Epoch 286/500\n",
            "2/2 [==============================] - 0s 21ms/step - loss: 6.0034 - mae: 6.0034\n",
            "Epoch 287/500\n",
            "2/2 [==============================] - 0s 12ms/step - loss: 18.9963 - mae: 18.9963\n",
            "Epoch 288/500\n",
            "2/2 [==============================] - 0s 19ms/step - loss: 32.8804 - mae: 32.8804\n",
            "Epoch 289/500\n",
            "2/2 [==============================] - 0s 14ms/step - loss: 8.3757 - mae: 8.3757\n",
            "Epoch 290/500\n",
            "2/2 [==============================] - 0s 12ms/step - loss: 16.8699 - mae: 16.8699\n",
            "Epoch 291/500\n",
            "2/2 [==============================] - 0s 13ms/step - loss: 17.2381 - mae: 17.2381\n",
            "Epoch 292/500\n",
            "2/2 [==============================] - 0s 14ms/step - loss: 10.8690 - mae: 10.8690\n",
            "Epoch 293/500\n",
            "2/2 [==============================] - 0s 18ms/step - loss: 14.5630 - mae: 14.5630\n",
            "Epoch 294/500\n",
            "2/2 [==============================] - 0s 17ms/step - loss: 21.7912 - mae: 21.7912\n",
            "Epoch 295/500\n",
            "2/2 [==============================] - 0s 14ms/step - loss: 20.0046 - mae: 20.0046\n",
            "Epoch 296/500\n",
            "2/2 [==============================] - 0s 15ms/step - loss: 7.0106 - mae: 7.0106\n",
            "Epoch 297/500\n",
            "2/2 [==============================] - 0s 17ms/step - loss: 9.0011 - mae: 9.0011\n",
            "Epoch 298/500\n",
            "2/2 [==============================] - 0s 20ms/step - loss: 24.2409 - mae: 24.2409\n",
            "Epoch 299/500\n",
            "2/2 [==============================] - 0s 14ms/step - loss: 17.9145 - mae: 17.9145\n",
            "Epoch 300/500\n",
            "2/2 [==============================] - 0s 17ms/step - loss: 7.0184 - mae: 7.0184\n",
            "Epoch 301/500\n",
            "2/2 [==============================] - 0s 13ms/step - loss: 25.4031 - mae: 25.4031\n",
            "Epoch 302/500\n",
            "2/2 [==============================] - 0s 14ms/step - loss: 9.4780 - mae: 9.4780\n",
            "Epoch 303/500\n",
            "2/2 [==============================] - 0s 15ms/step - loss: 14.4726 - mae: 14.4726\n",
            "Epoch 304/500\n",
            "2/2 [==============================] - 0s 13ms/step - loss: 10.8580 - mae: 10.8580\n",
            "Epoch 305/500\n",
            "2/2 [==============================] - 0s 12ms/step - loss: 12.7078 - mae: 12.7078\n",
            "Epoch 306/500\n",
            "2/2 [==============================] - 0s 20ms/step - loss: 8.2983 - mae: 8.2983\n",
            "Epoch 307/500\n",
            "2/2 [==============================] - 0s 9ms/step - loss: 13.1509 - mae: 13.1509\n",
            "Epoch 308/500\n",
            "2/2 [==============================] - 0s 18ms/step - loss: 8.1652 - mae: 8.1652\n",
            "Epoch 309/500\n",
            "2/2 [==============================] - 0s 18ms/step - loss: 11.8094 - mae: 11.8094\n",
            "Epoch 310/500\n",
            "2/2 [==============================] - 0s 11ms/step - loss: 6.3757 - mae: 6.3757\n",
            "Epoch 311/500\n",
            "2/2 [==============================] - 0s 13ms/step - loss: 4.9913 - mae: 4.9913\n",
            "Epoch 312/500\n",
            "2/2 [==============================] - 0s 17ms/step - loss: 29.2517 - mae: 29.2517\n",
            "Epoch 313/500\n",
            "2/2 [==============================] - 0s 13ms/step - loss: 9.0090 - mae: 9.0090\n",
            "Epoch 314/500\n",
            "2/2 [==============================] - 0s 12ms/step - loss: 5.7851 - mae: 5.7851\n",
            "Epoch 315/500\n",
            "2/2 [==============================] - 0s 14ms/step - loss: 24.9100 - mae: 24.9100\n",
            "Epoch 316/500\n",
            "2/2 [==============================] - 0s 15ms/step - loss: 14.2152 - mae: 14.2152\n",
            "Epoch 317/500\n",
            "2/2 [==============================] - 0s 10ms/step - loss: 19.6753 - mae: 19.6753\n",
            "Epoch 318/500\n",
            "2/2 [==============================] - 0s 13ms/step - loss: 7.8728 - mae: 7.8728\n",
            "Epoch 319/500\n",
            "2/2 [==============================] - 0s 15ms/step - loss: 17.8652 - mae: 17.8652\n",
            "Epoch 320/500\n",
            "2/2 [==============================] - 0s 14ms/step - loss: 10.1563 - mae: 10.1563\n",
            "Epoch 321/500\n",
            "2/2 [==============================] - 0s 19ms/step - loss: 8.2609 - mae: 8.2609\n",
            "Epoch 322/500\n",
            "2/2 [==============================] - 0s 14ms/step - loss: 4.3181 - mae: 4.3181\n",
            "Epoch 323/500\n",
            "2/2 [==============================] - 0s 19ms/step - loss: 23.7990 - mae: 23.7990\n",
            "Epoch 324/500\n",
            "2/2 [==============================] - 0s 17ms/step - loss: 6.8631 - mae: 6.8631\n",
            "Epoch 325/500\n",
            "2/2 [==============================] - 0s 11ms/step - loss: 16.5984 - mae: 16.5984\n",
            "Epoch 326/500\n",
            "2/2 [==============================] - 0s 11ms/step - loss: 7.5410 - mae: 7.5410\n",
            "Epoch 327/500\n",
            "2/2 [==============================] - 0s 8ms/step - loss: 20.3804 - mae: 20.3804\n",
            "Epoch 328/500\n",
            "2/2 [==============================] - 0s 7ms/step - loss: 13.6833 - mae: 13.6833\n",
            "Epoch 329/500\n",
            "2/2 [==============================] - 0s 9ms/step - loss: 16.7029 - mae: 16.7029\n",
            "Epoch 330/500\n",
            "2/2 [==============================] - 0s 9ms/step - loss: 7.0744 - mae: 7.0744\n",
            "Epoch 331/500\n",
            "2/2 [==============================] - 0s 13ms/step - loss: 21.8048 - mae: 21.8048\n",
            "Epoch 332/500\n",
            "2/2 [==============================] - 0s 15ms/step - loss: 12.7903 - mae: 12.7903\n",
            "Epoch 333/500\n",
            "2/2 [==============================] - 0s 16ms/step - loss: 9.3810 - mae: 9.3810\n",
            "Epoch 334/500\n",
            "2/2 [==============================] - 0s 13ms/step - loss: 7.5468 - mae: 7.5468\n",
            "Epoch 335/500\n",
            "2/2 [==============================] - 0s 16ms/step - loss: 6.1399 - mae: 6.1399\n",
            "Epoch 336/500\n",
            "2/2 [==============================] - 0s 18ms/step - loss: 38.3775 - mae: 38.3775\n",
            "Epoch 337/500\n",
            "2/2 [==============================] - 0s 27ms/step - loss: 29.6879 - mae: 29.6879\n",
            "Epoch 338/500\n",
            "2/2 [==============================] - 0s 18ms/step - loss: 16.1516 - mae: 16.1516\n",
            "Epoch 339/500\n",
            "2/2 [==============================] - 0s 10ms/step - loss: 9.6042 - mae: 9.6042\n",
            "Epoch 340/500\n",
            "2/2 [==============================] - 0s 20ms/step - loss: 8.5318 - mae: 8.5318\n",
            "Epoch 341/500\n",
            "2/2 [==============================] - 0s 24ms/step - loss: 21.7824 - mae: 21.7824\n",
            "Epoch 342/500\n",
            "2/2 [==============================] - 0s 17ms/step - loss: 14.0051 - mae: 14.0051\n",
            "Epoch 343/500\n",
            "2/2 [==============================] - 0s 15ms/step - loss: 11.4967 - mae: 11.4967\n",
            "Epoch 344/500\n",
            "2/2 [==============================] - 0s 16ms/step - loss: 10.5872 - mae: 10.5872\n",
            "Epoch 345/500\n",
            "2/2 [==============================] - 0s 15ms/step - loss: 30.8053 - mae: 30.8053\n",
            "Epoch 346/500\n",
            "2/2 [==============================] - 0s 13ms/step - loss: 10.5344 - mae: 10.5344\n",
            "Epoch 347/500\n",
            "2/2 [==============================] - 0s 19ms/step - loss: 25.3778 - mae: 25.3778\n",
            "Epoch 348/500\n",
            "2/2 [==============================] - 0s 36ms/step - loss: 13.8163 - mae: 13.8163\n",
            "Epoch 349/500\n",
            "2/2 [==============================] - 0s 12ms/step - loss: 13.6013 - mae: 13.6013\n",
            "Epoch 350/500\n",
            "2/2 [==============================] - 0s 14ms/step - loss: 15.4279 - mae: 15.4279\n",
            "Epoch 351/500\n",
            "2/2 [==============================] - 0s 14ms/step - loss: 33.0014 - mae: 33.0014\n",
            "Epoch 352/500\n",
            "2/2 [==============================] - 0s 13ms/step - loss: 14.2365 - mae: 14.2365\n",
            "Epoch 353/500\n",
            "2/2 [==============================] - 0s 15ms/step - loss: 15.9447 - mae: 15.9447\n",
            "Epoch 354/500\n",
            "2/2 [==============================] - 0s 19ms/step - loss: 19.1470 - mae: 19.1470\n",
            "Epoch 355/500\n",
            "2/2 [==============================] - 0s 28ms/step - loss: 33.9378 - mae: 33.9378\n",
            "Epoch 356/500\n",
            "2/2 [==============================] - 0s 12ms/step - loss: 7.5893 - mae: 7.5893\n",
            "Epoch 357/500\n",
            "2/2 [==============================] - 0s 18ms/step - loss: 25.1378 - mae: 25.1378\n",
            "Epoch 358/500\n",
            "2/2 [==============================] - 0s 15ms/step - loss: 22.5462 - mae: 22.5462\n",
            "Epoch 359/500\n",
            "2/2 [==============================] - 0s 31ms/step - loss: 9.4512 - mae: 9.4512\n",
            "Epoch 360/500\n",
            "2/2 [==============================] - 0s 20ms/step - loss: 20.6508 - mae: 20.6508\n",
            "Epoch 361/500\n",
            "2/2 [==============================] - 0s 32ms/step - loss: 10.0624 - mae: 10.0624\n",
            "Epoch 362/500\n",
            "2/2 [==============================] - 0s 15ms/step - loss: 6.9867 - mae: 6.9867\n",
            "Epoch 363/500\n",
            "2/2 [==============================] - 0s 31ms/step - loss: 26.0692 - mae: 26.0692\n",
            "Epoch 364/500\n",
            "2/2 [==============================] - 0s 11ms/step - loss: 32.5609 - mae: 32.5609\n",
            "Epoch 365/500\n",
            "2/2 [==============================] - 0s 18ms/step - loss: 10.4280 - mae: 10.4280\n",
            "Epoch 366/500\n",
            "2/2 [==============================] - 0s 12ms/step - loss: 11.7912 - mae: 11.7912\n",
            "Epoch 367/500\n",
            "2/2 [==============================] - 0s 11ms/step - loss: 30.0940 - mae: 30.0940\n",
            "Epoch 368/500\n",
            "2/2 [==============================] - 0s 13ms/step - loss: 9.7555 - mae: 9.7555\n",
            "Epoch 369/500\n",
            "2/2 [==============================] - 0s 15ms/step - loss: 14.9593 - mae: 14.9593\n",
            "Epoch 370/500\n",
            "2/2 [==============================] - 0s 14ms/step - loss: 14.6350 - mae: 14.6350\n",
            "Epoch 371/500\n",
            "2/2 [==============================] - 0s 13ms/step - loss: 23.3246 - mae: 23.3246\n",
            "Epoch 372/500\n",
            "2/2 [==============================] - 0s 16ms/step - loss: 13.1442 - mae: 13.1442\n",
            "Epoch 373/500\n",
            "2/2 [==============================] - 0s 11ms/step - loss: 9.5099 - mae: 9.5099\n",
            "Epoch 374/500\n",
            "2/2 [==============================] - 0s 12ms/step - loss: 11.4400 - mae: 11.4400\n",
            "Epoch 375/500\n",
            "2/2 [==============================] - 0s 50ms/step - loss: 13.3448 - mae: 13.3448\n",
            "Epoch 376/500\n",
            "2/2 [==============================] - 0s 35ms/step - loss: 15.2550 - mae: 15.2550\n",
            "Epoch 377/500\n",
            "2/2 [==============================] - 0s 43ms/step - loss: 15.2026 - mae: 15.2026\n",
            "Epoch 378/500\n",
            "2/2 [==============================] - 0s 11ms/step - loss: 16.3506 - mae: 16.3506\n",
            "Epoch 379/500\n",
            "2/2 [==============================] - 0s 10ms/step - loss: 21.0455 - mae: 21.0455\n",
            "Epoch 380/500\n",
            "2/2 [==============================] - 0s 8ms/step - loss: 32.8867 - mae: 32.8867\n",
            "Epoch 381/500\n",
            "2/2 [==============================] - 0s 9ms/step - loss: 7.9760 - mae: 7.9760\n",
            "Epoch 382/500\n",
            "2/2 [==============================] - 0s 12ms/step - loss: 12.7408 - mae: 12.7408\n",
            "Epoch 383/500\n",
            "2/2 [==============================] - 0s 16ms/step - loss: 8.5847 - mae: 8.5847\n",
            "Epoch 384/500\n",
            "2/2 [==============================] - 0s 9ms/step - loss: 6.8526 - mae: 6.8526\n",
            "Epoch 385/500\n",
            "2/2 [==============================] - 0s 17ms/step - loss: 10.9897 - mae: 10.9897\n",
            "Epoch 386/500\n",
            "2/2 [==============================] - 0s 12ms/step - loss: 19.9209 - mae: 19.9209\n",
            "Epoch 387/500\n",
            "2/2 [==============================] - 0s 10ms/step - loss: 24.4960 - mae: 24.4960\n",
            "Epoch 388/500\n",
            "2/2 [==============================] - 0s 18ms/step - loss: 8.5234 - mae: 8.5234\n",
            "Epoch 389/500\n",
            "2/2 [==============================] - 0s 10ms/step - loss: 5.8290 - mae: 5.8290\n",
            "Epoch 390/500\n",
            "2/2 [==============================] - 0s 10ms/step - loss: 24.1189 - mae: 24.1189\n",
            "Epoch 391/500\n",
            "2/2 [==============================] - 0s 18ms/step - loss: 5.8400 - mae: 5.8400\n",
            "Epoch 392/500\n",
            "2/2 [==============================] - 0s 23ms/step - loss: 16.0779 - mae: 16.0779\n",
            "Epoch 393/500\n",
            "2/2 [==============================] - 0s 29ms/step - loss: 4.4911 - mae: 4.4911\n",
            "Epoch 394/500\n",
            "2/2 [==============================] - 0s 25ms/step - loss: 19.1352 - mae: 19.1352\n",
            "Epoch 395/500\n",
            "2/2 [==============================] - 0s 21ms/step - loss: 15.2096 - mae: 15.2096\n",
            "Epoch 396/500\n",
            "2/2 [==============================] - 0s 18ms/step - loss: 7.0720 - mae: 7.0720\n",
            "Epoch 397/500\n",
            "2/2 [==============================] - 0s 24ms/step - loss: 6.8461 - mae: 6.8461\n",
            "Epoch 398/500\n",
            "2/2 [==============================] - 0s 19ms/step - loss: 24.0075 - mae: 24.0075\n",
            "Epoch 399/500\n",
            "2/2 [==============================] - 0s 22ms/step - loss: 6.3255 - mae: 6.3255\n",
            "Epoch 400/500\n",
            "2/2 [==============================] - 0s 11ms/step - loss: 24.4497 - mae: 24.4497\n",
            "Epoch 401/500\n",
            "2/2 [==============================] - 0s 11ms/step - loss: 12.9174 - mae: 12.9174\n",
            "Epoch 402/500\n",
            "2/2 [==============================] - 0s 32ms/step - loss: 21.6855 - mae: 21.6855\n",
            "Epoch 403/500\n",
            "2/2 [==============================] - 0s 24ms/step - loss: 22.2765 - mae: 22.2765\n",
            "Epoch 404/500\n",
            "2/2 [==============================] - 0s 13ms/step - loss: 14.2654 - mae: 14.2654\n",
            "Epoch 405/500\n",
            "2/2 [==============================] - 0s 12ms/step - loss: 4.7068 - mae: 4.7068\n",
            "Epoch 406/500\n",
            "2/2 [==============================] - 0s 15ms/step - loss: 26.0947 - mae: 26.0947\n",
            "Epoch 407/500\n",
            "2/2 [==============================] - 0s 21ms/step - loss: 12.3194 - mae: 12.3194\n",
            "Epoch 408/500\n",
            "2/2 [==============================] - 0s 19ms/step - loss: 5.5774 - mae: 5.5774\n",
            "Epoch 409/500\n",
            "2/2 [==============================] - 0s 19ms/step - loss: 30.6608 - mae: 30.6608\n",
            "Epoch 410/500\n",
            "2/2 [==============================] - 0s 18ms/step - loss: 9.7144 - mae: 9.7144\n",
            "Epoch 411/500\n",
            "2/2 [==============================] - 0s 11ms/step - loss: 14.6271 - mae: 14.6271\n",
            "Epoch 412/500\n",
            "2/2 [==============================] - 0s 16ms/step - loss: 21.3369 - mae: 21.3369\n",
            "Epoch 413/500\n",
            "2/2 [==============================] - 0s 17ms/step - loss: 13.5280 - mae: 13.5280\n",
            "Epoch 414/500\n",
            "2/2 [==============================] - 0s 12ms/step - loss: 7.6667 - mae: 7.6667\n",
            "Epoch 415/500\n",
            "2/2 [==============================] - 0s 18ms/step - loss: 12.1446 - mae: 12.1446\n",
            "Epoch 416/500\n",
            "2/2 [==============================] - 0s 10ms/step - loss: 25.7774 - mae: 25.7774\n",
            "Epoch 417/500\n",
            "2/2 [==============================] - 0s 10ms/step - loss: 15.3141 - mae: 15.3141\n",
            "Epoch 418/500\n",
            "2/2 [==============================] - 0s 12ms/step - loss: 12.6934 - mae: 12.6934\n",
            "Epoch 419/500\n",
            "2/2 [==============================] - 0s 13ms/step - loss: 15.7830 - mae: 15.7830\n",
            "Epoch 420/500\n",
            "2/2 [==============================] - 0s 18ms/step - loss: 24.5757 - mae: 24.5757\n",
            "Epoch 421/500\n",
            "2/2 [==============================] - 0s 15ms/step - loss: 17.8989 - mae: 17.8989\n",
            "Epoch 422/500\n",
            "2/2 [==============================] - 0s 15ms/step - loss: 8.6356 - mae: 8.6356\n",
            "Epoch 423/500\n",
            "2/2 [==============================] - 0s 8ms/step - loss: 24.7608 - mae: 24.7608\n",
            "Epoch 424/500\n",
            "2/2 [==============================] - 0s 8ms/step - loss: 16.5974 - mae: 16.5974\n",
            "Epoch 425/500\n",
            "2/2 [==============================] - 0s 15ms/step - loss: 7.1925 - mae: 7.1925\n",
            "Epoch 426/500\n",
            "2/2 [==============================] - 0s 9ms/step - loss: 20.7564 - mae: 20.7564\n",
            "Epoch 427/500\n",
            "2/2 [==============================] - 0s 13ms/step - loss: 6.3799 - mae: 6.3799\n",
            "Epoch 428/500\n",
            "2/2 [==============================] - 0s 12ms/step - loss: 13.3167 - mae: 13.3167\n",
            "Epoch 429/500\n",
            "2/2 [==============================] - 0s 8ms/step - loss: 11.0620 - mae: 11.0620\n",
            "Epoch 430/500\n",
            "2/2 [==============================] - 0s 11ms/step - loss: 11.9543 - mae: 11.9543\n",
            "Epoch 431/500\n",
            "2/2 [==============================] - 0s 22ms/step - loss: 8.5175 - mae: 8.5175\n",
            "Epoch 432/500\n",
            "2/2 [==============================] - 0s 14ms/step - loss: 18.7325 - mae: 18.7325\n",
            "Epoch 433/500\n",
            "2/2 [==============================] - 0s 31ms/step - loss: 10.0925 - mae: 10.0925\n",
            "Epoch 434/500\n",
            "2/2 [==============================] - 0s 10ms/step - loss: 30.6186 - mae: 30.6186\n",
            "Epoch 435/500\n",
            "2/2 [==============================] - 0s 14ms/step - loss: 11.1136 - mae: 11.1136\n",
            "Epoch 436/500\n",
            "2/2 [==============================] - 0s 32ms/step - loss: 28.7014 - mae: 28.7014\n",
            "Epoch 437/500\n",
            "2/2 [==============================] - 0s 15ms/step - loss: 7.4673 - mae: 7.4673\n",
            "Epoch 438/500\n",
            "2/2 [==============================] - 0s 11ms/step - loss: 13.1158 - mae: 13.1158\n",
            "Epoch 439/500\n",
            "2/2 [==============================] - 0s 25ms/step - loss: 34.0849 - mae: 34.0849\n",
            "Epoch 440/500\n",
            "2/2 [==============================] - 0s 20ms/step - loss: 15.6628 - mae: 15.6628\n",
            "Epoch 441/500\n",
            "2/2 [==============================] - 0s 25ms/step - loss: 18.2026 - mae: 18.2026\n",
            "Epoch 442/500\n",
            "2/2 [==============================] - 0s 17ms/step - loss: 27.3563 - mae: 27.3563\n",
            "Epoch 443/500\n",
            "2/2 [==============================] - 0s 10ms/step - loss: 10.4160 - mae: 10.4160\n",
            "Epoch 444/500\n",
            "2/2 [==============================] - 0s 19ms/step - loss: 6.2513 - mae: 6.2513\n",
            "Epoch 445/500\n",
            "2/2 [==============================] - 0s 9ms/step - loss: 7.8109 - mae: 7.8109\n",
            "Epoch 446/500\n",
            "2/2 [==============================] - 0s 17ms/step - loss: 15.9081 - mae: 15.9081\n",
            "Epoch 447/500\n",
            "2/2 [==============================] - 0s 8ms/step - loss: 15.1309 - mae: 15.1309\n",
            "Epoch 448/500\n",
            "2/2 [==============================] - 0s 19ms/step - loss: 11.9184 - mae: 11.9184\n",
            "Epoch 449/500\n",
            "2/2 [==============================] - 0s 12ms/step - loss: 15.0456 - mae: 15.0456\n",
            "Epoch 450/500\n",
            "2/2 [==============================] - 0s 17ms/step - loss: 17.7801 - mae: 17.7801\n",
            "Epoch 451/500\n",
            "2/2 [==============================] - 0s 16ms/step - loss: 11.1766 - mae: 11.1766\n",
            "Epoch 452/500\n",
            "2/2 [==============================] - 0s 8ms/step - loss: 31.2056 - mae: 31.2056\n",
            "Epoch 453/500\n",
            "2/2 [==============================] - 0s 10ms/step - loss: 10.4769 - mae: 10.4769\n",
            "Epoch 454/500\n",
            "2/2 [==============================] - 0s 12ms/step - loss: 26.7168 - mae: 26.7168\n",
            "Epoch 455/500\n",
            "2/2 [==============================] - 0s 8ms/step - loss: 12.6929 - mae: 12.6929\n",
            "Epoch 456/500\n",
            "2/2 [==============================] - 0s 13ms/step - loss: 15.2005 - mae: 15.2005\n",
            "Epoch 457/500\n",
            "2/2 [==============================] - 0s 19ms/step - loss: 18.8003 - mae: 18.8003\n",
            "Epoch 458/500\n",
            "2/2 [==============================] - 0s 15ms/step - loss: 24.0439 - mae: 24.0439\n",
            "Epoch 459/500\n",
            "2/2 [==============================] - 0s 14ms/step - loss: 17.3692 - mae: 17.3692\n",
            "Epoch 460/500\n",
            "2/2 [==============================] - 0s 11ms/step - loss: 4.6660 - mae: 4.6660\n",
            "Epoch 461/500\n",
            "2/2 [==============================] - 0s 9ms/step - loss: 17.0587 - mae: 17.0587\n",
            "Epoch 462/500\n",
            "2/2 [==============================] - 0s 18ms/step - loss: 13.9625 - mae: 13.9625\n",
            "Epoch 463/500\n",
            "2/2 [==============================] - 0s 18ms/step - loss: 30.5068 - mae: 30.5068\n",
            "Epoch 464/500\n",
            "2/2 [==============================] - 0s 11ms/step - loss: 9.2889 - mae: 9.2889\n",
            "Epoch 465/500\n",
            "2/2 [==============================] - 0s 18ms/step - loss: 20.5692 - mae: 20.5692\n",
            "Epoch 466/500\n",
            "2/2 [==============================] - 0s 32ms/step - loss: 27.2294 - mae: 27.2294\n",
            "Epoch 467/500\n",
            "2/2 [==============================] - 0s 28ms/step - loss: 16.8146 - mae: 16.8146\n",
            "Epoch 468/500\n",
            "2/2 [==============================] - 0s 12ms/step - loss: 10.2798 - mae: 10.2798\n",
            "Epoch 469/500\n",
            "2/2 [==============================] - 0s 13ms/step - loss: 27.1197 - mae: 27.1197\n",
            "Epoch 470/500\n",
            "2/2 [==============================] - 0s 27ms/step - loss: 13.1424 - mae: 13.1424\n",
            "Epoch 471/500\n",
            "2/2 [==============================] - 0s 17ms/step - loss: 10.9486 - mae: 10.9486\n",
            "Epoch 472/500\n",
            "2/2 [==============================] - 0s 18ms/step - loss: 15.2620 - mae: 15.2620\n",
            "Epoch 473/500\n",
            "2/2 [==============================] - 0s 9ms/step - loss: 19.0092 - mae: 19.0092\n",
            "Epoch 474/500\n",
            "2/2 [==============================] - 0s 28ms/step - loss: 39.8547 - mae: 39.8547\n",
            "Epoch 475/500\n",
            "2/2 [==============================] - 0s 12ms/step - loss: 16.4195 - mae: 16.4195\n",
            "Epoch 476/500\n",
            "2/2 [==============================] - 0s 14ms/step - loss: 13.3964 - mae: 13.3964\n",
            "Epoch 477/500\n",
            "2/2 [==============================] - 0s 12ms/step - loss: 29.6611 - mae: 29.6611\n",
            "Epoch 478/500\n",
            "2/2 [==============================] - 0s 37ms/step - loss: 3.0689 - mae: 3.0689\n",
            "Epoch 479/500\n",
            "2/2 [==============================] - 0s 16ms/step - loss: 6.0353 - mae: 6.0353\n",
            "Epoch 480/500\n",
            "2/2 [==============================] - 0s 14ms/step - loss: 19.6721 - mae: 19.6721\n",
            "Epoch 481/500\n",
            "2/2 [==============================] - 0s 12ms/step - loss: 10.8923 - mae: 10.8923\n",
            "Epoch 482/500\n",
            "2/2 [==============================] - 0s 9ms/step - loss: 18.3693 - mae: 18.3693\n",
            "Epoch 483/500\n",
            "2/2 [==============================] - 0s 19ms/step - loss: 19.9762 - mae: 19.9762\n",
            "Epoch 484/500\n",
            "2/2 [==============================] - 0s 25ms/step - loss: 18.1457 - mae: 18.1457\n",
            "Epoch 485/500\n",
            "2/2 [==============================] - 0s 15ms/step - loss: 7.8671 - mae: 7.8671\n",
            "Epoch 486/500\n",
            "2/2 [==============================] - 0s 12ms/step - loss: 19.3997 - mae: 19.3997\n",
            "Epoch 487/500\n",
            "2/2 [==============================] - 0s 16ms/step - loss: 12.5196 - mae: 12.5196\n",
            "Epoch 488/500\n",
            "2/2 [==============================] - 0s 20ms/step - loss: 10.8931 - mae: 10.8931\n",
            "Epoch 489/500\n",
            "2/2 [==============================] - 0s 25ms/step - loss: 15.9784 - mae: 15.9784\n",
            "Epoch 490/500\n",
            "2/2 [==============================] - 0s 12ms/step - loss: 14.2279 - mae: 14.2279\n",
            "Epoch 491/500\n",
            "2/2 [==============================] - 0s 14ms/step - loss: 26.2664 - mae: 26.2664\n",
            "Epoch 492/500\n",
            "2/2 [==============================] - 0s 15ms/step - loss: 14.0096 - mae: 14.0096\n",
            "Epoch 493/500\n",
            "2/2 [==============================] - 0s 53ms/step - loss: 10.2589 - mae: 10.2589\n",
            "Epoch 494/500\n",
            "2/2 [==============================] - 0s 31ms/step - loss: 12.8226 - mae: 12.8226\n",
            "Epoch 495/500\n",
            "2/2 [==============================] - 0s 13ms/step - loss: 13.8146 - mae: 13.8146\n",
            "Epoch 496/500\n",
            "2/2 [==============================] - 0s 20ms/step - loss: 12.9863 - mae: 12.9863\n",
            "Epoch 497/500\n",
            "2/2 [==============================] - 0s 18ms/step - loss: 18.1905 - mae: 18.1905\n",
            "Epoch 498/500\n",
            "2/2 [==============================] - 0s 21ms/step - loss: 22.2569 - mae: 22.2569\n",
            "Epoch 499/500\n",
            "2/2 [==============================] - 0s 46ms/step - loss: 8.1310 - mae: 8.1310\n",
            "Epoch 500/500\n",
            "2/2 [==============================] - 0s 20ms/step - loss: 14.1808 - mae: 14.1808\n"
          ]
        },
        {
          "output_type": "execute_result",
          "data": {
            "text/plain": [
              "<keras.src.callbacks.History at 0x78456099ca90>"
            ]
          },
          "metadata": {},
          "execution_count": 58
        }
      ]
    },
    {
      "cell_type": "code",
      "source": [
        "# Make and plot predictions for model_3\n",
        "y_preds_3 = model_3.predict(X_test)\n",
        "plot_predictions(predictions=y_preds_3)"
      ],
      "metadata": {
        "colab": {
          "base_uri": "https://localhost:8080/",
          "height": 617
        },
        "id": "ti0g6o8rWxcn",
        "outputId": "b4b003d6-2a2b-48cd-b240-0fd096300de8"
      },
      "execution_count": null,
      "outputs": [
        {
          "output_type": "stream",
          "name": "stdout",
          "text": [
            "1/1 [==============================] - 0s 290ms/step\n"
          ]
        },
        {
          "output_type": "display_data",
          "data": {
            "text/plain": [
              "<Figure size 1000x700 with 1 Axes>"
            ],
            "image/png": "[encoded data removed]"
          },
          "metadata": {}
        }
      ]
    },
    {
      "cell_type": "code",
      "source": [
        "# Calculate evaluation metrics\n",
        "mae_3 = mae(y_test, y_preds_3)\n",
        "mse_3 = mse(y_test, y_preds_3)"
      ],
      "metadata": {
        "id": "DxBVP2DLXFGZ"
      },
      "execution_count": null,
      "outputs": []
    },
    {
      "cell_type": "code",
      "source": [
        "mae_3, mse_3"
      ],
      "metadata": {
        "colab": {
          "base_uri": "https://localhost:8080/"
        },
        "id": "0JXabLLDXPRA",
        "outputId": "abc14c1f-74a2-4a13-a35c-e1edc8c2d38b"
      },
      "execution_count": null,
      "outputs": [
        {
          "output_type": "execute_result",
          "data": {
            "text/plain": [
              "(<tf.Tensor: shape=(), dtype=float32, numpy=67.24784>,\n",
              " <tf.Tensor: shape=(), dtype=float32, numpy=4604.986>)"
            ]
          },
          "metadata": {},
          "execution_count": 61
        }
      ]
    },
    {
      "cell_type": "markdown",
      "source": [
        "**Note:** You want to start with small experiments (small models) and sure they work and then increase their scale when necessary"
      ],
      "metadata": {
        "id": "7pRD93me7FIb"
      }
    },
    {
      "cell_type": "markdown",
      "source": [
        "### Comparing the results of our experiments\n",
        "\n",
        "We've run a few experiments, let's compare the results"
      ],
      "metadata": {
        "id": "7wAgrLS6XRUY"
      }
    },
    {
      "cell_type": "code",
      "source": [
        "# Let's compare our model's results using a pandas DataFrame\n",
        "import pandas as pd\n",
        "\n",
        "model_results = [[\"model_1\", mae_1.numpy(), mse_1.numpy()],\n",
        "                 [\"model_2\", mae_2.numpy(), mse_2.numpy()],\n",
        "                 [\"model_3\", mae_3.numpy(), mse_3.numpy()]]\n",
        "\n",
        "all_results = pd.DataFrame(model_results, columns=[\"model\", \"mae\", \"mse\"])\n",
        "all_results"
      ],
      "metadata": {
        "id": "bd3nZGcFX80w",
        "colab": {
          "base_uri": "https://localhost:8080/",
          "height": 143
        },
        "outputId": "a2e87e34-ec82-425d-e622-b34da54c864e"
      },
      "execution_count": null,
      "outputs": [
        {
          "output_type": "execute_result",
          "data": {
            "text/plain": [
              "     model        mae          mse\n",
              "0  model_1   8.539748    79.400894\n",
              "1  model_2   1.974910     5.790709\n",
              "2  model_3  67.247841  4604.985840"
            ],
            "text/html": [
              "\n",
              "  <div id=\"df-bacf5d03-9fdc-4e1f-944b-8e04d297bfed\" class=\"colab-df-container\">\n",
              "    <div>\n",
              "<style scoped>\n",
              "    .dataframe tbody tr th:only-of-type {\n",
              "        vertical-align: middle;\n",
              "    }\n",
              "\n",
              "    .dataframe tbody tr th {\n",
              "        vertical-align: top;\n",
              "    }\n",
              "\n",
              "    .dataframe thead th {\n",
              "        text-align: right;\n",
              "    }\n",
              "</style>\n",
              "<table border=\"1\" class=\"dataframe\">\n",
              "  <thead>\n",
              "    <tr style=\"text-align: right;\">\n",
              "      <th></th>\n",
              "      <th>model</th>\n",
              "      <th>mae</th>\n",
              "      <th>mse</th>\n",
              "    </tr>\n",
              "  </thead>\n",
              "  <tbody>\n",
              "    <tr>\n",
              "      <th>0</th>\n",
              "      <td>model_1</td>\n",
              "      <td>8.539748</td>\n",
              "      <td>79.400894</td>\n",
              "    </tr>\n",
              "    <tr>\n",
              "      <th>1</th>\n",
              "      <td>model_2</td>\n",
              "      <td>1.974910</td>\n",
              "      <td>5.790709</td>\n",
              "    </tr>\n",
              "    <tr>\n",
              "      <th>2</th>\n",
              "      <td>model_3</td>\n",
              "      <td>67.247841</td>\n",
              "      <td>4604.985840</td>\n",
              "    </tr>\n",
              "  </tbody>\n",
              "</table>\n",
              "</div>\n",
              "    <div class=\"colab-df-buttons\">\n",
              "\n",
              "  <div class=\"colab-df-container\">\n",
              "    <button class=\"colab-df-convert\" onclick=\"convertToInteractive('df-bacf5d03-9fdc-4e1f-944b-8e04d297bfed')\"\n",
              "            title=\"Convert this dataframe to an interactive table.\"\n",
              "            style=\"display:none;\">\n",
              "\n",
              "  <svg xmlns=\"http://www.w3.org/2000/svg\" height=\"24px\" viewBox=\"0 -960 960 960\">\n",
              "    <path d=\"M120-120v-720h720v720H120Zm60-500h600v-160H180v160Zm220 220h160v-160H400v160Zm0 220h160v-160H400v160ZM180-400h160v-160H180v160Zm440 0h160v-160H620v160ZM180-180h160v-160H180v160Zm440 0h160v-160H620v160Z\"/>\n",
              "  </svg>\n",
              "    </button>\n",
              "\n",
              "  <style>\n",
              "    .colab-df-container {\n",
              "      display:flex;\n",
              "      gap: 12px;\n",
              "    }\n",
              "\n",
              "    .colab-df-convert {\n",
              "      background-color: #E8F0FE;\n",
              "      border: none;\n",
              "      border-radius: 50%;\n",
              "      cursor: pointer;\n",
              "      display: none;\n",
              "      fill: #1967D2;\n",
              "      height: 32px;\n",
              "      padding: 0 0 0 0;\n",
              "      width: 32px;\n",
              "    }\n",
              "\n",
              "    .colab-df-convert:hover {\n",
              "      background-color: #E2EBFA;\n",
              "      box-shadow: 0px 1px 2px rgba(60, 64, 67, 0.3), 0px 1px 3px 1px rgba(60, 64, 67, 0.15);\n",
              "      fill: #174EA6;\n",
              "    }\n",
              "\n",
              "    .colab-df-buttons div {\n",
              "      margin-bottom: 4px;\n",
              "    }\n",
              "\n",
              "    [theme=dark] .colab-df-convert {\n",
              "      background-color: #3B4455;\n",
              "      fill: #D2E3FC;\n",
              "    }\n",
              "\n",
              "    [theme=dark] .colab-df-convert:hover {\n",
              "      background-color: #434B5C;\n",
              "      box-shadow: 0px 1px 3px 1px rgba(0, 0, 0, 0.15);\n",
              "      filter: drop-shadow(0px 1px 2px rgba(0, 0, 0, 0.3));\n",
              "      fill: #FFFFFF;\n",
              "    }\n",
              "  </style>\n",
              "\n",
              "    <script>\n",
              "      const buttonEl =\n",
              "        document.querySelector('#df-bacf5d03-9fdc-4e1f-944b-8e04d297bfed button.colab-df-convert');\n",
              "      buttonEl.style.display =\n",
              "        google.colab.kernel.accessAllowed ? 'block' : 'none';\n",
              "\n",
              "      async function convertToInteractive(key) {\n",
              "        const element = document.querySelector('#df-bacf5d03-9fdc-4e1f-944b-8e04d297bfed');\n",
              "        const dataTable =\n",
              "          await google.colab.kernel.invokeFunction('convertToInteractive',\n",
              "                                                    [key], {});\n",
              "        if (!dataTable) return;\n",
              "\n",
              "        const docLinkHtml = 'Like what you see? Visit the ' +\n",
              "          '<a target=\"_blank\" href=https://colab.research.google.com/notebooks/data_table.ipynb>data table notebook</a>'\n",
              "          + ' to learn more about interactive tables.';\n",
              "        element.innerHTML = '';\n",
              "        dataTable['output_type'] = 'display_data';\n",
              "        await google.colab.output.renderOutput(dataTable, element);\n",
              "        const docLink = document.createElement('div');\n",
              "        docLink.innerHTML = docLinkHtml;\n",
              "        element.appendChild(docLink);\n",
              "      }\n",
              "    </script>\n",
              "  </div>\n",
              "\n",
              "\n",
              "<div id=\"df-276a491b-4830-47b9-9e4c-1859887740f6\">\n",
              "  <button class=\"colab-df-quickchart\" onclick=\"quickchart('df-276a491b-4830-47b9-9e4c-1859887740f6')\"\n",
              "            title=\"Suggest charts.\"\n",
              "            style=\"display:none;\">\n",
              "\n",
              "<svg xmlns=\"http://www.w3.org/2000/svg\" height=\"24px\"viewBox=\"0 0 24 24\"\n",
              "     width=\"24px\">\n",
              "    <g>\n",
              "        <path d=\"M19 3H5c-1.1 0-2 .9-2 2v14c0 1.1.9 2 2 2h14c1.1 0 2-.9 2-2V5c0-1.1-.9-2-2-2zM9 17H7v-7h2v7zm4 0h-2V7h2v10zm4 0h-2v-4h2v4z\"/>\n",
              "    </g>\n",
              "</svg>\n",
              "  </button>\n",
              "\n",
              "<style>\n",
              "  .colab-df-quickchart {\n",
              "      --bg-color: #E8F0FE;\n",
              "      --fill-color: #1967D2;\n",
              "      --hover-bg-color: #E2EBFA;\n",
              "      --hover-fill-color: #174EA6;\n",
              "      --disabled-fill-color: #AAA;\n",
              "      --disabled-bg-color: #DDD;\n",
              "  }\n",
              "\n",
              "  [theme=dark] .colab-df-quickchart {\n",
              "      --bg-color: #3B4455;\n",
              "      --fill-color: #D2E3FC;\n",
              "      --hover-bg-color: #434B5C;\n",
              "      --hover-fill-color: #FFFFFF;\n",
              "      --disabled-bg-color: #3B4455;\n",
              "      --disabled-fill-color: #666;\n",
              "  }\n",
              "\n",
              "  .colab-df-quickchart {\n",
              "    background-color: var(--bg-color);\n",
              "    border: none;\n",
              "    border-radius: 50%;\n",
              "    cursor: pointer;\n",
              "    display: none;\n",
              "    fill: var(--fill-color);\n",
              "    height: 32px;\n",
              "    padding: 0;\n",
              "    width: 32px;\n",
              "  }\n",
              "\n",
              "  .colab-df-quickchart:hover {\n",
              "    background-color: var(--hover-bg-color);\n",
              "    box-shadow: 0 1px 2px rgba(60, 64, 67, 0.3), 0 1px 3px 1px rgba(60, 64, 67, 0.15);\n",
              "    fill: var(--button-hover-fill-color);\n",
              "  }\n",
              "\n",
              "  .colab-df-quickchart-complete:disabled,\n",
              "  .colab-df-quickchart-complete:disabled:hover {\n",
              "    background-color: var(--disabled-bg-color);\n",
              "    fill: var(--disabled-fill-color);\n",
              "    box-shadow: none;\n",
              "  }\n",
              "\n",
              "  .colab-df-spinner {\n",
              "    border: 2px solid var(--fill-color);\n",
              "    border-color: transparent;\n",
              "    border-bottom-color: var(--fill-color);\n",
              "    animation:\n",
              "      spin 1s steps(1) infinite;\n",
              "  }\n",
              "\n",
              "  @keyframes spin {\n",
              "    0% {\n",
              "      border-color: transparent;\n",
              "      border-bottom-color: var(--fill-color);\n",
              "      border-left-color: var(--fill-color);\n",
              "    }\n",
              "    20% {\n",
              "      border-color: transparent;\n",
              "      border-left-color: var(--fill-color);\n",
              "      border-top-color: var(--fill-color);\n",
              "    }\n",
              "    30% {\n",
              "      border-color: transparent;\n",
              "      border-left-color: var(--fill-color);\n",
              "      border-top-color: var(--fill-color);\n",
              "      border-right-color: var(--fill-color);\n",
              "    }\n",
              "    40% {\n",
              "      border-color: transparent;\n",
              "      border-right-color: var(--fill-color);\n",
              "      border-top-color: var(--fill-color);\n",
              "    }\n",
              "    60% {\n",
              "      border-color: transparent;\n",
              "      border-right-color: var(--fill-color);\n",
              "    }\n",
              "    80% {\n",
              "      border-color: transparent;\n",
              "      border-right-color: var(--fill-color);\n",
              "      border-bottom-color: var(--fill-color);\n",
              "    }\n",
              "    90% {\n",
              "      border-color: transparent;\n",
              "      border-bottom-color: var(--fill-color);\n",
              "    }\n",
              "  }\n",
              "</style>\n",
              "\n",
              "  <script>\n",
              "    async function quickchart(key) {\n",
              "      const quickchartButtonEl =\n",
              "        document.querySelector('#' + key + ' button');\n",
              "      quickchartButtonEl.disabled = true;  // To prevent multiple clicks.\n",
              "      quickchartButtonEl.classList.add('colab-df-spinner');\n",
              "      try {\n",
              "        const charts = await google.colab.kernel.invokeFunction(\n",
              "            'suggestCharts', [key], {});\n",
              "      } catch (error) {\n",
              "        console.error('Error during call to suggestCharts:', error);\n",
              "      }\n",
              "      quickchartButtonEl.classList.remove('colab-df-spinner');\n",
              "      quickchartButtonEl.classList.add('colab-df-quickchart-complete');\n",
              "    }\n",
              "    (() => {\n",
              "      let quickchartButtonEl =\n",
              "        document.querySelector('#df-276a491b-4830-47b9-9e4c-1859887740f6 button');\n",
              "      quickchartButtonEl.style.display =\n",
              "        google.colab.kernel.accessAllowed ? 'block' : 'none';\n",
              "    })();\n",
              "  </script>\n",
              "</div>\n",
              "    </div>\n",
              "  </div>\n"
            ]
          },
          "metadata": {},
          "execution_count": 63
        }
      ]
    },
    {
      "cell_type": "markdown",
      "source": [
        "Look's like `model_2` performed the best"
      ],
      "metadata": {
        "id": "3e0JnrTg8Lj9"
      }
    },
    {
      "cell_type": "code",
      "source": [
        "model_2.summary()"
      ],
      "metadata": {
        "colab": {
          "base_uri": "https://localhost:8080/"
        },
        "id": "845kQwn97wGO",
        "outputId": "f909859c-74ed-4430-97ca-27dd63d9dfa3"
      },
      "execution_count": null,
      "outputs": [
        {
          "output_type": "stream",
          "name": "stdout",
          "text": [
            "Model: \"sequential_6\"\n",
            "_________________________________________________________________\n",
            " Layer (type)                Output Shape              Param #   \n",
            "=================================================================\n",
            " dense_10 (Dense)            (None, 10)                20        \n",
            "                                                                 \n",
            " dense_11 (Dense)            (None, 1)                 11        \n",
            "                                                                 \n",
            "=================================================================\n",
            "Total params: 31 (124.00 Byte)\n",
            "Trainable params: 31 (124.00 Byte)\n",
            "Non-trainable params: 0 (0.00 Byte)\n",
            "_________________________________________________________________\n"
          ]
        }
      ]
    },
    {
      "cell_type": "markdown",
      "source": [
        "**Note:** One of your main goals should be to minimize the time between your experiments. The more experiments you do, the more things you'll figure out which don't work and in turn, get closer to figuring out what does work. Remember the machine learning practitioner's motto: \"experiment, experiment, experiment\""
      ],
      "metadata": {
        "id": "ASRS6vfz8PKc"
      }
    },
    {
      "cell_type": "markdown",
      "source": [
        "## Tracking your experiments\n",
        "\n",
        "One really good habit in machine learning modelling is to track the results of your experiments\n",
        "\n",
        "And when doing so, it can be tedious if you're running lots of experiments\n",
        "\n",
        "Luckily there are tools to help us\n",
        "\n",
        "**Resource:** As you build more models, you'll want to look into using:\n",
        "\n",
        "- TensorBoard - a component of the TensorFlow library to help track modelling experiments\n",
        "- Weights & Biases - a tool for tracking all kinds of machine learning experiments (plugs straight into TensorBoard)"
      ],
      "metadata": {
        "id": "abwPkqfW7-cM"
      }
    },
    {
      "cell_type": "markdown",
      "source": [
        "### Saving our models\n",
        "\n",
        "Saving our models allows us to use them outside of Google Colab (or wherever they were trained) such as a web application or a mobile app\n",
        "\n",
        "There are two main formats we can save our models to:\n",
        "\n",
        "1. the SavedModel format\n",
        "2. the HDF5 format"
      ],
      "metadata": {
        "id": "PTQ6L6VY83L3"
      }
    },
    {
      "cell_type": "code",
      "source": [
        "# Save model using the SavedModel format\n",
        "model_2.save(\"best_model_SavedModel_format\")"
      ],
      "metadata": {
        "id": "YgpWgQQ296xL"
      },
      "execution_count": null,
      "outputs": []
    },
    {
      "cell_type": "code",
      "source": [
        "# Save model using the HDF5 format\n",
        "model_2.save(\"best_model_HDF5_format.h5\")"
      ],
      "metadata": {
        "colab": {
          "base_uri": "https://localhost:8080/"
        },
        "id": "d6zdGnF9_4u-",
        "outputId": "3c5d92eb-4ce1-42bf-b3d8-aadf23529050"
      },
      "execution_count": null,
      "outputs": [
        {
          "output_type": "stream",
          "name": "stderr",
          "text": [
            "/usr/local/lib/python3.10/dist-packages/keras/src/engine/training.py:3000: UserWarning: You are saving your model as an HDF5 file via `model.save()`. This file format is considered legacy. We recommend using instead the native Keras format, e.g. `model.save('my_model.keras')`.\n",
            "  saving_api.save_model(\n"
          ]
        }
      ]
    },
    {
      "cell_type": "markdown",
      "source": [
        "## Loading in a saved model\n"
      ],
      "metadata": {
        "id": "jH8bKKcXAbNg"
      }
    },
    {
      "cell_type": "code",
      "source": [
        "# Load in the SavedModel format model\n",
        "loaded_SavedModel_format = tf.keras.models.load_model(\"/content/best_model_SavedModel_format\")\n",
        "loaded_SavedModel_format.summary()"
      ],
      "metadata": {
        "colab": {
          "base_uri": "https://localhost:8080/"
        },
        "id": "0G3AKs_YDS0M",
        "outputId": "91239830-b162-435c-e4f8-21c25a0a0c6f"
      },
      "execution_count": null,
      "outputs": [
        {
          "output_type": "stream",
          "name": "stdout",
          "text": [
            "Model: \"sequential_6\"\n",
            "_________________________________________________________________\n",
            " Layer (type)                Output Shape              Param #   \n",
            "=================================================================\n",
            " dense_10 (Dense)            (None, 10)                20        \n",
            "                                                                 \n",
            " dense_11 (Dense)            (None, 1)                 11        \n",
            "                                                                 \n",
            "=================================================================\n",
            "Total params: 31 (124.00 Byte)\n",
            "Trainable params: 31 (124.00 Byte)\n",
            "Non-trainable params: 0 (0.00 Byte)\n",
            "_________________________________________________________________\n"
          ]
        }
      ]
    },
    {
      "cell_type": "code",
      "source": [
        "model_2.summary()"
      ],
      "metadata": {
        "colab": {
          "base_uri": "https://localhost:8080/"
        },
        "id": "l8nKA45CDoPl",
        "outputId": "16de0ef3-139e-4ee6-d7ab-334093fb2c58"
      },
      "execution_count": null,
      "outputs": [
        {
          "output_type": "stream",
          "name": "stdout",
          "text": [
            "Model: \"sequential_6\"\n",
            "_________________________________________________________________\n",
            " Layer (type)                Output Shape              Param #   \n",
            "=================================================================\n",
            " dense_10 (Dense)            (None, 10)                20        \n",
            "                                                                 \n",
            " dense_11 (Dense)            (None, 1)                 11        \n",
            "                                                                 \n",
            "=================================================================\n",
            "Total params: 31 (124.00 Byte)\n",
            "Trainable params: 31 (124.00 Byte)\n",
            "Non-trainable params: 0 (0.00 Byte)\n",
            "_________________________________________________________________\n"
          ]
        }
      ]
    },
    {
      "cell_type": "code",
      "source": [
        "# Compare model_2 predictions with SavedModel format model predictions\n",
        "model_2_preds = model_2.predict(X_test)\n",
        "loaded_SavedModel_format_preds = loaded_SavedModel_format.predict(X_test)\n",
        "model_2_preds == loaded_SavedModel_format_preds"
      ],
      "metadata": {
        "colab": {
          "base_uri": "https://localhost:8080/"
        },
        "id": "1wmYRo8lDtOj",
        "outputId": "b5301a08-e71c-40cf-a201-dcec1fc2f1b0"
      },
      "execution_count": null,
      "outputs": [
        {
          "output_type": "stream",
          "name": "stdout",
          "text": [
            "1/1 [==============================] - 0s 72ms/step\n",
            "1/1 [==============================] - 0s 78ms/step\n"
          ]
        },
        {
          "output_type": "execute_result",
          "data": {
            "text/plain": [
              "array([[ True],\n",
              "       [ True],\n",
              "       [ True],\n",
              "       [ True],\n",
              "       [ True],\n",
              "       [ True],\n",
              "       [ True],\n",
              "       [ True],\n",
              "       [ True],\n",
              "       [ True]])"
            ]
          },
          "metadata": {},
          "execution_count": 72
        }
      ]
    },
    {
      "cell_type": "code",
      "source": [
        "# Load in a model using the .h5 format\n",
        "loaded_h5_model = tf.keras.models.load_model(\"/content/best_model_HDF5_format.h5\")\n",
        "loaded_h5_model.summary()"
      ],
      "metadata": {
        "colab": {
          "base_uri": "https://localhost:8080/"
        },
        "id": "uRxzsv4YEHH3",
        "outputId": "4fb19965-2149-409b-e268-f2c6c6d719b0"
      },
      "execution_count": null,
      "outputs": [
        {
          "output_type": "stream",
          "name": "stdout",
          "text": [
            "Model: \"sequential_6\"\n",
            "_________________________________________________________________\n",
            " Layer (type)                Output Shape              Param #   \n",
            "=================================================================\n",
            " dense_10 (Dense)            (None, 10)                20        \n",
            "                                                                 \n",
            " dense_11 (Dense)            (None, 1)                 11        \n",
            "                                                                 \n",
            "=================================================================\n",
            "Total params: 31 (124.00 Byte)\n",
            "Trainable params: 31 (124.00 Byte)\n",
            "Non-trainable params: 0 (0.00 Byte)\n",
            "_________________________________________________________________\n"
          ]
        }
      ]
    },
    {
      "cell_type": "code",
      "source": [
        "# Check to see if loaded .h5 model predictions match model_2\n",
        "model_2_preds = model_2.predict(X_test)\n",
        "loaded_h5_model_preds = loaded_h5_model.predict(X_test)\n",
        "model_2_preds == loaded_h5_model_preds"
      ],
      "metadata": {
        "colab": {
          "base_uri": "https://localhost:8080/"
        },
        "id": "iVWAudo4FNf7",
        "outputId": "f387ea33-ec42-4bb4-8131-21ecab05230e"
      },
      "execution_count": null,
      "outputs": [
        {
          "output_type": "stream",
          "name": "stdout",
          "text": [
            "1/1 [==============================] - 0s 85ms/step\n",
            "1/1 [==============================] - 0s 249ms/step\n"
          ]
        },
        {
          "output_type": "execute_result",
          "data": {
            "text/plain": [
              "array([[ True],\n",
              "       [ True],\n",
              "       [ True],\n",
              "       [ True],\n",
              "       [ True],\n",
              "       [ True],\n",
              "       [ True],\n",
              "       [ True],\n",
              "       [ True],\n",
              "       [ True]])"
            ]
          },
          "metadata": {},
          "execution_count": 76
        }
      ]
    },
    {
      "cell_type": "markdown",
      "source": [
        "## Download a model (or any other file from Google Colab)\n",
        "\n",
        "If you want to download your file from Google Colab:\n",
        "\n",
        "1. You can go to the \"files\" tab and and right click on the file you're after and click \"download\"\n",
        "\n",
        "2. Use code (see the cell below)\n",
        "\n",
        "3. Save it to Google Drive by connecting Google Drive and copying it there (see second code cell below)"
      ],
      "metadata": {
        "id": "aqoIIzCtFnkS"
      }
    },
    {
      "cell_type": "code",
      "source": [
        "# Download a file from Google Colab\n",
        "from google.colab import files\n",
        "files.download(\"/content/best_model_HDF5_format.h5\")"
      ],
      "metadata": {
        "colab": {
          "base_uri": "https://localhost:8080/",
          "height": 17
        },
        "id": "NkPs7kx_Hyzo",
        "outputId": "e01b5151-3695-43d8-e666-a5394666a464"
      },
      "execution_count": null,
      "outputs": [
        {
          "output_type": "display_data",
          "data": {
            "text/plain": [
              "<IPython.core.display.Javascript object>"
            ],
            "application/javascript": [
              "\n",
              "    async function download(id, filename, size) {\n",
              "      if (!google.colab.kernel.accessAllowed) {\n",
              "        return;\n",
              "      }\n",
              "      const div = document.createElement('div');\n",
              "      const label = document.createElement('label');\n",
              "      label.textContent = `Downloading \"${filename}\": `;\n",
              "      div.appendChild(label);\n",
              "      const progress = document.createElement('progress');\n",
              "      progress.max = size;\n",
              "      div.appendChild(progress);\n",
              "      document.body.appendChild(div);\n",
              "\n",
              "      const buffers = [];\n",
              "      let downloaded = 0;\n",
              "\n",
              "      const channel = await google.colab.kernel.comms.open(id);\n",
              "      // Send a message to notify the kernel that we're ready.\n",
              "      channel.send({})\n",
              "\n",
              "      for await (const message of channel.messages) {\n",
              "        // Send a message to notify the kernel that we're ready.\n",
              "        channel.send({})\n",
              "        if (message.buffers) {\n",
              "          for (const buffer of message.buffers) {\n",
              "            buffers.push(buffer);\n",
              "            downloaded += buffer.byteLength;\n",
              "            progress.value = downloaded;\n",
              "          }\n",
              "        }\n",
              "      }\n",
              "      const blob = new Blob(buffers, {type: 'application/binary'});\n",
              "      const a = document.createElement('a');\n",
              "      a.href = window.URL.createObjectURL(blob);\n",
              "      a.download = filename;\n",
              "      div.appendChild(a);\n",
              "      a.click();\n",
              "      div.remove();\n",
              "    }\n",
              "  "
            ]
          },
          "metadata": {}
        },
        {
          "output_type": "display_data",
          "data": {
            "text/plain": [
              "<IPython.core.display.Javascript object>"
            ],
            "application/javascript": [
              "download(\"download_1d8617fb-48d6-4dcc-b2da-7933c9e918b6\", \"best_model_HDF5_format.h5\", 21952)"
            ]
          },
          "metadata": {}
        }
      ]
    },
    {
      "cell_type": "code",
      "source": [
        "# Save a file from Google Colab to Google Drive (requires mounting Google Drive)\n",
        "!cp /content/best_model_HDF5_format.h5 /content/drive/MyDrive/Colab_Notebooks/Zero_to_Mastery"
      ],
      "metadata": {
        "id": "THWiyOQBIYax"
      },
      "execution_count": null,
      "outputs": []
    },
    {
      "cell_type": "code",
      "source": [],
      "metadata": {
        "id": "6o43lLliJK6j"
      },
      "execution_count": null,
      "outputs": []
    }
  ]
}